{
 "cells": [
  {
   "cell_type": "code",
   "execution_count": 1,
   "id": "772c98f9-3414-43aa-8cda-69c2b1dcb19b",
   "metadata": {
    "execution": {
     "iopub.execute_input": "2025-07-24T17:36:05.423117Z",
     "iopub.status.busy": "2025-07-24T17:36:05.423008Z",
     "iopub.status.idle": "2025-07-24T17:36:06.320774Z",
     "shell.execute_reply": "2025-07-24T17:36:06.319975Z",
     "shell.execute_reply.started": "2025-07-24T17:36:05.423107Z"
    }
   },
   "outputs": [],
   "source": [
    "%load_ext autoreload\n",
    "%autoreload 2\n",
    "\n",
    "from jaref_bot.db.postgres_manager import DBManager\n",
    "from jaref_bot.data.http_api import ExchangeManager, BybitRestAPI, OKXRestAPI, GateIORestAPI\n",
    "from jaref_bot.config.credentials import host, user, password, db_name\n",
    "\n",
    "import pandas as pd\n",
    "import numpy as np\n",
    "import polars as pl\n",
    "\n",
    "from datetime import datetime, timezone, UTC\n",
    "import requests\n",
    "from dataclasses import dataclass\n",
    "import hmac\n",
    "import hashlib\n",
    "import base64\n",
    "import json\n",
    "import random\n",
    "import string\n",
    "from time import sleep\n",
    "from decimal import Decimal\n",
    "import pickle\n",
    "\n",
    "db_params = {'host': host, 'user': user, 'password': password, 'dbname': db_name}\n",
    "db_manager = DBManager(db_params)"
   ]
  },
  {
   "cell_type": "code",
   "execution_count": null,
   "id": "e2113b3c-b92e-4064-b867-b8d02e2ff299",
   "metadata": {},
   "outputs": [],
   "source": []
  },
  {
   "cell_type": "code",
   "execution_count": null,
   "id": "87c9449c-f557-4e18-80b3-09159c34f066",
   "metadata": {},
   "outputs": [],
   "source": []
  },
  {
   "cell_type": "markdown",
   "id": "cfa30294-d2fd-427b-a8a7-6dcd7be57389",
   "metadata": {
    "jp-MarkdownHeadingCollapsed": true
   },
   "source": [
    "#### exchanges api"
   ]
  },
  {
   "cell_type": "code",
   "execution_count": null,
   "id": "5de10be6-0963-43bb-8f34-0ff6351e2410",
   "metadata": {},
   "outputs": [],
   "source": [
    "def get_missing_instr_info(exchange, market_type, symbol):\n",
    "    exc_dict = {'bybit': BybitRestAPI, 'okx': OKXRestAPI, 'gate': GateIORestAPI}\n",
    "    client = exc_dict[exchange](market_type)\n",
    "    token = client._create_symbol_name(symbol)\n",
    "    \n",
    "    return client.get_instrument_data(symbol=token)"
   ]
  },
  {
   "cell_type": "code",
   "execution_count": null,
   "id": "d8bd034b-9000-4a42-9cf5-5c614ce7fa7f",
   "metadata": {},
   "outputs": [],
   "source": [
    "def get_order_status(exchange, market_type, token):\n",
    "    order_in_pending = db_manager.order_exists(table_name='pending_orders', exchange=exchange, market_type=market_type, token=token)\n",
    "    order_in_current = db_manager.order_exists(table_name='current_orders', exchange=exchange, market_type=market_type, token=token)\n",
    "\n",
    "    if not (order_in_pending or order_in_current):\n",
    "        status = None\n",
    "    elif order_in_pending and order_in_current:\n",
    "        status = 'adding'\n",
    "    elif order_in_pending and not order_in_current:\n",
    "        status = 'placed'\n",
    "    elif not order_in_pending and order_in_current:\n",
    "        status = 'live'\n",
    "    return status"
   ]
  },
  {
   "cell_type": "code",
   "execution_count": null,
   "id": "2bb4c68c-7a1f-4064-8209-df468da06ac9",
   "metadata": {},
   "outputs": [],
   "source": [
    "market_fees = {'bybit_spot': 0.001, 'bybit_linear': 0.00055, 'okx_spot': 0.001, 'okx_linear': 0.0005,\n",
    "               'gate_spot': 0.002, 'gate_linear': 0.0005}"
   ]
  },
  {
   "cell_type": "code",
   "execution_count": null,
   "id": "e0773017-6ac0-498a-91f6-5c86698e99c5",
   "metadata": {},
   "outputs": [],
   "source": [
    "# ====================================\n",
    "# Инициация нужных криптобирж, рынков и БД\n",
    "exc_manager = ExchangeManager()\n",
    "exc_manager.add_market(\"bybit_linear\", BybitRestAPI('linear'))\n",
    "exc_manager.add_market(\"bybit_spot\", BybitRestAPI('spot'))\n",
    "exc_manager.add_market(\"okx_linear\", OKXRestAPI('linear'))\n",
    "exc_manager.add_market(\"okx_spot\", OKXRestAPI('spot'))\n",
    "exc_manager.add_market(\"gate_linear\", GateIORestAPI('linear'))\n",
    "exc_manager.add_market(\"gate_spot\", GateIORestAPI('spot'))\n",
    "\n",
    "db_params = {'host': host, 'user': user, 'password': password, 'database': db_name}\n",
    "db_manager = DBManager(db_params)\n",
    "print('auto copy from current_data to market_data', db_manager.get_auto_copy_trigger_state())"
   ]
  },
  {
   "cell_type": "code",
   "execution_count": null,
   "id": "8d470762-1a68-4a97-874e-ccd7de88972c",
   "metadata": {},
   "outputs": [],
   "source": [
    "coin_information = exc_manager.get_instrument_data()"
   ]
  },
  {
   "cell_type": "code",
   "execution_count": null,
   "id": "3f75b0be-ceed-45c6-90a4-8d5201c62338",
   "metadata": {},
   "outputs": [],
   "source": []
  },
  {
   "cell_type": "code",
   "execution_count": null,
   "id": "04735fc5-4aad-4394-9761-e682a2e74123",
   "metadata": {},
   "outputs": [],
   "source": [
    "class OkxAccount(OkxClient):\n",
    "    def __init__(self, demo=True, debug=True):\n",
    "        OkxClient.__init__(self, demo=demo, debug=debug)\n",
    "\n",
    "    # Get Balance\n",
    "    def get_account_balance(self, symbol=''):\n",
    "        params = {}\n",
    "        if symbol:\n",
    "            params['ccy'] = symbol\n",
    "        return self._request_with_params(method='GET', request_path='/api/v5/account/balance', params=params)\n",
    "\n",
    "    # Get Positions\n",
    "    def get_positions(self, market_type='', symbol=''):\n",
    "        if market_type == 'linear':\n",
    "            market_type = 'SWAP'\n",
    "        params = {'instType': market_type, 'instId': symbol}\n",
    "        return self._request_with_params(method='GET', request_path='/api/v5/account/positions', params=params)\n",
    "\n",
    "    def get_leverage(self, market_type, symbol, margin_mode):\n",
    "        sym = self._create_symbol_name(market_type, symbol)\n",
    "        params = {'instId': sym, 'mgnMode': margin_mode}\n",
    "        return self._request_with_params('GET', request_path='/api/v5/account/leverage-info', params=params)\n",
    "    \n",
    "    def set_leverage(self, market_type, symbol, leverage, margin_mode, ccy='', pos_side=''):\n",
    "        sym = self._create_symbol_name(market_type, symbol)\n",
    "        params = {'lever': leverage, 'mgnMode': margin_mode, 'instId': sym, 'ccy': ccy, 'posSide': pos_side}\n",
    "        return self._request_with_params('POST', request_path='/api/v5/account/set-leverage', params=params)\n",
    "\n",
    "    def get_fee_rates(self, symbol, instId='', uly='', category='', instFamily=''):\n",
    "        sym = self._create_symbol_name(market_type, symbol)\n",
    "        params = {'instType': instType, 'instId': sym, 'uly': uly, 'category': category, 'instFamily': instFamily}\n",
    "        return self._request_with_params(GET, FEE_RATES, params)"
   ]
  },
  {
   "cell_type": "code",
   "execution_count": null,
   "id": "183a105b-404d-4940-9894-84e8ba03a676",
   "metadata": {},
   "outputs": [],
   "source": [
    "account_client = OkxAccount(demo=True, debug=False)"
   ]
  },
  {
   "cell_type": "code",
   "execution_count": null,
   "id": "cf29519d-0c1a-47f2-a553-df7355a6c588",
   "metadata": {},
   "outputs": [],
   "source": [
    "account_client.get_leverage(market_type='linear', symbol='1INCH', margin_mode='isolated')"
   ]
  },
  {
   "cell_type": "code",
   "execution_count": null,
   "id": "ae49cb77-73f4-42c0-b3c9-867e9f64001c",
   "metadata": {},
   "outputs": [],
   "source": [
    "account_client.set_leverage(market_type='linear', symbol='BTC', leverage=1, margin_mode='isolated')"
   ]
  },
  {
   "cell_type": "code",
   "execution_count": null,
   "id": "2e42572e-756b-44d6-b329-05c0b3bd9c84",
   "metadata": {},
   "outputs": [],
   "source": []
  },
  {
   "cell_type": "code",
   "execution_count": null,
   "id": "919741a9-421b-473c-977e-10e611aff0fe",
   "metadata": {},
   "outputs": [],
   "source": []
  },
  {
   "cell_type": "code",
   "execution_count": null,
   "id": "67621d0f-71ef-41d9-82db-4e6c3e27efdc",
   "metadata": {},
   "outputs": [],
   "source": [
    "# Закрытие позиции на спотовом рынке. Надо иметь в виду, что купленное кол-во токенов будет на размер fee меньше \n",
    "#   запрошенного. То есть при закрытии надо из qty вычитать fee, и это значение отправлять в заявку\n",
    "\n",
    "# trade_client.market_order(market_type='spot', symbol='ADA', side='sell', order_type='market', qty=19.98)"
   ]
  },
  {
   "cell_type": "code",
   "execution_count": null,
   "id": "b334fba8-b575-40db-8090-23143eef3898",
   "metadata": {},
   "outputs": [],
   "source": []
  },
  {
   "cell_type": "markdown",
   "id": "7fddf32f-b401-4cb4-afa8-55cfa3990b16",
   "metadata": {},
   "source": [
    "#### current profit"
   ]
  },
  {
   "cell_type": "code",
   "execution_count": null,
   "id": "89a4dc5f-fdca-4360-a741-33adc23c8540",
   "metadata": {},
   "outputs": [],
   "source": [
    "import pandas as pd\n",
    "\n",
    "try:\n",
    "    current_result_df = pd.read_parquet('./data/current_result_df.parquet')\n",
    "    for token in current_result_df['token'].unique():\n",
    "        if token == 'GMT_USDT':\n",
    "            continue\n",
    "        temp_df = current_result_df[current_result_df['token'] == token].copy()\n",
    "    \n",
    "        temp_df[['profit', 'diff']] = temp_df[['profit', 'diff']].astype(float)\n",
    "        temp_df[['profit', 'diff']].plot(figsize=(12, 3), title=token);\n",
    "except FileNotFoundError:\n",
    "    print('Нет текущих ордеров')"
   ]
  },
  {
   "cell_type": "code",
   "execution_count": null,
   "id": "5dd15bf2-5777-43dc-a295-5a9f3ff536e0",
   "metadata": {},
   "outputs": [],
   "source": [
    "current_result_df"
   ]
  },
  {
   "cell_type": "code",
   "execution_count": null,
   "id": "be94ce63-a00a-4525-8cf8-8e0398d169a8",
   "metadata": {},
   "outputs": [],
   "source": []
  },
  {
   "cell_type": "code",
   "execution_count": null,
   "id": "ea837c52-09c3-4761-8e4c-4d3224238028",
   "metadata": {},
   "outputs": [],
   "source": []
  },
  {
   "cell_type": "markdown",
   "id": "145f7d4f-8d7a-416e-9cbf-72515ef86b47",
   "metadata": {},
   "source": [
    "#### Поиск наилучших условий для входа и выхода"
   ]
  },
  {
   "cell_type": "code",
   "execution_count": null,
   "id": "eb4bb6d0-a132-4770-9031-f2e1ac66f867",
   "metadata": {},
   "outputs": [],
   "source": [
    "%load_ext autoreload\n",
    "%autoreload 2\n",
    "\n",
    "from jaref_bot.db.postgres_manager import DBManager\n",
    "import pandas as pd\n",
    "import numpy as np\n",
    "from jaref_bot.config.credentials import host, user, password, db_name\n",
    "import matplotlib.pyplot as plt\n",
    "import matplotlib.ticker as ticker\n",
    "import seaborn as sns\n",
    "from decimal import Decimal\n",
    "from tqdm.notebook import tqdm\n",
    "from datetime import datetime\n",
    "\n",
    "db_params = {'host': host, 'user': user, 'password': password, 'dbname': db_name}\n",
    "db_manager = DBManager(db_params)"
   ]
  },
  {
   "cell_type": "code",
   "execution_count": null,
   "id": "0320506c-7ec7-4054-a5c2-abefae9e5e94",
   "metadata": {},
   "outputs": [],
   "source": [
    "market_fees = {'bybit_spot': 0.0018, 'bybit_linear': 0.001, 'okx_spot': 0.001, 'okx_linear': 0.0005,\n",
    "               'gate_spot': 0.002, 'gate_linear': 0.0005}"
   ]
  },
  {
   "cell_type": "code",
   "execution_count": null,
   "id": "0cbc25be-0da3-4689-995a-29658ba0b0f2",
   "metadata": {},
   "outputs": [],
   "source": [
    "db_manager.clear_old_data(table='market_data_5s', column='bucket', expiration_time=48, units='hours')"
   ]
  },
  {
   "cell_type": "code",
   "execution_count": null,
   "id": "97cba9ec-0d0f-491d-a904-ceb2ac73b858",
   "metadata": {},
   "outputs": [],
   "source": [
    "# Список нужных мне криптобирж\n",
    "exchanges = ('bybit', 'okx', 'gate')\n",
    "\n",
    "# Создаём пустой датафрейм для хранения результатов\n",
    "stats_df = pd.DataFrame(columns = ['token', 'long_exc', 'short_exc', 'mean', 'std', 'cmean', 'cstd'])\n",
    "\n",
    "print('Загружаем список уникальных токенов...')\n",
    "tokens = db_manager.get_unique_tokens()\n",
    "print('Обновляем статистические данные...')\n",
    "for token in tqdm(tokens):\n",
    "    tdf = db_manager.get_token_history(token)\n",
    "    tdf = tdf.sort_values(by='bucket').reset_index(drop=True)\n",
    "    tdf[['avg_bid', 'avg_ask']] = tdf[['avg_bid', 'avg_ask']].astype(float)\n",
    "\n",
    "    for long_exc in exchanges:\n",
    "        for short_exc in exchanges:\n",
    "            lm_ask_price = pd.DataFrame()\n",
    "            sm_bid_price = pd.DataFrame()\n",
    "            \n",
    "            if long_exc == short_exc:\n",
    "                continue\n",
    "            \n",
    "            long_mask = (tdf['exchange'] == long_exc) & (tdf['market_type'] == 'linear')\n",
    "            short_mask = (tdf['exchange'] == short_exc) & (tdf['market_type'] == 'linear')\n",
    "            \n",
    "            lm_ask_price = tdf[long_mask][['bucket', 'exchange', 'market_type', 'avg_ask']]\n",
    "            sm_bid_price = tdf[short_mask][['bucket', 'exchange', 'market_type', 'avg_bid']]\n",
    "            temp_df = lm_ask_price.merge(sm_bid_price, on='bucket', suffixes=('_long', '_short'))\n",
    "            temp_df['diff'] = (temp_df['avg_bid'] / temp_df['avg_ask'] - 1) * 100\n",
    "    \n",
    "            minv, maxv, meanv, stdv = temp_df['diff'].agg(['min', 'max', 'mean', 'std'])\n",
    "\n",
    "            lm_bid_price = tdf[long_mask][['bucket', 'exchange', 'market_type', 'avg_bid']]\n",
    "            sm_ask_price = tdf[short_mask][['bucket', 'exchange', 'market_type', 'avg_ask']]\n",
    "            close_df = lm_bid_price.merge(sm_ask_price, on='bucket', suffixes=('_long', '_short'))\n",
    "            close_df['diff'] = (close_df['avg_bid'] / close_df['avg_ask'] - 1) * 100\n",
    "\n",
    "            cminv, cmaxv, cmean, cstd = close_df['diff'].agg(['min', 'max', 'mean', 'std'])\n",
    "\n",
    "    \n",
    "            stats_df.loc[len(stats_df)] = {'token': token, 'long_exc': long_exc, 'short_exc': short_exc, \n",
    "                                           'mean': meanv, 'std': stdv, 'cmean': cmean, 'cstd': cstd}\n",
    "\n",
    "stats_df.dropna(inplace=True)\n",
    "stats_df.reset_index(drop=True, inplace=True)\n",
    "db_manager.clear_table('stats_data')\n",
    "db_manager.update_stats(stats_df)\n",
    "ct = datetime.now().strftime('%Y-%m-%d %H:%M:%S')\n",
    "print('last updated:', ct)"
   ]
  },
  {
   "cell_type": "code",
   "execution_count": null,
   "id": "556eed8d-4910-4a4e-907a-c6da79b55ac2",
   "metadata": {},
   "outputs": [],
   "source": []
  },
  {
   "cell_type": "code",
   "execution_count": null,
   "id": "034e33ae-c765-462c-9550-72a0df0a9d0c",
   "metadata": {},
   "outputs": [],
   "source": []
  },
  {
   "cell_type": "markdown",
   "id": "f946a763-e112-4db2-953e-a8a8ba6eedfa",
   "metadata": {},
   "source": [
    "#### Графики"
   ]
  },
  {
   "cell_type": "code",
   "execution_count": null,
   "id": "c3b65101-9396-4430-ab9b-5be14adce47c",
   "metadata": {
    "jupyter": {
     "source_hidden": true
    }
   },
   "outputs": [],
   "source": [
    "def show_diff_in(token, long_exc, short_exc, open_coef, close_coef, start_time=None):\n",
    "    try:\n",
    "        tdf = db_manager.get_token_history(token)\n",
    "        print(f'Первая запись: {tdf.iloc[0]['bucket']}')\n",
    "        print(f'Последняя запись: {tdf.iloc[-1]['bucket']}')\n",
    "        \n",
    "        tdf[['avg_bid', 'avg_ask']] = tdf[['avg_bid', 'avg_ask']].astype(float)\n",
    "        if start_time:\n",
    "            tdf = tdf[tdf['bucket'] > start_time]\n",
    "        \n",
    "        long_mask = (tdf['exchange'] == long_exc) & (tdf['market_type'] == 'linear')\n",
    "        short_mask = (tdf['exchange'] == short_exc) & (tdf['market_type'] == 'linear')\n",
    "        \n",
    "        lm_ask_price = tdf[long_mask][['bucket', 'exchange', 'market_type', 'avg_ask']].sort_values('bucket').reset_index(drop=True)\n",
    "        sm_bid_price = tdf[short_mask][['bucket', 'exchange', 'market_type', 'avg_bid']].sort_values('bucket').reset_index(drop=True)\n",
    "        open_df = lm_ask_price.merge(sm_bid_price, on='bucket', suffixes=('_long', '_short'))\n",
    "        open_df['diff'] = (open_df['avg_bid'] / open_df['avg_ask'] - 1) * 100\n",
    "        open_diff = open_df['diff'].iloc[-1]\n",
    "    except IndexError:\n",
    "        print('Такой монеты в истории данных не существует.')\n",
    "        return None\n",
    "\n",
    "    lm_bid_price = tdf[long_mask][['bucket', 'exchange', 'market_type', 'avg_bid']].sort_values('bucket').reset_index(drop=True)\n",
    "    sm_ask_price = tdf[short_mask][['bucket', 'exchange', 'market_type', 'avg_ask']].sort_values('bucket').reset_index(drop=True)\n",
    "    close_df = lm_bid_price.merge(sm_ask_price, on='bucket', suffixes=('_long', '_short'))\n",
    "    close_df['diff'] = (close_df['avg_bid'] / close_df['avg_ask'] - 1) * 100\n",
    "    close_diff = close_df['diff'].iloc[-1]\n",
    "    \n",
    "    ominv, omaxv, omeanv, ostdv = open_df['diff'].agg(['min', 'max', 'mean', 'std'])\n",
    "    omax_diff = omaxv - ominv\n",
    "    odev = (open_diff - omeanv) / ostdv\n",
    "    o_edge = omeanv + open_coef * ostdv\n",
    "\n",
    "    cminv, cmaxv, cmeanv, cstdv = close_df['diff'].agg(['min', 'max', 'mean', 'std'])\n",
    "    cmax_diff = cmaxv - cminv\n",
    "    cdev = (close_diff - cmeanv) / cstdv\n",
    "    c_edge = cmeanv + close_coef * cstdv\n",
    "    \n",
    "    width = 120\n",
    "    print(f\"{('=' * 60 + ' ' + token + ' ' + '=' * 60).center(width)}\")\n",
    "    fig, ((ax1, ax2), (ax3, ax4)) = plt.subplots(ncols=2, nrows=2, figsize=(16, 6),\n",
    "                               gridspec_kw={'width_ratios': [3, 1]})\n",
    "    \n",
    "    ax1.plot(open_df['bucket'], open_df['diff'])\n",
    "    ax1.set_title(f'{token}. {long_exc=}; {short_exc=}.   mean: {omeanv:.3f}, std: {ostdv:.3f}; diff: {open_diff:.3f}, {o_edge=:.3f}')\n",
    "    ax1.axhline(y=omeanv, color='black', linestyle='-') # mean\n",
    "    # ax1.axhline(y=0.4, color='r', linestyle='-') # low bound\n",
    "    ax1.axhline(y=omeanv + open_coef * ostdv, color='g', linestyle='-'); # high bound\n",
    "\n",
    "    sns.kdeplot(data=open_df['diff'], ax=ax2, fill=True, color='blue')\n",
    "    # ax2.set_title(\"Гистограмма\")\n",
    "    \n",
    "    ax3.plot(close_df['bucket'], close_df['diff'])\n",
    "    ax3.set_title(f'mean: {cmeanv:.3f}, std: {cstdv:.3f}; diff: {close_diff:.3f}, dev: {cdev:.3f}; {c_edge=:.3f}')\n",
    "    ax3.axhline(y=cmeanv, color='black', linestyle='-') # mean\n",
    "    ax3.axhline(y=0, color='r', linestyle='-') # low bound\n",
    "    ax3.axhline(y=cmeanv + close_coef * cstdv, color='g', linestyle='-'); # high bound\n",
    "\n",
    "    sns.kdeplot(data=close_df['diff'], ax=ax4, fill=True, color='blue')\n",
    "    \n",
    "    plt.tight_layout()\n",
    "    plt.show()\n",
    "    print('=' * (width + len(token) + 2))"
   ]
  },
  {
   "cell_type": "code",
   "execution_count": null,
   "id": "6b595e6b-a080-418d-8940-c9235c2b97fa",
   "metadata": {},
   "outputs": [],
   "source": [
    "def show_diff_out(token, upper_coef):\n",
    "    # Определяем рынки, на которых открыт ордер\n",
    "    current_orders = db_manager.get_table('current_orders')\n",
    "    orders = current_orders[current_orders['token'] == token]\n",
    "    \n",
    "    long_market = orders[orders['order_side'] == 'buy']\n",
    "    short_market = orders[orders['order_side'] == 'sell']\n",
    "    \n",
    "    long_exc = long_market['exchange'].item()\n",
    "    short_exc = short_market['exchange'].item()\n",
    "    long_mt = long_market['market_type'].item()\n",
    "    short_mt = short_market['market_type'].item()\n",
    "    \n",
    "    # Определяем цены на момент открытия и начальный diff\n",
    "    long_open_price = long_market['price'].item().normalize()\n",
    "    short_open_price =  short_market['price'].item().normalize()\n",
    "    open_diff = round((short_open_price / long_open_price - 1) * 100, 3)\n",
    "\n",
    "    tdf = db_manager.get_token_history(token)\n",
    "    tdf[['avg_bid', 'avg_ask']] = tdf[['avg_bid', 'avg_ask']].astype(float)\n",
    "    \n",
    "    long_mask = (tdf['exchange'] == long_exc) & (tdf['market_type'] == long_mt)\n",
    "    short_mask = (tdf['exchange'] == short_exc) & (tdf['market_type'] == short_mt)\n",
    "    tdf = tdf[long_mask | short_mask]\n",
    "    \n",
    "    long_mask = long_mask.reindex(tdf.index, fill_value=False)\n",
    "    short_mask = short_mask.reindex(tdf.index, fill_value=False)\n",
    "    \n",
    "    lm_sell_price = tdf[long_mask][['bucket', 'avg_bid']]\n",
    "    sm_buy_price = tdf[short_mask][['bucket', 'avg_ask']]\n",
    "    close_df = lm_sell_price.merge(sm_buy_price)\n",
    "    close_df['diff'] = (close_df['avg_bid'] / close_df['avg_ask'] - 1) * 100\n",
    "\n",
    "    minv, maxv, meanv, stdv = close_df['diff'].astype(float).agg(['min', 'max', 'mean', 'std'])\n",
    "    \n",
    "    close_diff = close_df['diff'].iloc[-1]\n",
    "    deviation = (close_diff - meanv) / stdv\n",
    "\n",
    "    # Профит\n",
    "    long_market_fee = long_market['usdt_fee'].iloc[0].normalize()\n",
    "    short_market_fee = short_market['usdt_fee'].iloc[0].normalize()\n",
    "    qty = short_market['qty'].iloc[0].normalize()\n",
    "    \n",
    "    long_fee = Decimal(market_fees[long_exc + '_linear'])\n",
    "    short_fee = Decimal(market_fees[short_exc + '_linear'])\n",
    "    \n",
    "    def get_curr_profit(row):\n",
    "        ct = row['bucket']\n",
    "        long_market_profit = Decimal(row['avg_bid'])  - long_open_price \n",
    "        short_market_profit = short_open_price  - Decimal(row['avg_ask'])\n",
    "        profit = qty * (long_market_profit + short_market_profit)    \n",
    "        # print(f'{ct}: lm_profit: {qty * long_market_profit:.3f}, sm_profit: {qty * short_market_profit:.3f}; {row['avg_bid']=}, {row['avg_ask']=}')\n",
    "        return round(profit, 4)\n",
    "    \n",
    "    close_df['profit'] = close_df.apply(get_curr_profit, axis=1)\n",
    "    curr_profit = close_df['profit'].iloc[-1]\n",
    "    order_time = orders.iloc[0]['created_at']\n",
    "    new_df = close_df[close_df['bucket'] > order_time.tz_localize(None)].reset_index(drop=True)\n",
    "        \n",
    "    plt.figure(figsize=(18, 2))\n",
    "    plt.title(f'{token}. Diff out. {meanv=:.3f}, {stdv=:.3f}')\n",
    "    plt.plot(close_df['bucket'], close_df['diff']);\n",
    "    plt.axhline(y=meanv, color='black', linestyle='-') # mean\n",
    "    plt.axhline(y=meanv + upper_coef * stdv, color='g', linestyle='-'); # high bound\n",
    "    plt.axhline(y=0, color='r', linestyle='-')\n",
    "    \n",
    "    fig, (ax1, ax2) = plt.subplots(ncols=2, figsize=(18, 3), gridspec_kw={'width_ratios': [1, 1]})\n",
    "    ax2.set_title(f'Profit. {curr_profit=:.3f}')\n",
    "    ax2.plot(new_df['bucket'], new_df['profit']);\n",
    "    ax2.axhline(y=0, color='black', linestyle='-')\n",
    "    ax2.axhline(y=new_df['profit'].max(), color='g', linestyle='-')\n",
    "\n",
    "    ax1.set_title(f'current diff: {close_diff:.3f}, {deviation=:.1f}')\n",
    "    ax1.plot(new_df['bucket'], new_df['diff'])\n",
    "    ax1.axhline(y=meanv, color='black', linestyle='-') # mean\n",
    "    ax1.axhline(y=meanv + upper_coef * stdv, color='g', linestyle='-'); # high bound\n",
    "    ax1.axhline(y=0, color='r', linestyle='-')\n",
    "\n",
    "    plt.tight_layout()\n",
    "    plt.show()"
   ]
  },
  {
   "cell_type": "code",
   "execution_count": null,
   "id": "d51e480c-5c1e-41bf-b884-6f4c5e3b6c74",
   "metadata": {},
   "outputs": [],
   "source": []
  },
  {
   "cell_type": "code",
   "execution_count": null,
   "id": "25dedccf-51c6-4f44-8859-7c7c94ff05a4",
   "metadata": {},
   "outputs": [],
   "source": [
    "token = 'WCT_USDT'\n",
    "long_exc = 'bybit'\n",
    "short_exc = 'gate'"
   ]
  },
  {
   "cell_type": "code",
   "execution_count": null,
   "id": "59f0fd80-6f19-4d30-9b40-746fbf9deb3c",
   "metadata": {},
   "outputs": [],
   "source": [
    "show_diff_in(token=token, long_exc=long_exc, short_exc=short_exc, open_coef=1.5, close_coef=1.5, start_time='2025-04-10 11:20')"
   ]
  },
  {
   "cell_type": "code",
   "execution_count": null,
   "id": "63bacb6b-e0cf-40ce-946d-8d451f513e34",
   "metadata": {},
   "outputs": [],
   "source": [
    "from jaref_bot.strategies.arbitrage import get_best_prices\n",
    "from jaref_bot.db.redis_manager import RedisManager\n",
    "import polars as pl\n",
    "redis_manager = RedisManager('orderbooks')\n",
    "\n",
    "df = redis_manager.get_orderbooks(1).filter(pl.col('symbol') == token)\n",
    "long_open = df.filter(pl.col('exchange') == long_exc).select('askprice_0').item()\n",
    "short_open = df.filter(pl.col('exchange') == short_exc).select('bidprice_0').item()\n",
    "open_diff = (short_open / long_open - 1) * 100\n",
    "\n",
    "print(long_open, short_open, open_diff)"
   ]
  },
  {
   "cell_type": "code",
   "execution_count": null,
   "id": "a282e7ad-2ae7-4aa1-b5fe-95e2baa348bf",
   "metadata": {},
   "outputs": [],
   "source": []
  },
  {
   "cell_type": "code",
   "execution_count": null,
   "id": "9072af7a-09ed-48de-9369-e41d55d31857",
   "metadata": {},
   "outputs": [],
   "source": [
    "# Проверка времени последней записи\n",
    "redis_manager.get_orderbooks(1).filter(pl.col('symbol') == token)"
   ]
  },
  {
   "cell_type": "code",
   "execution_count": null,
   "id": "6a70708f-57e1-4b12-8702-1dac1623b644",
   "metadata": {},
   "outputs": [],
   "source": []
  },
  {
   "cell_type": "code",
   "execution_count": null,
   "id": "6deef551-de42-473b-a663-9083f9936527",
   "metadata": {},
   "outputs": [],
   "source": []
  },
  {
   "cell_type": "code",
   "execution_count": null,
   "id": "091de9a3-8096-445e-8bfe-5dbe2311d624",
   "metadata": {},
   "outputs": [],
   "source": [
    "current_orders = db_manager.get_table('current_orders')\n",
    "for i, row in current_orders.pivot(index='token', columns='order_side', values='exchange').iterrows():\n",
    "    token = i\n",
    "    long_exc = row['buy']\n",
    "    short_exc = row['sell']\n",
    "    print('=' * 140)\n",
    "    show_diff_out(token=token, upper_coef=2.0)\n",
    "    print('=' * 140)\n",
    "    print()"
   ]
  },
  {
   "cell_type": "code",
   "execution_count": null,
   "id": "14d7e1d1-1089-4e19-95bb-7b2ac2963ff5",
   "metadata": {},
   "outputs": [],
   "source": [
    "long_close = 0.02656\n",
    "short_close = 0.0262\n",
    "close_diff = (long_close / short_close - 1) * 100\n",
    "\n",
    "long_profit = (long_close / long_open - 1) * 100 - 0.0015\n",
    "short_profit = (short_open / short_close - 1) * 100 - 0.0015\n",
    "fund_profit = 0.005\t+ 0.242987\n",
    "profit = long_profit + short_profit + fund_profit"
   ]
  },
  {
   "cell_type": "code",
   "execution_count": null,
   "id": "abbba19f-21ef-416d-b8a6-a515abdf1624",
   "metadata": {},
   "outputs": [],
   "source": [
    "close_diff, profit"
   ]
  },
  {
   "cell_type": "code",
   "execution_count": null,
   "id": "d67fbc79-8874-45f4-b36c-f97a536f870a",
   "metadata": {},
   "outputs": [],
   "source": []
  },
  {
   "cell_type": "code",
   "execution_count": null,
   "id": "deea6f2d-448c-448a-b97a-e71a9f898a0d",
   "metadata": {},
   "outputs": [],
   "source": []
  },
  {
   "cell_type": "code",
   "execution_count": 1,
   "id": "def0a814-df99-46a0-9b3b-d92729d89cee",
   "metadata": {
    "execution": {
     "iopub.execute_input": "2025-08-01T08:20:05.275075Z",
     "iopub.status.busy": "2025-08-01T08:20:05.274883Z",
     "iopub.status.idle": "2025-08-01T08:20:05.279353Z",
     "shell.execute_reply": "2025-08-01T08:20:05.278709Z",
     "shell.execute_reply.started": "2025-08-01T08:20:05.275065Z"
    }
   },
   "outputs": [],
   "source": [
    "# import polars as pl\n",
    "# token = 'SERAPH_USDT'\n",
    "# tdf = db_manager.get_token_history(token)\n",
    "# tdf = pl.from_pandas(tdf)\n",
    "# tdf = tdf.with_columns([pl.col('avg_bid').cast(float), \n",
    "#                   pl.col('avg_ask').cast(float)])\n",
    "# long_exc = 'bybit'\n",
    "# short_exc = 'gate'\n",
    "\n",
    "# long_market = tdf.filter(pl.col('exchange') == long_exc).drop('market_type')\n",
    "# short_market = tdf.filter(pl.col('exchange') == short_exc).drop('market_type')\n",
    "\n",
    "# main_df = long_market.join(short_market, on=('bucket'), suffix='_short'\n",
    "#     ).drop('token_short'\n",
    "#     ).rename({'exchange': 'long_exc', 'exchange_short': 'short_exc', 'avg_bid': 'lm_bid', 'avg_ask': 'lm_ask',\n",
    "#              'avg_bid_short': 'sm_bid', 'avg_ask_short': 'sm_ask'}\n",
    "#     ).with_columns([\n",
    "#         ((pl.col('sm_bid') / pl.col('lm_ask') - 1) * 100).alias('open_diff'),\n",
    "#         ((pl.col('lm_bid') / pl.col('sm_ask') - 1) * 100).alias('close_diff')\n",
    "#     ]).with_columns([\n",
    "#         pl.col(\"open_diff\").mean().alias(\"o_mean\"),\n",
    "#         pl.col(\"open_diff\").std().alias(\"o_std\"),\n",
    "#         pl.col(\"close_diff\").mean().alias(\"c_mean\"),\n",
    "#         pl.col(\"close_diff\").std().alias(\"c_std\"),\n",
    "#     ])\n",
    "# dev_in = 2.5\n",
    "# dev_out = 1.0\n",
    "\n",
    "# main_df.with_columns([\n",
    "#     pl.col('o_mean') + dev_in * pl.col('o_std') \n",
    "# ])"
   ]
  },
  {
   "cell_type": "code",
   "execution_count": null,
   "id": "3b0709c3-f8a2-4265-b6e8-f1b9acd5022f",
   "metadata": {},
   "outputs": [],
   "source": []
  }
 ],
 "metadata": {
  "kernelspec": {
   "display_name": "Python 3 (ipykernel)",
   "language": "python",
   "name": "python3"
  },
  "language_info": {
   "codemirror_mode": {
    "name": "ipython",
    "version": 3
   },
   "file_extension": ".py",
   "mimetype": "text/x-python",
   "name": "python",
   "nbconvert_exporter": "python",
   "pygments_lexer": "ipython3",
   "version": "3.13.5"
  }
 },
 "nbformat": 4,
 "nbformat_minor": 5
}
