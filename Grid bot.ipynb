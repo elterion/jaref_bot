{
 "cells": [
  {
   "cell_type": "code",
   "execution_count": null,
   "id": "06293fd0-de31-425b-bdb2-3e9f9077cde0",
   "metadata": {},
   "outputs": [],
   "source": [
    "%load_ext autoreload\n",
    "%autoreload 2\n",
    "\n",
    "from jaref_bot.data.http_api import ExchangeManager, BybitRestAPI, GateIORestAPI\n",
    "from jaref_bot.analysis.backtest.grid_bot import GridBotBacktest\n",
    "\n",
    "import pandas as pd\n",
    "import polars as pl\n",
    "import numpy as np\n",
    "# pd.options.display.float_format = '{:.2f}'.format\n",
    "from datetime import datetime, timezone, timedelta\n",
    "\n",
    "import matplotlib.pyplot as plt\n",
    "import seaborn as sns\n",
    "sns.set_style('whitegrid')\n",
    "\n",
    "import warnings\n",
    "warnings.filterwarnings(\"ignore\")\n",
    "\n",
    "from tqdm.notebook import tqdm\n",
    "\n",
    "from jaref_bot.utils.files import get_saved_coins"
   ]
  },
  {
   "cell_type": "code",
   "execution_count": null,
   "id": "ad0a3edc-a548-4f14-97f7-0bf7aabcc368",
   "metadata": {},
   "outputs": [],
   "source": [
    "async def get_data(symbol, interval, n_iters, exchange):\n",
    "    df = await exc_manager.get_candles(symbol=symbol, interval=interval, n_iters=n_iters)\n",
    "    df = df[f'{exchange}_linear'].sort_index()\n",
    "    return df.dropna()"
   ]
  },
  {
   "cell_type": "code",
   "execution_count": null,
   "id": "8307dc8b-c58f-498b-8ab7-2b42fe7ce6da",
   "metadata": {},
   "outputs": [],
   "source": [
    "exc_manager = ExchangeManager()\n",
    "exc_manager.add_market(\"bybit_linear\", BybitRestAPI('linear'))\n",
    "exc_manager.add_market(\"gate_linear\", GateIORestAPI('linear'))\n",
    "coin_information = exc_manager.get_instrument_data()"
   ]
  },
  {
   "cell_type": "code",
   "execution_count": null,
   "id": "31958b6f-cee6-4258-9d70-9b7155fdb5d2",
   "metadata": {},
   "outputs": [],
   "source": [
    "coin_information['bybit_linear']['MAGIC_USDT']"
   ]
  },
  {
   "cell_type": "code",
   "execution_count": null,
   "id": "56e9e380-5be5-47fb-bdce-e30e9cab72db",
   "metadata": {},
   "outputs": [],
   "source": [
    "saved_coins = get_saved_coins(data_folder='./data/agg_trades')"
   ]
  },
  {
   "cell_type": "code",
   "execution_count": null,
   "id": "afe2f28f-6717-4a86-9a83-b3d1ffbbb45e",
   "metadata": {},
   "outputs": [],
   "source": []
  },
  {
   "cell_type": "markdown",
   "id": "da1a2d75-9058-404c-9594-19ed256bd4cd",
   "metadata": {
    "jp-MarkdownHeadingCollapsed": true
   },
   "source": [
    "#### Отчёт по волатильности монеты"
   ]
  },
  {
   "cell_type": "code",
   "execution_count": null,
   "id": "35c2a876-5a39-4ef8-a4ed-1aeefc87e685",
   "metadata": {},
   "outputs": [],
   "source": [
    "symbol = 'APT'\n",
    "exchange = 'bybit'"
   ]
  },
  {
   "cell_type": "code",
   "execution_count": null,
   "id": "a9db1755-0251-40f4-885c-3825f4c1a981",
   "metadata": {},
   "outputs": [],
   "source": [
    "exc_manager = ExchangeManager()\n",
    "if exchange == 'bybit':\n",
    "    exc_manager.add_market(\"bybit_linear\", BybitRestAPI('linear'))\n",
    "elif exchange == 'gate':\n",
    "    exc_manager.add_market(\"gate_linear\", GateIORestAPI('linear'))\n",
    "\n",
    "start_date = datetime.now().replace(microsecond=0) - timedelta(days=30)\n",
    "end_date = None\n",
    "\n",
    "fund_hist = await exc_manager.get_funding_history(symbol=f'{symbol}_USDT', start_date=start_date, limit=500)\n",
    "fund_hist = fund_hist[0]\n",
    "\n",
    "fund_sum = float(fund_hist['funding'].sum())\n",
    "fund_len = fund_hist['funding'].shape[0]\n",
    "\n",
    "hour_df = await get_data(symbol=f'{symbol}_USDT', interval='1h', n_iters=5, exchange=exchange)\n",
    "hour_df = hour_df.tail(4320) # Берём последние пол года\n",
    "hour_df.drop(['Exchange', 'Market_type'], axis=1, inplace=True)\n",
    "daily_df = await get_data(symbol=f'{symbol}_USDT', interval='1d', n_iters=1, exchange=exchange)\n",
    "daily_df = daily_df.tail(180) # Берём последние пол года\n",
    "\n",
    "hour_df['Max_range'] = hour_df['High'] - hour_df['Low']\n",
    "hour_df['Max_range_perc'] = (hour_df['High'] - hour_df['Low']) / hour_df['Low'] * 100\n",
    "hour_10 = hour_df[hour_df['Max_range_perc'] > 10].shape[0]\n",
    "hour_10_perc = 100 * hour_10 / hour_df.shape[0]\n",
    "hour_atr = hour_df['Max_range'].mean()\n",
    "hour_atr_perc = hour_df['Max_range_perc'].mean()\n",
    "hour_mtr_perc = hour_df['Max_range_perc'].max()\n",
    "\n",
    "daily_df['Max_range'] = daily_df['High'] - daily_df['Low']\n",
    "daily_df['Max_range_perc'] = (daily_df['High'] - daily_df['Low']) / daily_df['Low'] * 100\n",
    "days_10 = daily_df[daily_df['Max_range_perc'] > 10].shape[0]\n",
    "days_10_perc = 100 * days_10 / daily_df.shape[0]\n",
    "day_atr = daily_df['Max_range'].mean()\n",
    "day_atr_perc = daily_df['Max_range_perc'].mean()\n",
    "day_mtr_perc = daily_df['Max_range_perc'].max()\n",
    "\n",
    "print(f'Монета: {symbol}')\n",
    "print(f'Суммарный фандинг: {fund_sum * 100:.2f}%, расчётов по фандингу: {fund_len}')\n",
    "print(f'Фандинг. min: {fund_hist['funding'].min() * 100}%; max: {fund_hist['funding'].max() * 100}%')\n",
    "print()\n",
    "print(f'ATR за 1 день: {day_atr:.4f} ({day_atr_perc:.2f}%); за 1 час: {hour_atr:.4f} ({hour_atr_perc:.2f}%)')\n",
    "print(f'MaxTR за 1 день: {day_mtr_perc:.2f}%; за 1 час: {hour_mtr_perc:.2f}%')\n",
    "print(f'Колебания цены более 10%. Дни: {days_10} ({days_10_perc:.1f}%); Часы: {hour_10} ({hour_10_perc:.1f}%)')"
   ]
  },
  {
   "cell_type": "code",
   "execution_count": null,
   "id": "382d57f2-d2d6-4ef2-8222-8f155651442e",
   "metadata": {},
   "outputs": [],
   "source": [
    "# daily_df[daily_df['Max_range_perc'] > 30]"
   ]
  },
  {
   "cell_type": "code",
   "execution_count": null,
   "id": "c8ab6068-a85e-422f-a851-d55914c8e49d",
   "metadata": {},
   "outputs": [],
   "source": [
    "# Монета: VELO\n",
    "# Суммарный фандинг: 1.83%, расчётов по фандингу: 90\n",
    "# Фандинг. min: -0.150915%; max: 0.138957%\n",
    "\n",
    "# ATR за 1 день: 0.0014 (10.10%); за 1 час: 0.0003 (1.88%)\n",
    "# MaxTR за 1 день: 53.68%; за 1 час: 19.99%\n",
    "# Колебания цены более 10%. Дни: 67 (37.2%); Часы: 9 (0.2%)\n",
    "# =========================\n",
    "# Монета: ICP\n",
    "# Суммарный фандинг: 0.78%, расчётов по фандингу: 90\n",
    "# Фандинг. min: -0.012249%; max: 0.021916%\n",
    "\n",
    "# ATR за 1 день: 0.3943 (7.23%); за 1 час: 0.0769 (1.36%)\n",
    "# MaxTR за 1 день: 40.36%; за 1 час: 21.53%\n",
    "# Колебания цены более 10%. Дни: 30 (16.7%); Часы: 2 (0.0%)\n",
    "# =========================\n",
    "# Монета: TON\n",
    "# Суммарный фандинг: 0.84%, расчётов по фандингу: 180\n",
    "# Фандинг. min: -0.01417%; max: 0.019304%\n",
    "\n",
    "# ATR за 1 день: 0.2058 (6.58%); за 1 час: 0.0397 (1.22%)\n",
    "# MaxTR за 1 день: 42.62%; за 1 час: 25.97%\n",
    "# Колебания цены более 10%. Дни: 24 (13.3%); Часы: 5 (0.1%)\n",
    "# =========================\n",
    "# Монета: MAGIC\n",
    "# Суммарный фандинг: 0.52%, расчётов по фандингу: 200\n",
    "# Фандинг. min: -0.016177%; max: 0.01651%\n",
    "\n",
    "# ATR за 1 день: 0.0196 (12.74%); за 1 час: 0.0035 (2.12%)\n",
    "# MaxTR за 1 день: 77.28%; за 1 час: 32.21%\n",
    "# Колебания цены более 10%. Дни: 78 (43.3%); Часы: 43 (1.0%)\n",
    "# =========================\n",
    "\n",
    "# Монета: APT\n",
    "# Суммарный фандинг: 0.39%, расчётов по фандингу: 90\n",
    "# Фандинг. min: -0.033988%; max: 0.011472%\n",
    "\n",
    "# ATR за 1 день: 0.4117 (8.13%); за 1 час: 0.0795 (1.51%)\n",
    "# MaxTR за 1 день: 42.90%; за 1 час: 21.57%\n",
    "# Колебания цены более 10%. Дни: 40 (22.2%); Часы: 3 (0.1%)"
   ]
  },
  {
   "cell_type": "code",
   "execution_count": null,
   "id": "e18fc5e1-d4d6-4bb6-81aa-983e37007c35",
   "metadata": {},
   "outputs": [],
   "source": []
  },
  {
   "cell_type": "markdown",
   "id": "b40efa89-834b-4bf0-a494-25a72e127b12",
   "metadata": {
    "jp-MarkdownHeadingCollapsed": true
   },
   "source": [
    "#### Загрузка public_trades из файлов .csv"
   ]
  },
  {
   "cell_type": "code",
   "execution_count": null,
   "id": "357aed6d-e4a8-496e-9560-863747d86886",
   "metadata": {},
   "outputs": [],
   "source": [
    "# Загрузка исторических public_trades из файлов .csv\n",
    "import re\n",
    "import os\n",
    "data_folder = './data/'\n",
    "pattern = re.compile(r'^([^_]+)\\.csv$', re.IGNORECASE)\n",
    "coins = set()\n",
    "\n",
    "for filename in os.listdir(data_folder):\n",
    "    file_path = os.path.join(data_folder, filename)\n",
    "    \n",
    "    # Проверяем, что это файл и соответствует шаблону\n",
    "    if os.path.isfile(file_path):\n",
    "        match = pattern.match(filename)\n",
    "        if match:\n",
    "            coin_name = match.group(1)\n",
    "            coins.add(coin_name.upper())  # Для единообразия приводим к верхнему регистру"
   ]
  },
  {
   "cell_type": "code",
   "execution_count": null,
   "id": "b6b6a019-9687-4158-a6a5-f70bfc4df33c",
   "metadata": {},
   "outputs": [],
   "source": [
    "trades_df = pd.DataFrame()\n",
    "\n",
    "for name in sorted(coins):\n",
    "    tdf = pd.read_csv(f'./data/{name}.csv')\n",
    "    tdf = tdf.drop(['tickDirection', 'trdMatchID', 'grossValue', 'homeNotional', 'foreignNotional', 'RPI'], axis=1)\n",
    "    trades_df = pd.concat([trades_df, tdf])"
   ]
  },
  {
   "cell_type": "code",
   "execution_count": null,
   "id": "668de23b-c123-48e7-becf-0a8467b42e68",
   "metadata": {},
   "outputs": [],
   "source": []
  },
  {
   "cell_type": "code",
   "execution_count": null,
   "id": "da2c5876-3b73-41a5-a001-dc05bc03b8ed",
   "metadata": {},
   "outputs": [],
   "source": [
    "trades_df['date'] = pd.to_datetime(trades_df['timestamp'], unit='s', utc=True).dt.tz_convert('Europe/Moscow')#.dt.floor('s')"
   ]
  },
  {
   "cell_type": "code",
   "execution_count": null,
   "id": "52ad5714-1d7a-4aab-b0ac-da711cabba1d",
   "metadata": {},
   "outputs": [],
   "source": [
    "trades_df.drop('timestamp', axis=1)[['date', 'symbol', 'size', 'price', 'side']].rename(columns={'symbol': 'contract'}\n",
    "                                ).set_index('date').sort_index()#.to_parquet('./data/magic_grid_bot_trades.parquet')"
   ]
  },
  {
   "cell_type": "code",
   "execution_count": null,
   "id": "4182f5c8-20d3-44c0-bb9f-ee010ed6ea51",
   "metadata": {},
   "outputs": [],
   "source": []
  },
  {
   "cell_type": "markdown",
   "id": "9e4af076-1d4d-4de9-86e5-b39b2abdcc7f",
   "metadata": {},
   "source": [
    "#### Создание датасета для теста grid bot'а"
   ]
  },
  {
   "cell_type": "code",
   "execution_count": null,
   "id": "5dedb80d-a5e1-4e56-a504-7e3612157ad3",
   "metadata": {},
   "outputs": [],
   "source": [
    "# Скачивание public_trades\n",
    "# exc_manager = ExchangeManager()\n",
    "# exc_manager.add_market(\"gate_linear\", GateIORestAPI('linear'))\n",
    "\n",
    "# res = await exc_manager.get_trading_history(symbol='PAXG_USDT', start_date=start_date, limit=1000)\n",
    "# res = res[0]\n",
    "# res.drop(['exchange', 'contract'], axis=1).to_parquet(f'./data/{token.lower()}_grid_bot_trades.parquet')"
   ]
  },
  {
   "cell_type": "code",
   "execution_count": null,
   "id": "d097852e-e24c-490a-9023-2027ae009236",
   "metadata": {},
   "outputs": [],
   "source": []
  },
  {
   "cell_type": "code",
   "execution_count": null,
   "id": "13019c66-207f-4eb8-8593-a1c85bd3c585",
   "metadata": {},
   "outputs": [],
   "source": [
    "# VELO\n",
    "# start_date = datetime(2025, 6, 22, 11, 55, 26, tzinfo=Moscow_TZ)\n",
    "# end_date = datetime(2025, 7, 11, 20, 55, tzinfo=Moscow_TZ)\n",
    "\n",
    "# PAXG\n",
    "# start_date = datetime(2025, 6, 21, 4, 24, 25, tzinfo=Moscow_TZ)\n",
    "# end_date = datetime(2025, 7, 22, 18, 51, 40, tzinfo=Moscow_TZ)"
   ]
  },
  {
   "cell_type": "code",
   "execution_count": null,
   "id": "fc4b1b6a-35f7-4b03-a042-fb906a280e58",
   "metadata": {},
   "outputs": [],
   "source": [
    "token = 'MAGIC'"
   ]
  },
  {
   "cell_type": "code",
   "execution_count": null,
   "id": "d22ddea7-d2fd-4b2f-b223-810293d2ef92",
   "metadata": {},
   "outputs": [],
   "source": [
    "exc_manager = ExchangeManager()\n",
    "exc_manager.add_market(\"bybit_linear\", BybitRestAPI('linear'))\n",
    "\n",
    "Moscow_TZ = timezone(timedelta(hours=3))\n",
    "start_date = datetime(2025, 7, 29, 20, 10, 0, tzinfo=Moscow_TZ)\n",
    "end_date = datetime(2025, 8, 1, 3, 55, tzinfo=Moscow_TZ)\n",
    "\n",
    "fund_hist = await exc_manager.get_funding_history(symbol=f'{token}_USDT', start_date=start_date, end_date=end_date, limit=300)\n",
    "fund_hist = fund_hist[0]"
   ]
  },
  {
   "cell_type": "code",
   "execution_count": null,
   "id": "6ef877b0-20ee-4a13-9fd0-3334317c398b",
   "metadata": {
    "scrolled": true
   },
   "outputs": [],
   "source": []
  },
  {
   "cell_type": "code",
   "execution_count": null,
   "id": "edba1918-358d-4445-902b-9c1f8452e46f",
   "metadata": {},
   "outputs": [],
   "source": [
    "fund_hist.tail(1)"
   ]
  },
  {
   "cell_type": "code",
   "execution_count": null,
   "id": "a19f471c-caac-4f4e-a761-31bdbfe46d1d",
   "metadata": {},
   "outputs": [],
   "source": [
    "trades_df = pd.read_parquet(f'./data/{token.lower()}_grid_bot_trades.parquet')"
   ]
  },
  {
   "cell_type": "code",
   "execution_count": null,
   "id": "a361c051-02e4-410e-86c5-5a0cb13d0ece",
   "metadata": {},
   "outputs": [],
   "source": [
    "trades_df.head(2)"
   ]
  },
  {
   "cell_type": "code",
   "execution_count": null,
   "id": "508d00d3-ee61-4285-b424-7a436c8912ff",
   "metadata": {},
   "outputs": [],
   "source": []
  },
  {
   "cell_type": "code",
   "execution_count": null,
   "id": "b29ad909-d944-4d83-aebd-f7f5227d49e3",
   "metadata": {},
   "outputs": [],
   "source": [
    "df = trades_df.join(fund_hist, how='outer')\n",
    "df['funding'] = df['funding'].fillna(0)\n",
    "df.ffill(inplace=True)\n",
    "df['size'] = df['size'].astype(float)\n",
    "df['price'] = df['price'].astype(float)\n",
    "df['funding'] = df['funding'].astype(float)\n",
    "\n",
    "df = df.reset_index()"
   ]
  },
  {
   "cell_type": "code",
   "execution_count": null,
   "id": "9f885b0c-63f4-4eb2-ab96-68c470d806d5",
   "metadata": {},
   "outputs": [],
   "source": []
  },
  {
   "cell_type": "code",
   "execution_count": null,
   "id": "2aa84404-9314-4537-b406-609ce89cbdbc",
   "metadata": {},
   "outputs": [],
   "source": [
    "df.head(2)"
   ]
  },
  {
   "cell_type": "code",
   "execution_count": null,
   "id": "f9deadb5-5be5-4ad2-9f30-8043222b07d1",
   "metadata": {},
   "outputs": [],
   "source": [
    "df.tail(2)"
   ]
  },
  {
   "cell_type": "code",
   "execution_count": null,
   "id": "c6f95b77-9314-44b4-aa7e-b50d10c95533",
   "metadata": {},
   "outputs": [],
   "source": []
  },
  {
   "cell_type": "code",
   "execution_count": null,
   "id": "65e5ba80-fb97-4f1b-ae07-801aeb37efb5",
   "metadata": {},
   "outputs": [],
   "source": [
    "# Идеи\n",
    "# 1. Реализовать реинвестирование прибыли. Можно изначально рассчитать, при каком размере банкролла станет покупаться на 1 контракт больше."
   ]
  },
  {
   "cell_type": "code",
   "execution_count": null,
   "id": "a4bafb3e-e224-4114-b8f7-314700f4e9f8",
   "metadata": {},
   "outputs": [],
   "source": [
    "Moscow_TZ = timezone(timedelta(hours=3))\n",
    "start_date = datetime(2025, 7, 29, 20, 10, 9, tzinfo=Moscow_TZ)\n",
    "end_date = datetime(2025, 8, 1, 3, 0, 1, tzinfo=Moscow_TZ)\n",
    "df = df[(df['date'] > start_date) & (df['date'] < end_date)].reset_index(drop=True)\n",
    "df = pl.DataFrame(df)"
   ]
  },
  {
   "cell_type": "code",
   "execution_count": null,
   "id": "f9255c53-467c-4b12-a9df-da0124b95830",
   "metadata": {
    "scrolled": true
   },
   "outputs": [],
   "source": [
    "%%time\n",
    "results = {}\n",
    "\n",
    "exchange = 'bybit'\n",
    "token_name = 'MAGIC'\n",
    "min_price = 0.118\n",
    "max_price = 0.2\n",
    "n_grids = 20\n",
    "leverage = 2\n",
    "usdt_amount = 100\n",
    "ct_val = coin_information['bybit_linear']['MAGIC_USDT']['ct_val']\n",
    "price_scale = coin_information['bybit_linear']['MAGIC_USDT']['price_scale']\n",
    "order_size = None\n",
    "take_profit = None\n",
    "continue_after_tp = False\n",
    "close_trades = True\n",
    "\n",
    "# for n_grids in range(5, 101, 5):\n",
    "grid_bot = GridBotBacktest(exchange=exchange, token_name=token_name, df=df, mode='long', min_price=min_price, max_price=max_price, n_grids=n_grids, \n",
    "                    usdt_amount=usdt_amount, leverage=leverage, price_scale=price_scale, ct_val=ct_val, close_trades=close_trades,\n",
    "                    market_order_fee=0.00055, limit_order_fee=0.0002, order_size=order_size, take_profit=take_profit, \n",
    "                    continue_after_tp=continue_after_tp,\n",
    "                    verbose=True, verbose_deals=True)\n",
    "grid_bot.run()\n",
    "\n",
    "\n",
    "\n",
    "profit = grid_bot.trades_history['pnl'].sum()\n",
    "grid_profit = grid_bot.trades_history.filter(pl.col('type') == 'trade').select('pnl').sum().item()\n",
    "n_deals = grid_bot.trades_history.filter(pl.col('type') == 'trade').height\n",
    "funding = grid_bot.trades_history.filter(pl.col('type') == 'funding').select('pnl').sum().item()\n",
    "fees = grid_bot.trades_history.filter(pl.col('type') == 'trade').select('open_fee', 'close_fee').sum().sum_horizontal().item()\n",
    "mean_pnl = grid_bot.trades_history.filter(pl.col('type') == 'trade').select('pnl').mean().item()\n",
    "\n",
    "results[n_grids] = {'n_deals': n_deals, 'profit': profit, 'grid_profit': grid_profit, 'funding': funding, 'fees': fees, 'mean_pnl': mean_pnl}\n",
    "\n",
    "print(f'{n_grids=}: {n_deals=}; PnL: {profit:.2f}; grid profit: {grid_profit:.2f}; funding: {funding:.2f}; fees: {fees:.2f}; mean_pnl: {mean_pnl:.2f}')"
   ]
  },
  {
   "cell_type": "code",
   "execution_count": null,
   "id": "5da3f0b0-2fc5-4434-bea5-da7c1bc17211",
   "metadata": {},
   "outputs": [],
   "source": [
    "# MAGIC\n",
    "# n_grids=20: n_deals=227; PnL: 24.14; grid profit: 21.44; funding: 2.70; fees: 0.38; mean_pnl: 0.09\n",
    "# n_grids=65: n_deals=2356; PnL: 22.90; grid profit: 20.38; funding: 2.51; fees: 1.14; mean_pnl: 0.01"
   ]
  },
  {
   "cell_type": "code",
   "execution_count": null,
   "id": "28d44350-2708-49d2-bba7-9e1b8d552e3e",
   "metadata": {},
   "outputs": [],
   "source": []
  },
  {
   "cell_type": "code",
   "execution_count": null,
   "id": "d439488b-751e-4ce7-abb3-d8f3b67d0bd3",
   "metadata": {},
   "outputs": [],
   "source": [
    "print(grid_bot.open_positions)"
   ]
  },
  {
   "cell_type": "code",
   "execution_count": null,
   "id": "00595c65-3dad-428f-8a0a-2b44d1504899",
   "metadata": {},
   "outputs": [],
   "source": [
    "print(grid_bot.grid)"
   ]
  },
  {
   "cell_type": "code",
   "execution_count": null,
   "id": "c2851cfe-2745-4c50-9c19-32e84184c406",
   "metadata": {},
   "outputs": [],
   "source": []
  },
  {
   "cell_type": "code",
   "execution_count": null,
   "id": "aeca30e7-d765-40ab-9c28-772e6792f9e3",
   "metadata": {},
   "outputs": [],
   "source": [
    "grid_bot.df"
   ]
  },
  {
   "cell_type": "code",
   "execution_count": null,
   "id": "80af4355-467a-4da3-bf5e-71b58bd769f0",
   "metadata": {},
   "outputs": [],
   "source": []
  },
  {
   "cell_type": "code",
   "execution_count": null,
   "id": "6bb1b2ba-bdbf-4884-965b-692a463015fc",
   "metadata": {},
   "outputs": [],
   "source": []
  },
  {
   "cell_type": "code",
   "execution_count": null,
   "id": "acbdd4be-0a85-4d54-9034-710b1221530f",
   "metadata": {},
   "outputs": [],
   "source": []
  },
  {
   "cell_type": "code",
   "execution_count": null,
   "id": "64569b22-5f73-4e1d-bea1-0f4309caf353",
   "metadata": {},
   "outputs": [],
   "source": [
    "grid_bot.trades_history.sample(3)"
   ]
  },
  {
   "cell_type": "code",
   "execution_count": null,
   "id": "53c0fd43-b545-4f1b-8c27-7ea394ddf005",
   "metadata": {},
   "outputs": [],
   "source": []
  },
  {
   "cell_type": "code",
   "execution_count": null,
   "id": "24ea47d0-1f9d-4b19-87ec-88c3b097ed4d",
   "metadata": {},
   "outputs": [],
   "source": []
  },
  {
   "cell_type": "code",
   "execution_count": null,
   "id": "f184cee0-38cd-4d34-b296-fa8a1bdfd50b",
   "metadata": {},
   "outputs": [],
   "source": []
  },
  {
   "cell_type": "code",
   "execution_count": null,
   "id": "458d40ba-9a5f-4c7f-80c1-22abcf1f9325",
   "metadata": {},
   "outputs": [],
   "source": [
    "def create_grid(min_price, max_price, ct_val, price_scale, n_grids):\n",
    "    \"\"\"Создаёт уровни сетки с округлением до указанной точности.\"\"\"\n",
    "    grid = [min_price]\n",
    "    price = min_price\n",
    "    grid_space = round((max_price - min_price) / (n_grids), price_scale)\n",
    "    \n",
    "    for i in range(n_grids - 1):\n",
    "        price = round(price + grid_space, price_scale)\n",
    "        grid.append(price)\n",
    "    return grid \n",
    "\n",
    "def calculate_order_size(min_price, max_price, usdt_amount, leverage, ct_val, n_grids):\n",
    "    \"\"\"Рассчитывает количество контрактов на один ордер.\"\"\"\n",
    "    av_price = (min_price + max_price) / 2\n",
    "    av_price = max_price\n",
    "    total_contracts = int(usdt_amount * leverage / (av_price * ct_val))\n",
    "    contracts_per_order = int(total_contracts / (n_grids - 1))\n",
    "    return contracts_per_order\n"
   ]
  },
  {
   "cell_type": "code",
   "execution_count": null,
   "id": "c0309054-4b76-4a82-8188-bf676a414a13",
   "metadata": {},
   "outputs": [],
   "source": [
    "usdt_amount = 100\n",
    "leverage = 2\n",
    "min_price = 0.0088\n",
    "max_price = 0.0155\n",
    "ct_val = 1\n",
    "price_scale = 6\n",
    "n_grids = 50"
   ]
  },
  {
   "cell_type": "code",
   "execution_count": null,
   "id": "cb0446c0-cfdd-4657-8d02-82a087bb0a17",
   "metadata": {},
   "outputs": [],
   "source": [
    "print(create_grid(min_price, max_price, ct_val, price_scale, n_grids))"
   ]
  },
  {
   "cell_type": "code",
   "execution_count": null,
   "id": "14f8cc80-6153-42fc-961e-43bf8769f125",
   "metadata": {},
   "outputs": [],
   "source": [
    "calculate_order_size(min_price, max_price, usdt_amount, leverage, ct_val, n_grids)"
   ]
  },
  {
   "cell_type": "code",
   "execution_count": null,
   "id": "e8b46b8e-c7e6-409b-8ad2-a2cc89b3b36d",
   "metadata": {},
   "outputs": [],
   "source": [
    "0.015366 /"
   ]
  },
  {
   "cell_type": "code",
   "execution_count": null,
   "id": "db26372f-ec19-4a69-b70f-d8574f341afa",
   "metadata": {},
   "outputs": [],
   "source": [
    "200 / 0.01483 / 50"
   ]
  },
  {
   "cell_type": "code",
   "execution_count": null,
   "id": "16444de3-e212-4058-a11b-5057f90daf66",
   "metadata": {},
   "outputs": [],
   "source": []
  },
  {
   "cell_type": "code",
   "execution_count": null,
   "id": "f310f612-f800-4c23-822d-4ab65e0b345c",
   "metadata": {},
   "outputs": [],
   "source": []
  },
  {
   "cell_type": "code",
   "execution_count": null,
   "id": "19e91495-dde2-4a48-b011-49d1227122e1",
   "metadata": {},
   "outputs": [],
   "source": [
    "0.01416 - 0.014026, 0.014294 - 0.01416, 0.014026 - 0.013892"
   ]
  },
  {
   "cell_type": "code",
   "execution_count": null,
   "id": "976722ec-4ad0-4a70-a598-368b6da83921",
   "metadata": {},
   "outputs": [],
   "source": []
  },
  {
   "cell_type": "code",
   "execution_count": null,
   "id": "6a72ee87-2d46-4640-b5db-5fec38193f50",
   "metadata": {},
   "outputs": [],
   "source": []
  },
  {
   "cell_type": "code",
   "execution_count": null,
   "id": "2cda6452-20fa-4117-b683-463622509705",
   "metadata": {},
   "outputs": [],
   "source": [
    "import matplotlib.pyplot as plt\n"
   ]
  },
  {
   "cell_type": "code",
   "execution_count": null,
   "id": "c3e4c6ae-51a5-4a84-8499-452a4085c3a2",
   "metadata": {},
   "outputs": [],
   "source": [
    "x_axis = list(results.keys())\n",
    "sum_profit_arr = []\n",
    "grid_profit_arr = []\n",
    "fee_arr = []\n",
    "funding_arr = []\n",
    "mean_pnl_arr = []\n",
    "\n",
    "for key, value in results.items():\n",
    "    sum_profit_arr.append(value['profit'])\n",
    "    grid_profit_arr.append(value['grid_profit'])\n",
    "    fee_arr.append(value['fees'])\n",
    "    funding_arr.append(value['funding'])\n",
    "    mean_pnl_arr.append(value['mean_pnl'])"
   ]
  },
  {
   "cell_type": "code",
   "execution_count": null,
   "id": "18c4683b-86de-4206-897a-b752dcae876c",
   "metadata": {},
   "outputs": [],
   "source": [
    "plt.figure(figsize=(14, 3))\n",
    "plt.plot(x_axis, sum_profit_arr, label='Profit')\n",
    "plt.plot(x_axis, grid_profit_arr, label='Grid Profit')\n",
    "plt.plot(x_axis, fee_arr, label='Fees')\n",
    "plt.plot(x_axis, mean_pnl_arr, label='Mean PnL')\n",
    "\n",
    "plt.xlabel('n_grids')\n",
    "plt.ylabel('Cumulative PnL')\n",
    "plt.legend()\n",
    "plt.show()"
   ]
  },
  {
   "cell_type": "code",
   "execution_count": null,
   "id": "8c2feffe-c31b-420f-a763-26c6cf7392b5",
   "metadata": {},
   "outputs": [],
   "source": []
  },
  {
   "cell_type": "code",
   "execution_count": null,
   "id": "a123161a-dfbb-40ef-91fd-b28e874e0dfb",
   "metadata": {},
   "outputs": [],
   "source": [
    "# Прежде чем запускать любого бота, необходимо проверить историю фандинга."
   ]
  }
 ],
 "metadata": {
  "kernelspec": {
   "display_name": "Python 3 (ipykernel)",
   "language": "python",
   "name": "python3"
  },
  "language_info": {
   "codemirror_mode": {
    "name": "ipython",
    "version": 3
   },
   "file_extension": ".py",
   "mimetype": "text/x-python",
   "name": "python",
   "nbconvert_exporter": "python",
   "pygments_lexer": "ipython3",
   "version": "3.13.5"
  }
 },
 "nbformat": 4,
 "nbformat_minor": 5
}
