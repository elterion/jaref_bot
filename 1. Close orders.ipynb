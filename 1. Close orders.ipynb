{
 "cells": [
  {
   "cell_type": "code",
   "execution_count": 16,
   "id": "d9a70af3-d755-498a-a538-2a0a202ef15e",
   "metadata": {},
   "outputs": [
    {
     "name": "stdout",
     "output_type": "stream",
     "text": [
      "The autoreload extension is already loaded. To reload it, use:\n",
      "  %reload_ext autoreload\n"
     ]
    }
   ],
   "source": [
    "%load_ext autoreload\n",
    "%autoreload 2\n",
    "\n",
    "from jaref_bot.data.http_api import ExchangeManager, BybitRestAPI, OKXRestAPI, GateIORestAPI\n",
    "from jaref_bot.db.postgres_manager import DBManager\n",
    "from jaref_bot.db.redis_manager import RedisManager\n",
    "from jaref_bot.strategies.arbitrage import find_tokens_to_close_order, get_close_volume\n",
    "from jaref_bot.trading.trade_api import BybitTrade, OkxTrade, GateTrade\n",
    "from jaref_bot.utils.coins import get_step_info, get_min_qty, round_volume\n",
    "from jaref_bot.data.data_functions import is_data_up_to_date\n",
    "from jaref_bot.trading.functions import place_limit_order, cancel_order, set_leverage\n",
    "\n",
    "\n",
    "from jaref_bot.config.credentials import host, user, password, db_name\n",
    "\n",
    "import signal\n",
    "from IPython.display import clear_output\n",
    "\n",
    "import pandas as pd\n",
    "import polars as pl\n",
    "import warnings\n",
    "warnings.simplefilter(action='ignore', category=FutureWarning)\n",
    "\n",
    "import logging\n",
    "from datetime import datetime\n",
    "from time import sleep\n",
    "import pickle\n",
    "from copy import deepcopy\n",
    "from decimal import Decimal, ROUND_DOWN, getcontext\n",
    "getcontext().prec = 8\n",
    "\n",
    "import redis\n",
    "from redis.exceptions import ConnectionError\n",
    "\n",
    "from asyncio.exceptions import CancelledError\n",
    "import aiohttp, asyncio\n",
    "import nest_asyncio\n",
    "nest_asyncio.apply()"
   ]
  },
  {
   "cell_type": "code",
   "execution_count": 17,
   "id": "a484805c-e923-4ef2-aa61-8c3b8b084a9f",
   "metadata": {},
   "outputs": [],
   "source": [
    "logging.basicConfig(level=logging.INFO,\n",
    "                    format=\"%(asctime)s %(message)s\")\n",
    "logging.getLogger('aiohttp').setLevel('ERROR')\n",
    "logging.getLogger('asyncio').setLevel('ERROR')\n",
    "logger = logging.getLogger()"
   ]
  },
  {
   "cell_type": "code",
   "execution_count": 18,
   "id": "93aa8308-3fe7-402f-9671-71b3bd118231",
   "metadata": {
    "jupyter": {
     "source_hidden": true
    }
   },
   "outputs": [],
   "source": [
    "def signal_handler(sig, frame):\n",
    "    global exit_flag\n",
    "    print('Завершение работы.')\n",
    "    exit_flag = True"
   ]
  },
  {
   "cell_type": "code",
   "execution_count": 19,
   "id": "f3028e2b-8fc7-45bf-a8f8-8b10c8ff10d1",
   "metadata": {},
   "outputs": [],
   "source": [
    "def handle_close_position(demo, resp, exc, symbol, order_type):\n",
    "    exc_dict = {'bybit': BybitTrade, 'okx': OkxTrade, 'gate': GateTrade}\n",
    "    exchange, market_type = exc.split('_')\n",
    "    exc_manager = exc_dict[exchange](demo=demo)\n",
    "\n",
    "    ct_val = coin_information[exc][symbol]['ct_val']\n",
    "\n",
    "    if exchange == 'gate':\n",
    "        handle_gate_resp(resp=resp, market_type=market_type)\n",
    "    else:\n",
    "        pos = exc_manager.get_order(symbol=symbol, market_type='linear', order_id=resp, order_type=order_type, ct_val=ct_val)\n",
    "        if pos:\n",
    "            postgre_manager.close_order(token=symbol, exchange=exchange, market_type=market_type, qty=abs(pos['qty']), close_price=pos['price'], \n",
    "                               close_usdt_amount=pos['usdt_amount'], close_fee=pos['fee'])\n",
    "            logger.info(f'[POSITION CLOSE] {pos['order_side']} {pos['qty']} {symbol} for {pos['usdt_amount']} (price: {pos['price']}) on {exchange}')"
   ]
  },
  {
   "cell_type": "code",
   "execution_count": 20,
   "id": "e21896cf-5ba6-444e-a50a-c4db0e1e0fda",
   "metadata": {},
   "outputs": [],
   "source": [
    "def handle_gate_resp(resp, market_type):\n",
    "    _id = resp['id']\n",
    "    fee_proc = Decimal(resp['tkfr'])\n",
    "    token = resp['contract']\n",
    "    price = Decimal(resp['fill_price'])\n",
    "    contr_size = Decimal(abs(resp['size']))\n",
    "    \n",
    "    ct_val = coin_information['gate' + '_' + market_type][token]['ct_val']\n",
    "    qty = contr_size * ct_val\n",
    "    usdt_amount = (qty * price).normalize()\n",
    "    side = 'buy' if resp['size'] > 0 else 'sell'\n",
    "    fee = (fee_proc * usdt_amount).normalize()\n",
    "    \n",
    "\n",
    "    postgre_manager.close_order(token=token, exchange='gate', market_type=market_type, qty=qty, close_price=price, \n",
    "                           close_usdt_amount=usdt_amount, close_fee=fee)\n",
    "    logger.info(f'[POSITION CLOSE] {side} {qty} {token} for {usdt_amount} (price: {price}) on gate')"
   ]
  },
  {
   "cell_type": "code",
   "execution_count": 21,
   "id": "94859a55-0925-4f63-a862-210115ad026c",
   "metadata": {},
   "outputs": [],
   "source": [
    "market_fees = {'bybit_spot': 0.001, 'bybit_linear': 0.001, 'okx_spot': 0.001, 'okx_linear': 0.0005,\n",
    "               'gate_spot': 0.002, 'gate_linear': 0.0005}"
   ]
  },
  {
   "cell_type": "code",
   "execution_count": 22,
   "id": "b146ee54-0b3a-47a8-8f8c-04acf52cffc2",
   "metadata": {},
   "outputs": [
    {
     "name": "stderr",
     "output_type": "stream",
     "text": [
      "2025-04-14 09:44:38 [INFO] Инициализируем биржи...\n"
     ]
    },
    {
     "name": "stdout",
     "output_type": "stream",
     "text": [
      "Сервер Redis запущен\n"
     ]
    }
   ],
   "source": [
    "logger.info('Инициализируем биржи...')\n",
    "# ====================================\n",
    "# Инициация нужных криптобирж, рынков и БД\n",
    "exc_manager = ExchangeManager()\n",
    "exc_manager.add_market(\"bybit_linear\", BybitRestAPI('linear'))\n",
    "exc_manager.add_market(\"okx_linear\", OKXRestAPI('linear'))\n",
    "exc_manager.add_market(\"gate_linear\", GateIORestAPI('linear'))\n",
    "\n",
    "db_params = {'host': host, 'user': user, 'password': password, 'dbname': db_name}\n",
    "postgre_manager = DBManager(db_params)\n",
    "\n",
    "redis_client = redis.Redis(db=0, decode_responses=True)\n",
    "redis_price_manager = RedisManager(db_name = 'orderbooks')\n",
    "redis_order_manager = RedisManager(db_name = 'orders')\n",
    "\n",
    "try: \n",
    "    redis_client.ping()\n",
    "    print('Сервер Redis запущен')\n",
    "except ConnectionError:\n",
    "    print('Сервер Redis не отвечает')"
   ]
  },
  {
   "cell_type": "code",
   "execution_count": 23,
   "id": "7457ac9f-dd8c-422f-8aaf-67e99cd41c79",
   "metadata": {},
   "outputs": [],
   "source": [
    "with open(\"./data/coin_information.pkl\", \"rb\") as f:\n",
    "    coin_information = pickle.load(f)\n",
    "\n",
    "# with open(\"./data/close_order_history.pkl\", \"rb\") as f:\n",
    "#     orders_history = pickle.load(f)"
   ]
  },
  {
   "cell_type": "code",
   "execution_count": null,
   "id": "3185c618-4fb8-41f8-b010-c79e157e63a7",
   "metadata": {},
   "outputs": [],
   "source": []
  },
  {
   "cell_type": "code",
   "execution_count": 25,
   "id": "a65742eb-8b19-4cfa-bfd5-2aa776a26d49",
   "metadata": {},
   "outputs": [
    {
     "name": "stderr",
     "output_type": "stream",
     "text": [
      "2025-04-14 09:50:57 [INFO] Запускаем основной цикл программы...\n"
     ]
    },
    {
     "name": "stdout",
     "output_type": "stream",
     "text": [
      "Завершение работы.\n",
      "Завершение работы.\n"
     ]
    }
   ],
   "source": [
    "logger.info('Запускаем основной цикл программы...')\n",
    "\n",
    "close_tokens = {'ADA_USDT': {'long_exc': 'bybit', 'short_exc': 'okx', 'min_edge': -0.045},\n",
    "                'ALGO_USDT': {'long_exc': 'bybit', 'short_exc': 'gate', 'min_edge': -0.016}\n",
    "                    }\n",
    "\n",
    "exit_flag = False\n",
    "signal.signal(signal.SIGINT, signal_handler)\n",
    "# ====================================\n",
    "# Параметры запуска\n",
    "limit_type = 'limit' # Первый ордер ставим по лучшей цене, а второй отправляем сразу же, как сматчился первый\n",
    "n_ticks = Decimal('2')\n",
    "\n",
    "demo = True\n",
    "leverage = 1\n",
    "max_usdt_order = 100\n",
    "min_usdt_order = 50\n",
    "\n",
    "max_orders = 3\n",
    "# ====================================\n",
    "# Основной цикл\n",
    "while not exit_flag:\n",
    "    token, data = None, None\n",
    "    token_dict = dict()\n",
    "\n",
    "    current_orders = postgre_manager.get_table('current_orders')\n",
    "    n_current_orders = len(current_orders) // 2\n",
    "    pending_orders = redis_order_manager.get_pending_orders()\n",
    "    \n",
    "    try:\n",
    "        # Скачиваем текущие данные по ордербукам из Redis\n",
    "        try:\n",
    "            current_data = redis_price_manager.get_orderbooks(n_levels=5).filter(pl.col('symbol').is_in(arbitrage_tokens))\n",
    "        except pl.exceptions.ColumnNotFoundError:\n",
    "            sleep(1)\n",
    "            continue\n",
    "\n",
    "        # Проверка на то, что данные являются актуальными, что ни одна из бирж не подвисла\n",
    "        if not is_data_up_to_date(current_data, time_thresh=10):\n",
    "            logger.error(f'Устаревшие данные по ценам.')\n",
    "            sleep(1)\n",
    "        if len(current_data) == 0:\n",
    "            raise Exception('No data!')\n",
    "\n",
    "        sleep(0.5)\n",
    "    except (KeyboardInterrupt, CancelledError):\n",
    "        print('Завершение работы.')\n",
    "        break"
   ]
  },
  {
   "cell_type": "code",
   "execution_count": null,
   "id": "f107ec9a-b732-4ff4-86fd-f803a6852e6a",
   "metadata": {},
   "outputs": [],
   "source": []
  },
  {
   "cell_type": "code",
   "execution_count": null,
   "id": "ad5fc4c9-0bda-474b-a1b0-36fea0538055",
   "metadata": {},
   "outputs": [],
   "source": [
    "# Добавить проверку на профит при закрытии сделки.\n",
    "\n",
    "# Добавить учёт фандинга в профит\n",
    "# Посмотреть, чего за хуйня с определением профита на gate.io. Можно запросить ордеры по _id. История есть в окне трейдинга."
   ]
  },
  {
   "cell_type": "code",
   "execution_count": null,
   "id": "37169250-a6b5-43e6-a350-e21357f1acd7",
   "metadata": {},
   "outputs": [],
   "source": []
  },
  {
   "cell_type": "code",
   "execution_count": null,
   "id": "e524d843-7558-40dd-b5a9-91c9cf6f9953",
   "metadata": {},
   "outputs": [],
   "source": []
  },
  {
   "cell_type": "markdown",
   "id": "11aef174-15b5-4a0a-832e-253c827281cd",
   "metadata": {
    "jp-MarkdownHeadingCollapsed": true
   },
   "source": [
    "#### Закрытие арбитражных ордеров"
   ]
  },
  {
   "cell_type": "code",
   "execution_count": null,
   "id": "17b0ec14-08a2-46d3-9ab7-4f33c18b689e",
   "metadata": {},
   "outputs": [],
   "source": [
    "# logger.info('Запускаем основной цикл программы...')\n",
    "\n",
    "# demo = False\n",
    "\n",
    "# bybit_trade = BybitTrade(demo=demo)\n",
    "# okx_trade = OkxTrade(demo=demo)\n",
    "# gate_client = GateTrade(demo=demo)\n",
    "\n",
    "# std_coef = 1.8\n",
    "# min_edge = -0.05\n",
    "\n",
    "# exit_flag = False\n",
    "# signal.signal(signal.SIGINT, signal_handler)\n",
    "\n",
    "# while not exit_flag:\n",
    "#     token, data = None, None\n",
    "#     close_df = pd.DataFrame()\n",
    "#     token_list = []\n",
    "#     res = dict()\n",
    "    \n",
    "#     try:\n",
    "#         stats_data = postgre_manager.get_table('stats_data')\n",
    "#         stats_data = pl.from_pandas(stats_data)\n",
    "#         current_orders = postgre_manager.get_table('current_orders')\n",
    "#         current_orders = pl.from_pandas(current_orders)\n",
    "\n",
    "#         if len(current_orders) == 0:\n",
    "#             sleep(10)\n",
    "#             continue\n",
    "        \n",
    "#         # Скачиваем текущие данные по ордербукам из Redis\n",
    "#         try:\n",
    "#             current_data = redis_manager.get_orderbooks(n_levels=5)\n",
    "#         except pl.exceptions.ColumnNotFoundError:\n",
    "#             sleep(1)\n",
    "#             continue\n",
    "        \n",
    "#         # Проверка на то, что данные являются актуальными, что ни одна из бирж не подвисла\n",
    "#         sorted_df = current_data.sort(by='ts')\n",
    "#         oldest_ts_exc = sorted_df.select(\"exchange\").head(1).item()\n",
    "#         last_entry = sorted_df.filter(pl.col('exchange') == oldest_ts_exc).select(\"ts\").tail(1).item()\n",
    "#         time_delta = int(datetime.timestamp(datetime.now())) - last_entry\n",
    "        \n",
    "#         # Если данные на бирже последний раз обновлялись больше 20 секунд назад, прерываем работу программы\n",
    "#         if time_delta > 10:\n",
    "#             logger.error(f'Отсутствует соединение с биржей {oldest_ts_exc}.')\n",
    "#             sleep(5)\n",
    "#             continue\n",
    "        \n",
    "#         df_out = find_tokens_to_close_order(current_data=current_data, \n",
    "#                                             current_orders=current_orders, \n",
    "#                                             stats_data=stats_data, \n",
    "#                                             std_coef=std_coef, \n",
    "#                                             min_edge=min_edge)\n",
    "#         if df_out is None:\n",
    "#             sleep(0.05)\n",
    "#             continue\n",
    "        \n",
    "#         for row in df_out.to_dicts():\n",
    "#             token = row[\"token\"]\n",
    "#             long_exc = row[\"long_exc\"]\n",
    "#             short_exc = row[\"short_exc\"]\n",
    "\n",
    "#             long_exc_full = long_exc + '_linear'\n",
    "#             short_exc_full = short_exc + '_linear'\n",
    "#             qty_remain = float(row['qty'])\n",
    "\n",
    "#             lm_profit = row[\"lm_profit\"]\n",
    "#             sm_profit = row[\"sm_profit\"]\n",
    "#             profit = row[\"profit\"]\n",
    "        \n",
    "#             mean = row['cmean']\n",
    "#             std = row['cstd']\n",
    "#             diff_edge = mean + std_coef * std\n",
    "        \n",
    "#             min_qty = get_min_qty(coin_information, token, long_exc=long_exc_full, short_exc=short_exc_full)\n",
    "#             qty_step = get_step_info(coin_information, token, long_exc=long_exc_full, short_exc=short_exc_full)\n",
    "        \n",
    "#             df_long = current_data.filter((pl.col(\"exchange\") == long_exc) & (pl.col(\"symbol\") == token))\n",
    "#             df_short = current_data.filter((pl.col(\"exchange\") == short_exc) & (pl.col(\"symbol\") == token))\n",
    "            \n",
    "#             long_price = df_long.select('bidprice_0', 'bidprice_1', 'bidprice_2', 'bidprice_3', 'bidprice_4').row(0)\n",
    "#             long_size = df_long.select('bidvolume_0', 'bidvolume_1', 'bidvolume_2', 'bidvolume_3', 'bidvolume_4').row(0)\n",
    "#             short_price = df_short.select('askprice_0', 'askprice_1', 'askprice_2', 'askprice_3', 'askprice_4').row(0)\n",
    "#             short_size = df_short.select('askvolume_0', 'askvolume_1', 'askvolume_2', 'askvolume_3', 'askvolume_4').row(0)\n",
    "#             long_ob = [[price, size] for price, size in zip(long_price, long_size)]\n",
    "#             short_ob = [[price, size] for price, size in zip(short_price, short_size)]\n",
    "            \n",
    "#             edge = max(diff_edge, min_edge)\n",
    "#             res = get_close_volume(long_ob, short_ob, diff_edge=edge, min_qty=min_qty, max_qty=qty_remain)\n",
    "\n",
    "#             print(row)\n",
    "#             print(f'long: {long_ob}')\n",
    "#             print(f'short: {short_ob}')\n",
    "#             print('==========')\n",
    "            \n",
    "#             if res and res.get('volume', 0) >= min_qty:\n",
    "#                 volume = round_volume(volume=res['volume'], qty_step=qty_step)\n",
    "\n",
    "#                 # Если при округлении цена упала меньше минимально возможной\n",
    "#                 if volume < min_qty:\n",
    "#                     continue\n",
    "                \n",
    "#                 ct = datetime.now().strftime('%H:%M:%S')\n",
    "#                 curr_diff = res['edge']\n",
    "#                 deviation = (float(curr_diff) - mean) / std\n",
    "                \n",
    "#                 long_price = long_ob[0][0]\n",
    "#                 short_price = short_ob[0][0]\n",
    "\n",
    "#                 orders_history.append({'time': ct, 'row': row, 'long_ob': long_ob, 'short_ob': short_ob, \n",
    "#                                        'res': res, 'min_qty': min_qty, 'qty_step': qty_step,\n",
    "#                                       'lm_profit': lm_profit, 'sm_profit': sm_profit, 'profit': profit})\n",
    "\n",
    "#                 with open(\"./data/close_order_history.pkl\", \"wb\") as f:\n",
    "#                     pickle.dump(orders_history, f)\n",
    "                \n",
    "#                 logger.info(f'[PLACE CLOSE ORDER] {volume} {token}; diff: {curr_diff:.3f}, {diff_edge=:.3f}, {mean=:.3f}, {std=:.3f}; {deviation=:.3f}')\n",
    "#                 logger.info(f'Цены во время простановки ордера. long: {long_price} ({long_exc}), short: {short_price} ({short_exc})')\n",
    "\n",
    "#                 # Закрываем лонг-ордер\n",
    "#                 long_order_resp = place_market_order(demo=demo, exc=long_exc_full, symbol=token, side='sell', volume=volume)\n",
    "#                 logger.info(f'Ордер на лонг-рынке ({long_exc}) отправлен на биржу.')\n",
    "                \n",
    "#                 # Закрываем шорт-ордер\n",
    "#                 short_order_resp = place_market_order(demo=demo, exc=short_exc_full, symbol=token, side='buy', volume=volume)\n",
    "#                 logger.info(f'Ордер на шорт-рынке ({short_exc}) отправлен на биржу.')\n",
    "                \n",
    "#                 # Обрабатываем полученные ответы и заносим ордеры в БД\n",
    "#                 handle_close_position(demo=demo, resp=long_order_resp, exc=long_exc_full, symbol=token, order_type='market')\n",
    "#                 handle_close_position(demo=demo, resp=short_order_resp, exc=short_exc_full, symbol=token, order_type='market')\n",
    "\n",
    "#         sleep(0.05)\n",
    "#     except (KeyboardInterrupt, CancelledError):\n",
    "#         print('Завершение работы.')\n",
    "#         sys.exit()\n",
    "#     except RuntimeError as e:\n",
    "#         print(f\"Ошибка выполнения: {e}\")"
   ]
  },
  {
   "cell_type": "code",
   "execution_count": null,
   "id": "58402800-690b-47e5-842f-ceebc2650765",
   "metadata": {},
   "outputs": [],
   "source": []
  }
 ],
 "metadata": {
  "kernelspec": {
   "display_name": "Python 3 (ipykernel)",
   "language": "python",
   "name": "python3"
  },
  "language_info": {
   "codemirror_mode": {
    "name": "ipython",
    "version": 3
   },
   "file_extension": ".py",
   "mimetype": "text/x-python",
   "name": "python",
   "nbconvert_exporter": "python",
   "pygments_lexer": "ipython3",
   "version": "3.12.3"
  }
 },
 "nbformat": 4,
 "nbformat_minor": 5
}
