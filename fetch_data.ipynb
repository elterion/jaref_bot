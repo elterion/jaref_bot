{
 "cells": [
  {
   "cell_type": "markdown",
   "id": "856549c5-4ff3-42db-9e51-3d71094425e9",
   "metadata": {},
   "source": [
    "#### Download agg trades"
   ]
  },
  {
   "cell_type": "code",
   "execution_count": 1,
   "id": "b1afe551-2144-48b8-8e7c-7abc6950ca77",
   "metadata": {
    "execution": {
     "iopub.execute_input": "2025-08-10T14:56:57.579548Z",
     "iopub.status.busy": "2025-08-10T14:56:57.579065Z",
     "iopub.status.idle": "2025-08-10T14:56:58.762350Z",
     "shell.execute_reply": "2025-08-10T14:56:58.761019Z",
     "shell.execute_reply.started": "2025-08-10T14:56:57.579533Z"
    }
   },
   "outputs": [],
   "source": [
    "%load_ext autoreload\n",
    "%autoreload 2\n",
    "\n",
    "from datetime import datetime, timedelta, UTC\n",
    "from time import sleep\n",
    "import json\n",
    "from binance.client import Client\n",
    "import polars as pl\n",
    "\n",
    "from jaref_bot.utils.files import get_saved_coins\n",
    "\n",
    "client = Client()"
   ]
  },
  {
   "cell_type": "code",
   "execution_count": 2,
   "id": "02ef07ee-6b95-425b-9abb-7cc823d6453b",
   "metadata": {
    "execution": {
     "iopub.execute_input": "2025-08-10T14:57:00.606611Z",
     "iopub.status.busy": "2025-08-10T14:57:00.606285Z",
     "iopub.status.idle": "2025-08-10T14:57:00.648023Z",
     "shell.execute_reply": "2025-08-10T14:57:00.647187Z",
     "shell.execute_reply.started": "2025-08-10T14:57:00.606592Z"
    }
   },
   "outputs": [],
   "source": [
    "# Добавить фильтрацию по времени\n",
    "# Добавить разделение на цену покупки и цену продажи\n",
    "\n",
    "def add_json_to_df(symbol, df, truncate='1s'):\n",
    "    output_filename = f\"./data/agg_trades/{symbol}_data.jsonl\"\n",
    "    new_df = pl.scan_ndjson(output_filename).with_columns([\n",
    "        pl.col(\"ts\").cast(pl.Datetime(\"ms\")).alias(\"datetime\"),\n",
    "        pl.col(\"price\").cast(pl.Float64),\n",
    "        pl.col(\"qty\").cast(pl.Float64),\n",
    "        pl.col('buyer'),\n",
    "        pl.col('best_price')\n",
    "    ]).drop(\"ts\"\n",
    "    )\n",
    "        \n",
    "    if truncate:\n",
    "        new_df = new_df.group_by(pl.col(\"datetime\").dt.truncate(truncate)\n",
    "        ).agg([\n",
    "            pl.col(\"price\").last().alias(\"close\"),\n",
    "            pl.col(\"qty\").sum()\n",
    "        ]).sort(\"datetime\"\n",
    "        )\n",
    "\n",
    "    if df.height > 0:\n",
    "        return pl.concat([df, new_df.collect()]).unique().sort(by='datetime')\n",
    "    else:\n",
    "        return new_df.collect()"
   ]
  },
  {
   "cell_type": "code",
   "execution_count": 5,
   "id": "48b3831c-2ae5-4b4a-9180-2d83e84ed977",
   "metadata": {
    "execution": {
     "iopub.execute_input": "2025-08-10T14:58:35.444551Z",
     "iopub.status.busy": "2025-08-10T14:58:35.444064Z",
     "iopub.status.idle": "2025-08-10T14:58:35.471801Z",
     "shell.execute_reply": "2025-08-10T14:58:35.471337Z",
     "shell.execute_reply.started": "2025-08-10T14:58:35.444517Z"
    }
   },
   "outputs": [],
   "source": [
    "saved_coins = get_saved_coins(data_folder='./data/agg_trades')"
   ]
  },
  {
   "cell_type": "code",
   "execution_count": 6,
   "id": "342839dd-7aa7-47c1-9ecf-cb3b2d14d26f",
   "metadata": {
    "execution": {
     "iopub.execute_input": "2025-08-10T14:58:35.693654Z",
     "iopub.status.busy": "2025-08-10T14:58:35.693378Z",
     "iopub.status.idle": "2025-08-10T14:58:35.724707Z",
     "shell.execute_reply": "2025-08-10T14:58:35.724003Z",
     "shell.execute_reply.started": "2025-08-10T14:58:35.693636Z"
    }
   },
   "outputs": [
    {
     "name": "stdout",
     "output_type": "stream",
     "text": [
      "['ADA', 'AEVO', 'AI', 'ALGO', 'APE', 'AXS', 'BLUR', 'BTC', 'C98', 'CFX', 'CHZ', 'DYM', 'FIL', 'FLOW', 'GMT', 'GRT', 'ICX', 'INJ', 'IOTA', 'KAVA', 'KDA', 'MANTA', 'MINA', 'NEAR', 'OP', 'ORDI', 'PIXEL', 'SAND', 'SNX', 'SSV', 'STORJ', 'SUSHI', 'THETA', 'TIA', 'TON', 'VANRY', 'XTZ', 'ZK']\n"
     ]
    }
   ],
   "source": [
    "print(saved_coins)"
   ]
  },
  {
   "cell_type": "code",
   "execution_count": null,
   "id": "093ae15e-44a8-4d50-bb55-a68cb90946b7",
   "metadata": {},
   "outputs": [],
   "source": []
  },
  {
   "cell_type": "code",
   "execution_count": 8,
   "id": "08eb77da-b5e0-4bde-a464-1fe577441221",
   "metadata": {
    "execution": {
     "iopub.execute_input": "2025-08-10T15:00:10.410425Z",
     "iopub.status.busy": "2025-08-10T15:00:10.410025Z",
     "iopub.status.idle": "2025-08-10T16:30:47.300513Z",
     "shell.execute_reply": "2025-08-10T16:30:47.299776Z",
     "shell.execute_reply.started": "2025-08-10T15:00:10.410398Z"
    }
   },
   "outputs": [
    {
     "name": "stdout",
     "output_type": "stream",
     "text": [
      "Текущая дата: 2025-08-10 18:39:00, token: XAI      "
     ]
    }
   ],
   "source": [
    "days_to_download = (datetime.now() - datetime(2025, 1, 1)).days\n",
    "\n",
    "for symbol in ('STRK', 'XAI'):\n",
    "    output_filename = f\"./data/{symbol}_data.jsonl\"\n",
    "    \n",
    "    if symbol in saved_coins:\n",
    "        main_df = pl.read_parquet(f'./data/agg_trades/{symbol}_agg_trades.parquet')\n",
    "        start_dt = main_df['datetime'].last()\n",
    "    else:\n",
    "        main_df = pl.DataFrame()\n",
    "        start_dt = datetime.now(UTC) - timedelta(days=days_to_download)\n",
    "        \n",
    "    start_ms = int(start_dt.timestamp() * 1000)   \n",
    "    end_dt = datetime.now(UTC)\n",
    "    end_ms = int(end_dt.timestamp() * 1000)\n",
    "    \n",
    "    while start_ms < end_ms:\n",
    "        t = datetime.fromtimestamp(start_ms // 1000)\n",
    "        \n",
    "        try:\n",
    "            trades = client.get_aggregate_trades(symbol=symbol+'USDT', startTime=start_ms, limit=1000)\n",
    "        except Exception as e:\n",
    "            ct = datetime.now().strftime('%H:%M:%S')\n",
    "            print(f\"{ct} Ошибка при запросе с startTime={t.strftime('%Y-%m-%d %H:%M:%S')}: {e}\")\n",
    "            sleep(5)\n",
    "            continue\n",
    "    \n",
    "        # Если сделок нет, переходим вперед (например, увеличив start_ms на 1 минуту)\n",
    "        if not trades:\n",
    "            print(f\"Нет сделок с startTime={t.strftime('%Y-%m-%d %H:%M:%S')}, пропускаем интервал.\")\n",
    "            start_ms += 60000  # пропускаем 60 секунд\n",
    "            continue\n",
    "    \n",
    "        # Сохраняем полученные сделки в файл (JSON Lines)\n",
    "        with open(output_filename, \"a\", encoding=\"utf-8\") as f:\n",
    "            for trade in trades:\n",
    "                f.write(json.dumps({'ts': trade['T'],\n",
    "                                    'price': trade['p'], \n",
    "                                    'qty': trade['q'], \n",
    "                                    'buyer': trade['m'],\n",
    "                                    'best_price': trade['M']}, ensure_ascii=False) + \"\\n\")\n",
    "        \n",
    "        print(f\"Текущая дата: {t.strftime('%Y-%m-%d %H:%M:%S')}, token: {symbol}     \", end='\\r')\n",
    "    \n",
    "        # Обновляем start_ms: берём timestamp последней сделки и прибавляем 1 мс,\n",
    "        # чтобы не получить дублирование\n",
    "        start_ms = trades[-1]['T'] + 1\n",
    "    \n",
    "        # Небольшая задержка для соблюдения лимитов API\n",
    "        sleep(0.2)\n",
    "\n",
    "    main_df = add_json_to_parquet(symbol=symbol, df=main_df)\n",
    "    main_df.write_parquet(f'./data/agg_trades/{symbol}_agg_trades.parquet')"
   ]
  },
  {
   "cell_type": "code",
   "execution_count": null,
   "id": "831f2fd4-9298-4d03-a118-d8f11534812a",
   "metadata": {},
   "outputs": [],
   "source": []
  },
  {
   "cell_type": "code",
   "execution_count": null,
   "id": "529b8889-db35-4d2e-8204-321ec1b56bd1",
   "metadata": {},
   "outputs": [],
   "source": []
  },
  {
   "cell_type": "code",
   "execution_count": 40,
   "id": "b5aa292e-9d43-45c5-aab8-4a121075d432",
   "metadata": {
    "execution": {
     "iopub.execute_input": "2025-08-10T21:27:51.112737Z",
     "iopub.status.busy": "2025-08-10T21:27:51.112052Z",
     "iopub.status.idle": "2025-08-10T21:27:51.139144Z",
     "shell.execute_reply": "2025-08-10T21:27:51.138542Z",
     "shell.execute_reply.started": "2025-08-10T21:27:51.112720Z"
    }
   },
   "outputs": [],
   "source": [
    "def get_df_from_trades(trades):\n",
    "    df = pl.DataFrame(trades).with_columns([\n",
    "        pl.col(\"p\").cast(pl.Float64).alias(\"price\"),\n",
    "        pl.col(\"q\").cast(pl.Float64).alias(\"quantity\"),\n",
    "        (pl.col(\"T\") // 1000).cast(pl.Int64).alias(\"ts\")\n",
    "    ])\n",
    "    \n",
    "    # === Лучшие bid ===\n",
    "    best_bids = (\n",
    "        df.filter(pl.col(\"m\") == True)\n",
    "          .group_by(\"ts\")\n",
    "          .agg(pl.col(\"price\").max().alias(\"bid_price\"))\n",
    "    )\n",
    "    \n",
    "    bid_volumes = (\n",
    "        df.filter(pl.col(\"m\") == True)\n",
    "          .group_by([\"ts\", \"price\"])\n",
    "          .agg(pl.col(\"quantity\").sum().alias(\"bid_volume\"))\n",
    "    )\n",
    "    \n",
    "    best_bids = best_bids.join(\n",
    "        bid_volumes,\n",
    "        left_on=[\"ts\", \"bid_price\"],\n",
    "        right_on=[\"ts\", \"price\"]\n",
    "    )\n",
    "    \n",
    "    # === Лучшие ask ===\n",
    "    best_asks = (\n",
    "        df.filter(pl.col(\"m\") == False)\n",
    "          .group_by(\"ts\")\n",
    "          .agg(pl.col(\"price\").min().alias(\"ask_price\"))\n",
    "    )\n",
    "    \n",
    "    ask_volumes = (\n",
    "        df.filter(pl.col(\"m\") == False)\n",
    "          .group_by([\"ts\", \"price\"])\n",
    "          .agg(pl.col(\"quantity\").sum().alias(\"ask_volume\"))\n",
    "    )\n",
    "    \n",
    "    best_asks = best_asks.join(\n",
    "        ask_volumes,\n",
    "        left_on=[\"ts\", \"ask_price\"],\n",
    "        right_on=[\"ts\", \"price\"]\n",
    "    )\n",
    "    \n",
    "    # === Объединение ===\n",
    "    return best_bids.join(best_asks, on=\"ts\", how=\"full\", coalesce=True\n",
    "                        ).sort(\"ts\"\n",
    "                        ).with_columns(pl.from_epoch(\"ts\", time_unit=\"s\"\n",
    "                        ).alias(\"time\")\n",
    "                        ).select('time', 'bid_price', 'bid_volume', 'ask_price', 'ask_volume')"
   ]
  },
  {
   "cell_type": "code",
   "execution_count": 42,
   "id": "3fb7533e-a2de-44c8-b716-f1efb533a246",
   "metadata": {
    "execution": {
     "iopub.execute_input": "2025-08-10T21:28:49.536731Z",
     "iopub.status.busy": "2025-08-10T21:28:49.536470Z",
     "iopub.status.idle": "2025-08-10T21:28:49.581583Z",
     "shell.execute_reply": "2025-08-10T21:28:49.581148Z",
     "shell.execute_reply.started": "2025-08-10T21:28:49.536714Z"
    },
    "scrolled": true
   },
   "outputs": [
    {
     "data": {
      "text/html": [
       "<div><style>\n",
       ".dataframe > thead > tr,\n",
       ".dataframe > tbody > tr {\n",
       "  text-align: right;\n",
       "  white-space: pre-wrap;\n",
       "}\n",
       "</style>\n",
       "<small>shape: (10, 5)</small><table border=\"1\" class=\"dataframe\"><thead><tr><th>time</th><th>bid_price</th><th>bid_volume</th><th>ask_price</th><th>ask_volume</th></tr><tr><td>datetime[μs]</td><td>f64</td><td>f64</td><td>f64</td><td>f64</td></tr></thead><tbody><tr><td>2025-08-10 16:28:02</td><td>0.0537</td><td>6851.4</td><td>null</td><td>null</td></tr><tr><td>2025-08-10 16:28:10</td><td>null</td><td>null</td><td>0.0538</td><td>185.8</td></tr><tr><td>2025-08-10 16:28:11</td><td>0.0537</td><td>980.1</td><td>null</td><td>null</td></tr><tr><td>2025-08-10 16:28:13</td><td>null</td><td>null</td><td>0.0538</td><td>118.0</td></tr><tr><td>2025-08-10 16:28:51</td><td>null</td><td>null</td><td>0.0537</td><td>2438.9</td></tr><tr><td>2025-08-10 16:29:13</td><td>null</td><td>null</td><td>0.0538</td><td>118.0</td></tr><tr><td>2025-08-10 16:30:00</td><td>0.0537</td><td>4457.5</td><td>null</td><td>null</td></tr><tr><td>2025-08-10 16:30:07</td><td>null</td><td>null</td><td>0.0537</td><td>2893.2</td></tr><tr><td>2025-08-10 16:30:13</td><td>null</td><td>null</td><td>0.0538</td><td>118.0</td></tr><tr><td>2025-08-10 16:30:20</td><td>0.0537</td><td>5841.7</td><td>null</td><td>null</td></tr></tbody></table></div>"
      ],
      "text/plain": [
       "shape: (10, 5)\n",
       "┌─────────────────────┬───────────┬────────────┬───────────┬────────────┐\n",
       "│ time                ┆ bid_price ┆ bid_volume ┆ ask_price ┆ ask_volume │\n",
       "│ ---                 ┆ ---       ┆ ---        ┆ ---       ┆ ---        │\n",
       "│ datetime[μs]        ┆ f64       ┆ f64        ┆ f64       ┆ f64        │\n",
       "╞═════════════════════╪═══════════╪════════════╪═══════════╪════════════╡\n",
       "│ 2025-08-10 16:28:02 ┆ 0.0537    ┆ 6851.4     ┆ null      ┆ null       │\n",
       "│ 2025-08-10 16:28:10 ┆ null      ┆ null       ┆ 0.0538    ┆ 185.8      │\n",
       "│ 2025-08-10 16:28:11 ┆ 0.0537    ┆ 980.1      ┆ null      ┆ null       │\n",
       "│ 2025-08-10 16:28:13 ┆ null      ┆ null       ┆ 0.0538    ┆ 118.0      │\n",
       "│ 2025-08-10 16:28:51 ┆ null      ┆ null       ┆ 0.0537    ┆ 2438.9     │\n",
       "│ 2025-08-10 16:29:13 ┆ null      ┆ null       ┆ 0.0538    ┆ 118.0      │\n",
       "│ 2025-08-10 16:30:00 ┆ 0.0537    ┆ 4457.5     ┆ null      ┆ null       │\n",
       "│ 2025-08-10 16:30:07 ┆ null      ┆ null       ┆ 0.0537    ┆ 2893.2     │\n",
       "│ 2025-08-10 16:30:13 ┆ null      ┆ null       ┆ 0.0538    ┆ 118.0      │\n",
       "│ 2025-08-10 16:30:20 ┆ 0.0537    ┆ 5841.7     ┆ null      ┆ null       │\n",
       "└─────────────────────┴───────────┴────────────┴───────────┴────────────┘"
      ]
     },
     "execution_count": 42,
     "metadata": {},
     "output_type": "execute_result"
    }
   ],
   "source": [
    "get_df_from_trades(trades).tail(10)"
   ]
  },
  {
   "cell_type": "code",
   "execution_count": null,
   "id": "78b0ac0b-9ffc-481a-815b-99e19beb137d",
   "metadata": {},
   "outputs": [],
   "source": []
  },
  {
   "cell_type": "code",
   "execution_count": 44,
   "id": "d99bd9c7-37a1-4bac-a3c9-3baa56f9db38",
   "metadata": {
    "execution": {
     "iopub.execute_input": "2025-08-10T21:33:59.245446Z",
     "iopub.status.busy": "2025-08-10T21:33:59.245278Z",
     "iopub.status.idle": "2025-08-10T21:33:59.275650Z",
     "shell.execute_reply": "2025-08-10T21:33:59.275311Z",
     "shell.execute_reply.started": "2025-08-10T21:33:59.245436Z"
    }
   },
   "outputs": [
    {
     "data": {
      "text/html": [
       "<div><style>\n",
       ".dataframe > thead > tr,\n",
       ".dataframe > tbody > tr {\n",
       "  text-align: right;\n",
       "  white-space: pre-wrap;\n",
       "}\n",
       "</style>\n",
       "<small>shape: (10, 11)</small><table border=\"1\" class=\"dataframe\"><thead><tr><th>a</th><th>p</th><th>q</th><th>f</th><th>l</th><th>T</th><th>m</th><th>M</th><th>price</th><th>quantity</th><th>ts</th></tr><tr><td>i64</td><td>str</td><td>str</td><td>i64</td><td>i64</td><td>i64</td><td>bool</td><td>bool</td><td>f64</td><td>f64</td><td>i64</td></tr></thead><tbody><tr><td>33832567</td><td>&quot;0.05370000&quot;</td><td>&quot;6851.40000000&quot;</td><td>57550115</td><td>57550117</td><td>1754843282113</td><td>true</td><td>true</td><td>0.0537</td><td>6851.4</td><td>1754843282</td></tr><tr><td>33832568</td><td>&quot;0.05380000&quot;</td><td>&quot;185.80000000&quot;</td><td>57550118</td><td>57550118</td><td>1754843290374</td><td>false</td><td>true</td><td>0.0538</td><td>185.8</td><td>1754843290</td></tr><tr><td>33832569</td><td>&quot;0.05370000&quot;</td><td>&quot;980.10000000&quot;</td><td>57550119</td><td>57550119</td><td>1754843291709</td><td>true</td><td>true</td><td>0.0537</td><td>980.1</td><td>1754843291</td></tr><tr><td>33832570</td><td>&quot;0.05380000&quot;</td><td>&quot;118.00000000&quot;</td><td>57550120</td><td>57550120</td><td>1754843293179</td><td>false</td><td>true</td><td>0.0538</td><td>118.0</td><td>1754843293</td></tr><tr><td>33832571</td><td>&quot;0.05370000&quot;</td><td>&quot;2438.90000000&quot;</td><td>57550121</td><td>57550121</td><td>1754843331163</td><td>false</td><td>true</td><td>0.0537</td><td>2438.9</td><td>1754843331</td></tr><tr><td>33832572</td><td>&quot;0.05380000&quot;</td><td>&quot;118.00000000&quot;</td><td>57550122</td><td>57550122</td><td>1754843353518</td><td>false</td><td>true</td><td>0.0538</td><td>118.0</td><td>1754843353</td></tr><tr><td>33832573</td><td>&quot;0.05370000&quot;</td><td>&quot;4457.50000000&quot;</td><td>57550123</td><td>57550124</td><td>1754843400293</td><td>true</td><td>true</td><td>0.0537</td><td>4457.5</td><td>1754843400</td></tr><tr><td>33832574</td><td>&quot;0.05370000&quot;</td><td>&quot;2893.20000000&quot;</td><td>57550125</td><td>57550126</td><td>1754843407182</td><td>false</td><td>true</td><td>0.0537</td><td>2893.2</td><td>1754843407</td></tr><tr><td>33832575</td><td>&quot;0.05380000&quot;</td><td>&quot;118.00000000&quot;</td><td>57550127</td><td>57550127</td><td>1754843413547</td><td>false</td><td>true</td><td>0.0538</td><td>118.0</td><td>1754843413</td></tr><tr><td>33832576</td><td>&quot;0.05370000&quot;</td><td>&quot;5841.70000000&quot;</td><td>57550128</td><td>57550128</td><td>1754843420780</td><td>true</td><td>true</td><td>0.0537</td><td>5841.7</td><td>1754843420</td></tr></tbody></table></div>"
      ],
      "text/plain": [
       "shape: (10, 11)\n",
       "┌──────────┬────────────┬───────────────┬──────────┬───┬──────┬────────┬──────────┬────────────┐\n",
       "│ a        ┆ p          ┆ q             ┆ f        ┆ … ┆ M    ┆ price  ┆ quantity ┆ ts         │\n",
       "│ ---      ┆ ---        ┆ ---           ┆ ---      ┆   ┆ ---  ┆ ---    ┆ ---      ┆ ---        │\n",
       "│ i64      ┆ str        ┆ str           ┆ i64      ┆   ┆ bool ┆ f64    ┆ f64      ┆ i64        │\n",
       "╞══════════╪════════════╪═══════════════╪══════════╪═══╪══════╪════════╪══════════╪════════════╡\n",
       "│ 33832567 ┆ 0.05370000 ┆ 6851.40000000 ┆ 57550115 ┆ … ┆ true ┆ 0.0537 ┆ 6851.4   ┆ 1754843282 │\n",
       "│ 33832568 ┆ 0.05380000 ┆ 185.80000000  ┆ 57550118 ┆ … ┆ true ┆ 0.0538 ┆ 185.8    ┆ 1754843290 │\n",
       "│ 33832569 ┆ 0.05370000 ┆ 980.10000000  ┆ 57550119 ┆ … ┆ true ┆ 0.0537 ┆ 980.1    ┆ 1754843291 │\n",
       "│ 33832570 ┆ 0.05380000 ┆ 118.00000000  ┆ 57550120 ┆ … ┆ true ┆ 0.0538 ┆ 118.0    ┆ 1754843293 │\n",
       "│ 33832571 ┆ 0.05370000 ┆ 2438.90000000 ┆ 57550121 ┆ … ┆ true ┆ 0.0537 ┆ 2438.9   ┆ 1754843331 │\n",
       "│ 33832572 ┆ 0.05380000 ┆ 118.00000000  ┆ 57550122 ┆ … ┆ true ┆ 0.0538 ┆ 118.0    ┆ 1754843353 │\n",
       "│ 33832573 ┆ 0.05370000 ┆ 4457.50000000 ┆ 57550123 ┆ … ┆ true ┆ 0.0537 ┆ 4457.5   ┆ 1754843400 │\n",
       "│ 33832574 ┆ 0.05370000 ┆ 2893.20000000 ┆ 57550125 ┆ … ┆ true ┆ 0.0537 ┆ 2893.2   ┆ 1754843407 │\n",
       "│ 33832575 ┆ 0.05380000 ┆ 118.00000000  ┆ 57550127 ┆ … ┆ true ┆ 0.0538 ┆ 118.0    ┆ 1754843413 │\n",
       "│ 33832576 ┆ 0.05370000 ┆ 5841.70000000 ┆ 57550128 ┆ … ┆ true ┆ 0.0537 ┆ 5841.7   ┆ 1754843420 │\n",
       "└──────────┴────────────┴───────────────┴──────────┴───┴──────┴────────┴──────────┴────────────┘"
      ]
     },
     "execution_count": 44,
     "metadata": {},
     "output_type": "execute_result"
    }
   ],
   "source": [
    "pl.DataFrame(trades).with_columns([\n",
    "        pl.col(\"p\").cast(pl.Float64).alias(\"price\"),\n",
    "        pl.col(\"q\").cast(pl.Float64).alias(\"quantity\"),\n",
    "        (pl.col(\"T\") // 1000).cast(pl.Int64).alias(\"ts\")\n",
    "    ]).tail(10)"
   ]
  },
  {
   "cell_type": "code",
   "execution_count": null,
   "id": "7af21186-3d93-40f5-8a07-f35a09ebf6d6",
   "metadata": {},
   "outputs": [],
   "source": []
  },
  {
   "cell_type": "code",
   "execution_count": null,
   "id": "64f5ebcc-228d-4575-8ae9-ade948e3f24d",
   "metadata": {},
   "outputs": [],
   "source": []
  },
  {
   "cell_type": "code",
   "execution_count": null,
   "id": "11cfbbd4-1f55-4b08-89b3-87293efc4d66",
   "metadata": {},
   "outputs": [],
   "source": []
  },
  {
   "cell_type": "code",
   "execution_count": 10,
   "id": "2c8eb866-96da-4c2d-adf0-c7f4e2e9f120",
   "metadata": {
    "execution": {
     "iopub.execute_input": "2025-08-10T17:05:25.586816Z",
     "iopub.status.busy": "2025-08-10T17:05:25.586555Z",
     "iopub.status.idle": "2025-08-10T17:05:25.649914Z",
     "shell.execute_reply": "2025-08-10T17:05:25.649565Z",
     "shell.execute_reply.started": "2025-08-10T17:05:25.586799Z"
    }
   },
   "outputs": [
    {
     "data": {
      "text/html": [
       "<div><style>\n",
       ".dataframe > thead > tr,\n",
       ".dataframe > tbody > tr {\n",
       "  text-align: right;\n",
       "  white-space: pre-wrap;\n",
       "}\n",
       "</style>\n",
       "<small>shape: (1_993_349, 3)</small><table border=\"1\" class=\"dataframe\"><thead><tr><th>datetime</th><th>close</th><th>qty</th></tr><tr><td>datetime[ms]</td><td>f64</td><td>f64</td></tr></thead><tbody><tr><td>2024-12-31 15:54:37</td><td>0.2345</td><td>57746.4</td></tr><tr><td>2024-12-31 15:54:42</td><td>0.2344</td><td>34.6</td></tr><tr><td>2024-12-31 15:55:17</td><td>0.2344</td><td>97.0</td></tr><tr><td>2024-12-31 15:55:21</td><td>0.2343</td><td>48.7</td></tr><tr><td>2024-12-31 15:55:31</td><td>0.2343</td><td>629.6</td></tr><tr><td>&hellip;</td><td>&hellip;</td><td>&hellip;</td></tr><tr><td>2025-08-10 16:29:13</td><td>0.0538</td><td>118.0</td></tr><tr><td>2025-08-10 16:30:00</td><td>0.0537</td><td>4457.5</td></tr><tr><td>2025-08-10 16:30:07</td><td>0.0537</td><td>2893.2</td></tr><tr><td>2025-08-10 16:30:13</td><td>0.0538</td><td>118.0</td></tr><tr><td>2025-08-10 16:30:20</td><td>0.0537</td><td>5841.7</td></tr></tbody></table></div>"
      ],
      "text/plain": [
       "shape: (1_993_349, 3)\n",
       "┌─────────────────────┬────────┬─────────┐\n",
       "│ datetime            ┆ close  ┆ qty     │\n",
       "│ ---                 ┆ ---    ┆ ---     │\n",
       "│ datetime[ms]        ┆ f64    ┆ f64     │\n",
       "╞═════════════════════╪════════╪═════════╡\n",
       "│ 2024-12-31 15:54:37 ┆ 0.2345 ┆ 57746.4 │\n",
       "│ 2024-12-31 15:54:42 ┆ 0.2344 ┆ 34.6    │\n",
       "│ 2024-12-31 15:55:17 ┆ 0.2344 ┆ 97.0    │\n",
       "│ 2024-12-31 15:55:21 ┆ 0.2343 ┆ 48.7    │\n",
       "│ 2024-12-31 15:55:31 ┆ 0.2343 ┆ 629.6   │\n",
       "│ …                   ┆ …      ┆ …       │\n",
       "│ 2025-08-10 16:29:13 ┆ 0.0538 ┆ 118.0   │\n",
       "│ 2025-08-10 16:30:00 ┆ 0.0537 ┆ 4457.5  │\n",
       "│ 2025-08-10 16:30:07 ┆ 0.0537 ┆ 2893.2  │\n",
       "│ 2025-08-10 16:30:13 ┆ 0.0538 ┆ 118.0   │\n",
       "│ 2025-08-10 16:30:20 ┆ 0.0537 ┆ 5841.7  │\n",
       "└─────────────────────┴────────┴─────────┘"
      ]
     },
     "execution_count": 10,
     "metadata": {},
     "output_type": "execute_result"
    }
   ],
   "source": [
    "pl.read_parquet(f'./data/agg_trades/{symbol}_agg_trades.parquet')"
   ]
  },
  {
   "cell_type": "code",
   "execution_count": null,
   "id": "c6887a6e-e8e9-43c3-b7f7-85498c44550c",
   "metadata": {},
   "outputs": [],
   "source": []
  },
  {
   "cell_type": "code",
   "execution_count": null,
   "id": "e2104877-3367-4302-88ee-8159bb779b2f",
   "metadata": {},
   "outputs": [],
   "source": [
    "symbol = 'BTC'\n",
    "\n",
    "main_df = pl.DataFrame()\n",
    "main_df = add_json_to_parquet(symbol=symbol, df=main_df, truncate=False)\n",
    "main_df.write_parquet(f'./data/{symbol}_agg_trades.parquet')"
   ]
  },
  {
   "cell_type": "code",
   "execution_count": null,
   "id": "6169e04c-a18e-49d0-a9b0-ab7a981d3b9f",
   "metadata": {},
   "outputs": [],
   "source": []
  },
  {
   "cell_type": "code",
   "execution_count": null,
   "id": "da4b4f30-152f-4b8b-9281-97878f5a9757",
   "metadata": {},
   "outputs": [],
   "source": []
  },
  {
   "cell_type": "markdown",
   "id": "2bbcacdd-5ee4-479b-ab31-3a0db65be639",
   "metadata": {
    "jp-MarkdownHeadingCollapsed": true
   },
   "source": [
    "#### Download candles"
   ]
  },
  {
   "cell_type": "code",
   "execution_count": null,
   "id": "57b44675-cfec-4f88-beda-ccd9494cb159",
   "metadata": {},
   "outputs": [],
   "source": [
    "from jaref_bot.data.http_api import ExchangeManager, BybitRestAPI\n",
    "import pandas as pd"
   ]
  },
  {
   "cell_type": "code",
   "execution_count": null,
   "id": "42cf3c8b-5dbe-4d6a-ae98-c33589259ece",
   "metadata": {},
   "outputs": [],
   "source": [
    "async def get_data(symbol, interval, n_iters):\n",
    "    df = await exc_manager.get_candles(symbol=symbol, interval=interval, n_iters=n_iters)\n",
    "    df = df[0].sort_index()\n",
    "    return df.dropna()"
   ]
  },
  {
   "cell_type": "code",
   "execution_count": null,
   "id": "5f6cc629-2ab9-42fd-acef-9506208c7388",
   "metadata": {},
   "outputs": [],
   "source": [
    "exc_manager = ExchangeManager()\n",
    "exc_manager.add_market(\"bybit_linear\", BybitRestAPI('linear'))"
   ]
  },
  {
   "cell_type": "code",
   "execution_count": null,
   "id": "74ffb2f2-a57d-4c97-89a1-b99f884ce0d2",
   "metadata": {},
   "outputs": [],
   "source": [
    "res = await get_data(symbol='PAXG_USDT', interval='1m', n_iters=1000)"
   ]
  },
  {
   "cell_type": "code",
   "execution_count": null,
   "id": "a4e0cd8f-0dbd-436b-9a79-4045abc88a96",
   "metadata": {},
   "outputs": [],
   "source": [
    "res.to_parquet('./data/paxg_1m_data.parquet')"
   ]
  },
  {
   "cell_type": "code",
   "execution_count": null,
   "id": "5f9a31e6-f5d6-44cc-b74f-856787bca151",
   "metadata": {},
   "outputs": [],
   "source": []
  },
  {
   "cell_type": "code",
   "execution_count": null,
   "id": "806a8902-963e-4286-a797-4090a85faac8",
   "metadata": {},
   "outputs": [],
   "source": [
    "res"
   ]
  },
  {
   "cell_type": "code",
   "execution_count": null,
   "id": "b60d319d-1db6-45c1-83bb-92a980924e87",
   "metadata": {},
   "outputs": [],
   "source": []
  },
  {
   "cell_type": "code",
   "execution_count": null,
   "id": "51429ed3-5d08-4818-aeb8-785835b5a6b4",
   "metadata": {},
   "outputs": [],
   "source": []
  },
  {
   "cell_type": "code",
   "execution_count": null,
   "id": "7d036a5e-e44a-47a4-9481-4436aa2ec3a1",
   "metadata": {},
   "outputs": [],
   "source": [
    "df = pl.read_parquet('./data/paxg_1m_data.parquet')"
   ]
  },
  {
   "cell_type": "code",
   "execution_count": null,
   "id": "d37c651a-d0c1-409b-a088-f50381b11c88",
   "metadata": {},
   "outputs": [],
   "source": [
    "df = df.group_by(pl.col(\"Date\").dt.truncate('1d')\n",
    "    ).agg(\n",
    "        pl.col(\"Open\").first().alias('Open'),\n",
    "        pl.col(\"High\").max().alias('High'),\n",
    "        pl.col(\"Low\").min().alias('Low'),\n",
    "        pl.col(\"Close\").last().alias('Close'),\n",
    "        pl.col(\"Volume\").sum().alias('Volume'),\n",
    "    ).sort(by='Date')"
   ]
  },
  {
   "cell_type": "code",
   "execution_count": null,
   "id": "9b4cd488-bd04-4443-bf53-0f6b0eebefcf",
   "metadata": {},
   "outputs": [],
   "source": []
  },
  {
   "cell_type": "code",
   "execution_count": null,
   "id": "80c28ef1-dd38-4859-8185-dab9228f1f77",
   "metadata": {},
   "outputs": [],
   "source": [
    "import altair as alt"
   ]
  },
  {
   "cell_type": "code",
   "execution_count": null,
   "id": "21c5a9bf-a97d-4df2-b2be-8c19810e1210",
   "metadata": {},
   "outputs": [],
   "source": [
    "alt.Chart(df).mark_line().encode(\n",
    "    x=alt.X('Date:T', title=''),\n",
    "    y=alt.Y('Close:Q', title='usdt')\n",
    ").properties(title='BTC_USDT', width=960, height=150)"
   ]
  },
  {
   "cell_type": "code",
   "execution_count": null,
   "id": "29011ad9-4dfb-42c2-830b-c0aa90f89467",
   "metadata": {},
   "outputs": [],
   "source": []
  }
 ],
 "metadata": {
  "kernelspec": {
   "display_name": "Python 3 (ipykernel)",
   "language": "python",
   "name": "python3"
  },
  "language_info": {
   "codemirror_mode": {
    "name": "ipython",
    "version": 3
   },
   "file_extension": ".py",
   "mimetype": "text/x-python",
   "name": "python",
   "nbconvert_exporter": "python",
   "pygments_lexer": "ipython3",
   "version": "3.13.5"
  }
 },
 "nbformat": 4,
 "nbformat_minor": 5
}
