{
 "cells": [
  {
   "cell_type": "code",
   "execution_count": 1,
   "id": "6c8c678e-1c47-434f-9268-d5c1bf2464b6",
   "metadata": {},
   "outputs": [],
   "source": [
    "%load_ext autoreload\n",
    "%autoreload 2\n",
    "\n",
    "import os\n",
    "import re\n",
    "\n",
    "from datetime import datetime, timedelta\n",
    "from zoneinfo import ZoneInfo\n",
    "\n",
    "from jaref_bot.data.http_api import ExchangeManager, BybitRestAPI\n",
    "from jaref_bot.utils.files import load_tokens_from_file\n",
    "\n",
    "import pandas as pd\n",
    "pd.options.display.float_format = '{:.2f}'.format\n",
    "\n",
    "import polars as pl\n",
    "import polars_ols as pls\n",
    "\n",
    "import numpy as np\n",
    "import statsmodels.api as sm\n",
    "from statsmodels.tsa.stattools import adfuller, coint\n",
    "from itertools import combinations\n",
    "\n",
    "import matplotlib.pyplot as plt\n",
    "import seaborn as sns\n",
    "sns.set_style('whitegrid')\n",
    "\n",
    "import warnings\n",
    "warnings.filterwarnings(\"ignore\")\n",
    "\n",
    "from tqdm.notebook import tqdm"
   ]
  },
  {
   "cell_type": "code",
   "execution_count": 2,
   "id": "0ec64999-8bff-42f5-9274-853d1c09f700",
   "metadata": {
    "jupyter": {
     "source_hidden": true
    }
   },
   "outputs": [],
   "source": [
    "def get_saved_coins():\n",
    "    data_folder = os.path.join('.', 'data')\n",
    "    pattern = re.compile(r'^([^_]+)_agg_trades\\.parquet$', re.IGNORECASE)\n",
    "    coins = set()\n",
    "\n",
    "    for filename in os.listdir(data_folder):\n",
    "        file_path = os.path.join(data_folder, filename)\n",
    "        \n",
    "        # Проверяем, что это файл и соответствует шаблону\n",
    "        if os.path.isfile(file_path):\n",
    "            match = pattern.match(filename)\n",
    "            if match:\n",
    "                coin_name = match.group(1)\n",
    "                coins.add(coin_name.upper())  # Для единообразия приводим к верхнему регистру\n",
    "\n",
    "    return sorted(coins)"
   ]
  },
  {
   "cell_type": "code",
   "execution_count": 3,
   "id": "0b3b0eaa-ffc0-49ca-b2db-95438def1c69",
   "metadata": {},
   "outputs": [],
   "source": [
    "def read_and_scale_parquet(sym, period, start_date, end_date):\n",
    "    df = pl.read_parquet(f'./data/agg_trades/{sym}_agg_trades.parquet')\n",
    "\n",
    "    return df.group_by(pl.col(\"datetime\").dt.truncate(period)\n",
    "        ).agg([\n",
    "                  pl.col(\"close\").median().alias('price'),\n",
    "                  pl.col(\"qty\").sum()\n",
    "              ]\n",
    "        ).sort(by='datetime'\n",
    "        ).filter((pl.col('datetime') >= start_date) & (pl.col('datetime') < end_date))"
   ]
  },
  {
   "cell_type": "code",
   "execution_count": 4,
   "id": "9addccdc-5432-461c-800d-09ad4a65799c",
   "metadata": {},
   "outputs": [],
   "source": [
    "def prepare_normed_df(df):\n",
    "    return df.with_columns([\n",
    "        (\n",
    "          (pl.col(\"price\") - pl.col(\"price\").mean())  # вычитаем среднее\n",
    "          / pl.col(\"price\").std()                     # делим на стандартное отклонение\n",
    "        ).alias(\"normed_price\"),\n",
    "        (\n",
    "        pl.col(\"price\").log() \n",
    "        - pl.col(\"price\").log().first()\n",
    "        ).alias(\"log_price\")\n",
    "      ]).select('datetime', 'price', 'normed_price', 'log_price')"
   ]
  },
  {
   "cell_type": "code",
   "execution_count": null,
   "id": "cdce7ce6-f57c-4a34-a4e7-28306e3d61fc",
   "metadata": {},
   "outputs": [],
   "source": []
  },
  {
   "cell_type": "markdown",
   "id": "8df15055-f7b7-4a5e-81f9-f2a84d1431c9",
   "metadata": {},
   "source": [
    "#### Скачиваем данные с Bybit"
   ]
  },
  {
   "cell_type": "code",
   "execution_count": 5,
   "id": "e23f6f88-80d6-42b2-ab7f-8841986e8b18",
   "metadata": {},
   "outputs": [],
   "source": [
    "async def get_data(symbol, interval, n_iters):\n",
    "    df = await exc_manager.get_candles(symbol=symbol, interval=interval, n_iters=n_iters)\n",
    "    df = df['bybit_linear'].sort_index()\n",
    "    df['Returns'] = df['Close'].pct_change()\n",
    "    df['Log_price'] = np.log(df['Close'] + 1)\n",
    "    df['Log_returns'] = df['Log_price'].pct_change()\n",
    "    return df.dropna()"
   ]
  },
  {
   "cell_type": "code",
   "execution_count": 6,
   "id": "c1d6eae1-67b4-47e5-9c69-979d1f387891",
   "metadata": {},
   "outputs": [],
   "source": [
    "exc_manager = ExchangeManager()\n",
    "exc_manager.add_market(\"bybit_linear\", BybitRestAPI('linear'))"
   ]
  },
  {
   "cell_type": "code",
   "execution_count": 7,
   "id": "46f44ffc-6dc2-4705-9ef8-8064306df071",
   "metadata": {},
   "outputs": [
    {
     "data": {
      "text/plain": [
       "(999, 11)"
      ]
     },
     "execution_count": 7,
     "metadata": {},
     "output_type": "execute_result"
    }
   ],
   "source": [
    "res = await get_data(symbol='ADA_USDT', interval='1h', n_iters=1)\n",
    "res.shape"
   ]
  },
  {
   "cell_type": "code",
   "execution_count": 8,
   "id": "78958880-0d2c-44d9-a395-a14046eeac10",
   "metadata": {},
   "outputs": [],
   "source": [
    "top_1000_tokens = load_tokens_from_file(\"./data/top_1000_tokens.txt\")\n",
    "tokens_to_del = ['USDT', 'USDC', 'LEO', 'USDe', 'DAI', 'BGB', 'OKB', 'GT', 'FET', 'KCS', 'PYUSD', 'NEXO',\n",
    "                'XAUt', 'RAY', 'FTT', 'TUSD', 'MATIC', 'NFT', 'AMP', 'MX', 'TFUEL', 'MOG', 'BabyDoge', 'WEMIX',\n",
    "                'LAYER', 'DCR', 'PI', 'USD0',\n",
    "                'ALT', 'ANKR', 'ARK', 'AXL', 'BRETT', 'DYDX', 'ID', 'IO', 'LQTY', 'LRC', 'MASK', 'MOVR', \n",
    "                 'PYTH', 'RVN', 'T', 'WLD' # Излишне волатильные активы\n",
    "                ]\n",
    "token_list = [x + '_USDT' for x in top_1000_tokens if x not in tokens_to_del]"
   ]
  },
  {
   "cell_type": "code",
   "execution_count": 9,
   "id": "4e376de1-d86c-40a6-a192-8df7c4f11616",
   "metadata": {},
   "outputs": [
    {
     "data": {
      "text/plain": [
       "565"
      ]
     },
     "execution_count": 9,
     "metadata": {},
     "output_type": "execute_result"
    }
   ],
   "source": [
    "prices = await exc_manager.get_prices()\n",
    "prices = prices['bybit_linear']\n",
    "len(prices)"
   ]
  },
  {
   "cell_type": "code",
   "execution_count": null,
   "id": "3d6d50e3-4f8a-480b-96ad-9c107883e0c6",
   "metadata": {},
   "outputs": [],
   "source": []
  },
  {
   "cell_type": "code",
   "execution_count": 10,
   "id": "19e2afb6-4da6-469e-beca-0060d6a59f60",
   "metadata": {},
   "outputs": [
    {
     "data": {
      "application/vnd.jupyter.widget-view+json": {
       "model_id": "866d1011e6874577b6fd2d0c41b1a955",
       "version_major": 2,
       "version_minor": 0
      },
      "text/plain": [
       "  0%|          | 0/957 [00:00<?, ?it/s]"
      ]
     },
     "metadata": {},
     "output_type": "display_data"
    }
   ],
   "source": [
    "interval = '1d'\n",
    "n_iters = 1\n",
    "start_date = datetime(2025, 1, 1, tzinfo=ZoneInfo(\"Europe/Moscow\"))\n",
    "\n",
    "main_df = pd.DataFrame()\n",
    "\n",
    "token_dict = {'PEPE_USDT': '1000PEPE_USDT', 'SHIB_USDT': 'SHIB1000_USDT', 'FLOKI_USDT': '1000FLOKI_USDT',\n",
    "             'BONK_USDT': '1000BONK_USDT', 'BTT_USDT': '1000BTT_USDT', 'XEC_USDT': '1000XEC_USDT',\n",
    "             'LUNC_USDT': '1000LUNC_USDT', 'SATS_USDT': '10000SATS_USDT', 'TURBO_USDT': '1000TURBO_USDT',\n",
    "             'CAT_USDT': '1000CAT_USDT'}\n",
    "\n",
    "for token in tqdm(token_list):\n",
    "    if token in token_dict.keys():\n",
    "        token = token_dict[token]\n",
    "    try:\n",
    "        vol24 = prices.get(token).get('vol24h_usdt')\n",
    "    except AttributeError:\n",
    "        vol24 = 0\n",
    "\n",
    "    if vol24 < 1_000_000:\n",
    "        continue\n",
    "    \n",
    "    df = await get_data(symbol=token, interval=interval, n_iters=n_iters)\n",
    "    \n",
    "    if df.empty:\n",
    "        continue\n",
    "    df = df[df.index > start_date]\n",
    "\n",
    "    first_date = df.index[0].floor('D')\n",
    "    if first_date > pd.Timestamp('2025-01-01', tz='Europe/Moscow'):\n",
    "        continue\n",
    "        \n",
    "    main_df[f'{token[:-5]}_price'] = df['Close']\n",
    "    main_df[f'{token[:-5]}_return'] = df['Log_returns']"
   ]
  },
  {
   "cell_type": "code",
   "execution_count": null,
   "id": "29034a19-b338-4223-8227-69fa80216445",
   "metadata": {},
   "outputs": [],
   "source": []
  },
  {
   "cell_type": "code",
   "execution_count": 11,
   "id": "661990e0-baa5-4f4d-9f3b-c3cde19ea4db",
   "metadata": {},
   "outputs": [],
   "source": [
    "ret_cols = [col for col in main_df.columns if '_return' in col]\n",
    "corr_matrix = main_df[ret_cols].corr()"
   ]
  },
  {
   "cell_type": "code",
   "execution_count": 12,
   "id": "b73456d5-d159-4bf4-a720-cefabed76ff7",
   "metadata": {},
   "outputs": [
    {
     "data": {
      "text/html": [
       "<div>\n",
       "<style scoped>\n",
       "    .dataframe tbody tr th:only-of-type {\n",
       "        vertical-align: middle;\n",
       "    }\n",
       "\n",
       "    .dataframe tbody tr th {\n",
       "        vertical-align: top;\n",
       "    }\n",
       "\n",
       "    .dataframe thead th {\n",
       "        text-align: right;\n",
       "    }\n",
       "</style>\n",
       "<table border=\"1\" class=\"dataframe\">\n",
       "  <thead>\n",
       "    <tr style=\"text-align: right;\">\n",
       "      <th></th>\n",
       "      <th>BTC_return</th>\n",
       "      <th>ETH_return</th>\n",
       "      <th>XRP_return</th>\n",
       "      <th>BNB_return</th>\n",
       "      <th>SOL_return</th>\n",
       "      <th>DOGE_return</th>\n",
       "      <th>TRX_return</th>\n",
       "      <th>ADA_return</th>\n",
       "      <th>HYPE_return</th>\n",
       "      <th>SUI_return</th>\n",
       "      <th>...</th>\n",
       "      <th>MAV_return</th>\n",
       "      <th>L3_return</th>\n",
       "      <th>PORTAL_return</th>\n",
       "      <th>GTC_return</th>\n",
       "      <th>IDEX_return</th>\n",
       "      <th>ZEREBRO_return</th>\n",
       "      <th>CATI_return</th>\n",
       "      <th>HOOK_return</th>\n",
       "      <th>BAKE_return</th>\n",
       "      <th>OG_return</th>\n",
       "    </tr>\n",
       "  </thead>\n",
       "  <tbody>\n",
       "    <tr>\n",
       "      <th>BTC_return</th>\n",
       "      <td>1.00</td>\n",
       "      <td>0.80</td>\n",
       "      <td>0.77</td>\n",
       "      <td>0.67</td>\n",
       "      <td>0.79</td>\n",
       "      <td>0.80</td>\n",
       "      <td>0.48</td>\n",
       "      <td>0.74</td>\n",
       "      <td>0.62</td>\n",
       "      <td>0.76</td>\n",
       "      <td>...</td>\n",
       "      <td>0.60</td>\n",
       "      <td>0.31</td>\n",
       "      <td>0.52</td>\n",
       "      <td>0.63</td>\n",
       "      <td>0.37</td>\n",
       "      <td>0.43</td>\n",
       "      <td>0.38</td>\n",
       "      <td>0.59</td>\n",
       "      <td>0.45</td>\n",
       "      <td>0.17</td>\n",
       "    </tr>\n",
       "    <tr>\n",
       "      <th>ETH_return</th>\n",
       "      <td>0.80</td>\n",
       "      <td>1.00</td>\n",
       "      <td>0.73</td>\n",
       "      <td>0.73</td>\n",
       "      <td>0.77</td>\n",
       "      <td>0.86</td>\n",
       "      <td>0.52</td>\n",
       "      <td>0.73</td>\n",
       "      <td>0.59</td>\n",
       "      <td>0.76</td>\n",
       "      <td>...</td>\n",
       "      <td>0.69</td>\n",
       "      <td>0.32</td>\n",
       "      <td>0.56</td>\n",
       "      <td>0.68</td>\n",
       "      <td>0.42</td>\n",
       "      <td>0.44</td>\n",
       "      <td>0.50</td>\n",
       "      <td>0.70</td>\n",
       "      <td>0.50</td>\n",
       "      <td>0.27</td>\n",
       "    </tr>\n",
       "    <tr>\n",
       "      <th>XRP_return</th>\n",
       "      <td>0.77</td>\n",
       "      <td>0.73</td>\n",
       "      <td>1.00</td>\n",
       "      <td>0.61</td>\n",
       "      <td>0.77</td>\n",
       "      <td>0.77</td>\n",
       "      <td>0.45</td>\n",
       "      <td>0.84</td>\n",
       "      <td>0.50</td>\n",
       "      <td>0.68</td>\n",
       "      <td>...</td>\n",
       "      <td>0.58</td>\n",
       "      <td>0.23</td>\n",
       "      <td>0.53</td>\n",
       "      <td>0.57</td>\n",
       "      <td>0.36</td>\n",
       "      <td>0.37</td>\n",
       "      <td>0.42</td>\n",
       "      <td>0.55</td>\n",
       "      <td>0.40</td>\n",
       "      <td>0.25</td>\n",
       "    </tr>\n",
       "    <tr>\n",
       "      <th>BNB_return</th>\n",
       "      <td>0.67</td>\n",
       "      <td>0.73</td>\n",
       "      <td>0.61</td>\n",
       "      <td>1.00</td>\n",
       "      <td>0.66</td>\n",
       "      <td>0.72</td>\n",
       "      <td>0.49</td>\n",
       "      <td>0.58</td>\n",
       "      <td>0.55</td>\n",
       "      <td>0.64</td>\n",
       "      <td>...</td>\n",
       "      <td>0.65</td>\n",
       "      <td>0.34</td>\n",
       "      <td>0.54</td>\n",
       "      <td>0.63</td>\n",
       "      <td>0.40</td>\n",
       "      <td>0.36</td>\n",
       "      <td>0.47</td>\n",
       "      <td>0.70</td>\n",
       "      <td>0.65</td>\n",
       "      <td>0.25</td>\n",
       "    </tr>\n",
       "    <tr>\n",
       "      <th>SOL_return</th>\n",
       "      <td>0.79</td>\n",
       "      <td>0.77</td>\n",
       "      <td>0.77</td>\n",
       "      <td>0.66</td>\n",
       "      <td>1.00</td>\n",
       "      <td>0.78</td>\n",
       "      <td>0.45</td>\n",
       "      <td>0.75</td>\n",
       "      <td>0.60</td>\n",
       "      <td>0.76</td>\n",
       "      <td>...</td>\n",
       "      <td>0.64</td>\n",
       "      <td>0.27</td>\n",
       "      <td>0.52</td>\n",
       "      <td>0.63</td>\n",
       "      <td>0.37</td>\n",
       "      <td>0.42</td>\n",
       "      <td>0.50</td>\n",
       "      <td>0.64</td>\n",
       "      <td>0.43</td>\n",
       "      <td>0.25</td>\n",
       "    </tr>\n",
       "    <tr>\n",
       "      <th>...</th>\n",
       "      <td>...</td>\n",
       "      <td>...</td>\n",
       "      <td>...</td>\n",
       "      <td>...</td>\n",
       "      <td>...</td>\n",
       "      <td>...</td>\n",
       "      <td>...</td>\n",
       "      <td>...</td>\n",
       "      <td>...</td>\n",
       "      <td>...</td>\n",
       "      <td>...</td>\n",
       "      <td>...</td>\n",
       "      <td>...</td>\n",
       "      <td>...</td>\n",
       "      <td>...</td>\n",
       "      <td>...</td>\n",
       "      <td>...</td>\n",
       "      <td>...</td>\n",
       "      <td>...</td>\n",
       "      <td>...</td>\n",
       "      <td>...</td>\n",
       "    </tr>\n",
       "    <tr>\n",
       "      <th>ZEREBRO_return</th>\n",
       "      <td>0.43</td>\n",
       "      <td>0.44</td>\n",
       "      <td>0.37</td>\n",
       "      <td>0.36</td>\n",
       "      <td>0.42</td>\n",
       "      <td>0.45</td>\n",
       "      <td>0.22</td>\n",
       "      <td>0.38</td>\n",
       "      <td>0.31</td>\n",
       "      <td>0.53</td>\n",
       "      <td>...</td>\n",
       "      <td>0.41</td>\n",
       "      <td>0.17</td>\n",
       "      <td>0.34</td>\n",
       "      <td>0.37</td>\n",
       "      <td>0.30</td>\n",
       "      <td>1.00</td>\n",
       "      <td>0.40</td>\n",
       "      <td>0.45</td>\n",
       "      <td>0.27</td>\n",
       "      <td>0.28</td>\n",
       "    </tr>\n",
       "    <tr>\n",
       "      <th>CATI_return</th>\n",
       "      <td>0.38</td>\n",
       "      <td>0.50</td>\n",
       "      <td>0.42</td>\n",
       "      <td>0.47</td>\n",
       "      <td>0.50</td>\n",
       "      <td>0.52</td>\n",
       "      <td>0.31</td>\n",
       "      <td>0.41</td>\n",
       "      <td>0.35</td>\n",
       "      <td>0.50</td>\n",
       "      <td>...</td>\n",
       "      <td>0.61</td>\n",
       "      <td>0.18</td>\n",
       "      <td>0.48</td>\n",
       "      <td>0.55</td>\n",
       "      <td>0.34</td>\n",
       "      <td>0.40</td>\n",
       "      <td>1.00</td>\n",
       "      <td>0.60</td>\n",
       "      <td>0.43</td>\n",
       "      <td>0.41</td>\n",
       "    </tr>\n",
       "    <tr>\n",
       "      <th>HOOK_return</th>\n",
       "      <td>0.59</td>\n",
       "      <td>0.70</td>\n",
       "      <td>0.55</td>\n",
       "      <td>0.70</td>\n",
       "      <td>0.64</td>\n",
       "      <td>0.71</td>\n",
       "      <td>0.44</td>\n",
       "      <td>0.55</td>\n",
       "      <td>0.56</td>\n",
       "      <td>0.66</td>\n",
       "      <td>...</td>\n",
       "      <td>0.77</td>\n",
       "      <td>0.35</td>\n",
       "      <td>0.66</td>\n",
       "      <td>0.70</td>\n",
       "      <td>0.40</td>\n",
       "      <td>0.45</td>\n",
       "      <td>0.60</td>\n",
       "      <td>1.00</td>\n",
       "      <td>0.69</td>\n",
       "      <td>0.31</td>\n",
       "    </tr>\n",
       "    <tr>\n",
       "      <th>BAKE_return</th>\n",
       "      <td>0.45</td>\n",
       "      <td>0.50</td>\n",
       "      <td>0.40</td>\n",
       "      <td>0.65</td>\n",
       "      <td>0.43</td>\n",
       "      <td>0.50</td>\n",
       "      <td>0.35</td>\n",
       "      <td>0.39</td>\n",
       "      <td>0.41</td>\n",
       "      <td>0.49</td>\n",
       "      <td>...</td>\n",
       "      <td>0.56</td>\n",
       "      <td>0.24</td>\n",
       "      <td>0.49</td>\n",
       "      <td>0.52</td>\n",
       "      <td>0.31</td>\n",
       "      <td>0.27</td>\n",
       "      <td>0.43</td>\n",
       "      <td>0.69</td>\n",
       "      <td>1.00</td>\n",
       "      <td>0.24</td>\n",
       "    </tr>\n",
       "    <tr>\n",
       "      <th>OG_return</th>\n",
       "      <td>0.17</td>\n",
       "      <td>0.27</td>\n",
       "      <td>0.25</td>\n",
       "      <td>0.25</td>\n",
       "      <td>0.25</td>\n",
       "      <td>0.30</td>\n",
       "      <td>0.18</td>\n",
       "      <td>0.24</td>\n",
       "      <td>0.17</td>\n",
       "      <td>0.27</td>\n",
       "      <td>...</td>\n",
       "      <td>0.34</td>\n",
       "      <td>0.08</td>\n",
       "      <td>0.29</td>\n",
       "      <td>0.35</td>\n",
       "      <td>0.21</td>\n",
       "      <td>0.28</td>\n",
       "      <td>0.41</td>\n",
       "      <td>0.31</td>\n",
       "      <td>0.24</td>\n",
       "      <td>1.00</td>\n",
       "    </tr>\n",
       "  </tbody>\n",
       "</table>\n",
       "<p>192 rows × 192 columns</p>\n",
       "</div>"
      ],
      "text/plain": [
       "                BTC_return  ETH_return  XRP_return  BNB_return  SOL_return  \\\n",
       "BTC_return            1.00        0.80        0.77        0.67        0.79   \n",
       "ETH_return            0.80        1.00        0.73        0.73        0.77   \n",
       "XRP_return            0.77        0.73        1.00        0.61        0.77   \n",
       "BNB_return            0.67        0.73        0.61        1.00        0.66   \n",
       "SOL_return            0.79        0.77        0.77        0.66        1.00   \n",
       "...                    ...         ...         ...         ...         ...   \n",
       "ZEREBRO_return        0.43        0.44        0.37        0.36        0.42   \n",
       "CATI_return           0.38        0.50        0.42        0.47        0.50   \n",
       "HOOK_return           0.59        0.70        0.55        0.70        0.64   \n",
       "BAKE_return           0.45        0.50        0.40        0.65        0.43   \n",
       "OG_return             0.17        0.27        0.25        0.25        0.25   \n",
       "\n",
       "                DOGE_return  TRX_return  ADA_return  HYPE_return  SUI_return  \\\n",
       "BTC_return             0.80        0.48        0.74         0.62        0.76   \n",
       "ETH_return             0.86        0.52        0.73         0.59        0.76   \n",
       "XRP_return             0.77        0.45        0.84         0.50        0.68   \n",
       "BNB_return             0.72        0.49        0.58         0.55        0.64   \n",
       "SOL_return             0.78        0.45        0.75         0.60        0.76   \n",
       "...                     ...         ...         ...          ...         ...   \n",
       "ZEREBRO_return         0.45        0.22        0.38         0.31        0.53   \n",
       "CATI_return            0.52        0.31        0.41         0.35        0.50   \n",
       "HOOK_return            0.71        0.44        0.55         0.56        0.66   \n",
       "BAKE_return            0.50        0.35        0.39         0.41        0.49   \n",
       "OG_return              0.30        0.18        0.24         0.17        0.27   \n",
       "\n",
       "                ...  MAV_return  L3_return  PORTAL_return  GTC_return  \\\n",
       "BTC_return      ...        0.60       0.31           0.52        0.63   \n",
       "ETH_return      ...        0.69       0.32           0.56        0.68   \n",
       "XRP_return      ...        0.58       0.23           0.53        0.57   \n",
       "BNB_return      ...        0.65       0.34           0.54        0.63   \n",
       "SOL_return      ...        0.64       0.27           0.52        0.63   \n",
       "...             ...         ...        ...            ...         ...   \n",
       "ZEREBRO_return  ...        0.41       0.17           0.34        0.37   \n",
       "CATI_return     ...        0.61       0.18           0.48        0.55   \n",
       "HOOK_return     ...        0.77       0.35           0.66        0.70   \n",
       "BAKE_return     ...        0.56       0.24           0.49        0.52   \n",
       "OG_return       ...        0.34       0.08           0.29        0.35   \n",
       "\n",
       "                IDEX_return  ZEREBRO_return  CATI_return  HOOK_return  \\\n",
       "BTC_return             0.37            0.43         0.38         0.59   \n",
       "ETH_return             0.42            0.44         0.50         0.70   \n",
       "XRP_return             0.36            0.37         0.42         0.55   \n",
       "BNB_return             0.40            0.36         0.47         0.70   \n",
       "SOL_return             0.37            0.42         0.50         0.64   \n",
       "...                     ...             ...          ...          ...   \n",
       "ZEREBRO_return         0.30            1.00         0.40         0.45   \n",
       "CATI_return            0.34            0.40         1.00         0.60   \n",
       "HOOK_return            0.40            0.45         0.60         1.00   \n",
       "BAKE_return            0.31            0.27         0.43         0.69   \n",
       "OG_return              0.21            0.28         0.41         0.31   \n",
       "\n",
       "                BAKE_return  OG_return  \n",
       "BTC_return             0.45       0.17  \n",
       "ETH_return             0.50       0.27  \n",
       "XRP_return             0.40       0.25  \n",
       "BNB_return             0.65       0.25  \n",
       "SOL_return             0.43       0.25  \n",
       "...                     ...        ...  \n",
       "ZEREBRO_return         0.27       0.28  \n",
       "CATI_return            0.43       0.41  \n",
       "HOOK_return            0.69       0.31  \n",
       "BAKE_return            1.00       0.24  \n",
       "OG_return              0.24       1.00  \n",
       "\n",
       "[192 rows x 192 columns]"
      ]
     },
     "execution_count": 12,
     "metadata": {},
     "output_type": "execute_result"
    }
   ],
   "source": [
    "corr_matrix"
   ]
  },
  {
   "cell_type": "code",
   "execution_count": null,
   "id": "79e04e27-66ef-4bdb-a040-972eca12bc8a",
   "metadata": {},
   "outputs": [],
   "source": []
  },
  {
   "cell_type": "code",
   "execution_count": 13,
   "id": "f11e6536-de9a-4cc4-bcab-c0c061ebca0d",
   "metadata": {},
   "outputs": [
    {
     "data": {
      "text/plain": [
       "(192,)"
      ]
     },
     "execution_count": 13,
     "metadata": {},
     "output_type": "execute_result"
    }
   ],
   "source": [
    "token = 'BTC'\n",
    "token_df = corr_matrix[f'{token}_return']\n",
    "token_df.shape"
   ]
  },
  {
   "cell_type": "code",
   "execution_count": 14,
   "id": "758647ac-cf3a-4adf-b69d-023b0b6a84aa",
   "metadata": {},
   "outputs": [
    {
     "data": {
      "text/plain": [
       "PAXG_return    0.02\n",
       "ZBCN_return    0.17\n",
       "OM_return      0.25\n",
       "BAN_return     0.24\n",
       "AERGO_return   0.05\n",
       "OG_return      0.17\n",
       "Name: BTC_return, dtype: float64"
      ]
     },
     "execution_count": 14,
     "metadata": {},
     "output_type": "execute_result"
    }
   ],
   "source": [
    "token_df[abs(token_df) < 0.25]"
   ]
  },
  {
   "cell_type": "code",
   "execution_count": 15,
   "id": "14789442-ced5-48de-85d0-6af7c2b035b8",
   "metadata": {
    "scrolled": true
   },
   "outputs": [],
   "source": [
    "# token_df[abs(token_df) > 0.75]"
   ]
  },
  {
   "cell_type": "code",
   "execution_count": null,
   "id": "1f0d1dab-1bcc-48d8-bb6d-104d8ffb565a",
   "metadata": {},
   "outputs": [],
   "source": []
  },
  {
   "cell_type": "code",
   "execution_count": 16,
   "id": "2de20074-cc12-4896-8d49-7f89a3e5f7dc",
   "metadata": {},
   "outputs": [],
   "source": [
    "stacked = corr_matrix.stack().reset_index()\n",
    "stacked.columns = ['stock1', 'stock2', 'correlation']\n",
    "filtered_pairs = stacked[(stacked['correlation'] > 0.65) & (stacked['stock1'] < stacked['stock2'])].reset_index(drop=True)"
   ]
  },
  {
   "cell_type": "code",
   "execution_count": 17,
   "id": "31242bfb-0d8f-4ab1-81e5-a43a74b3a4b4",
   "metadata": {},
   "outputs": [
    {
     "name": "stdout",
     "output_type": "stream",
     "text": [
      "CPU times: total: 30.3 s\n",
      "Wall time: 22.2 s\n"
     ]
    }
   ],
   "source": [
    "%%time\n",
    "results = []\n",
    "n_rows = 300 # Сколько последних записей учитывать\n",
    "\n",
    "for _, row in filtered_pairs.iterrows():\n",
    "    stock1 = row['stock1'].replace('return', 'price')\n",
    "    stock2 = row['stock2'].replace('return', 'price')\n",
    "    corr_value = row['correlation']\n",
    "    \n",
    "    data = main_df[[stock1, stock2]].replace([np.inf, -np.inf], np.nan).dropna()\n",
    "    data = data[-n_rows:]\n",
    "    \n",
    "    if data.empty:\n",
    "        print(f\"Пара {stock1}-{stock2} пропущена, т.к. нет данных после очистки\")\n",
    "        continue\n",
    "    \n",
    "    last_price_1 = data[stock1].iloc[-1]\n",
    "    last_price_2 = data[stock2].iloc[-1]\n",
    "    diff = last_price_2 / last_price_1\n",
    "    if diff > 5 or diff < 0.2:\n",
    "        continue\n",
    "    \n",
    "    adf_stat, p_value, _ = coint(data[stock1], data[stock2], trend='c')\n",
    "\n",
    "    results.append({\n",
    "        'stock1': stock1,\n",
    "        'stock2': stock2,\n",
    "        'correlation': corr_value,\n",
    "        'adf_stat': adf_stat,\n",
    "        'p_value': p_value,\n",
    "    })\n",
    "\n",
    "result_df = pd.DataFrame(results)"
   ]
  },
  {
   "cell_type": "code",
   "execution_count": null,
   "id": "aeec77a4-0ec3-40d9-aa6c-ab501d8888df",
   "metadata": {},
   "outputs": [],
   "source": []
  },
  {
   "cell_type": "code",
   "execution_count": 18,
   "id": "34e4ed9c-8e0c-46b4-a0f0-6112a3efd773",
   "metadata": {},
   "outputs": [],
   "source": [
    "# token_1 = 'C98'\n",
    "# token_2 = 'ENJ'\n",
    "# toks = (token_1 + '_price', token_2 + '_price')\n",
    "\n",
    "tokens = ['AKT', 'APT', 'ARB', 'ARKM', 'C98',  'CELO', 'CHR', 'ENJ', 'FIL', 'FLOW', 'GALA', 'GMT', 'GRT', 'GTC',\n",
    "        'MANA', 'OGN', 'ONDO', 'ONG', 'OP', 'PHA', 'ROSE', 'SAND', 'STG', 'SNX', 'VET']\n",
    "tok_names = [t+'_price' for t in tokens]\n",
    "\n",
    "filter_df = pl.DataFrame(result_df).sort(by='p_value').filter(\n",
    "    pl.col('p_value') < 0.05\n",
    ").filter(\n",
    "    (pl.col('stock1').is_in(tok_names)) & (pl.col('stock2').is_in(tok_names))\n",
    ")"
   ]
  },
  {
   "cell_type": "code",
   "execution_count": 19,
   "id": "b45ba90a-06bf-4fc4-abd4-c78d3b2af059",
   "metadata": {},
   "outputs": [
    {
     "data": {
      "text/html": [
       "<div><style>\n",
       ".dataframe > thead > tr,\n",
       ".dataframe > tbody > tr {\n",
       "  text-align: right;\n",
       "  white-space: pre-wrap;\n",
       "}\n",
       "</style>\n",
       "<small>shape: (10, 5)</small><table border=\"1\" class=\"dataframe\"><thead><tr><th>stock1</th><th>stock2</th><th>correlation</th><th>adf_stat</th><th>p_value</th></tr><tr><td>str</td><td>str</td><td>f64</td><td>f64</td><td>f64</td></tr></thead><tbody><tr><td>&quot;APT_price&quot;</td><td>&quot;FIL_price&quot;</td><td>0.8678</td><td>-5.134268</td><td>0.000093</td></tr><tr><td>&quot;FIL_price&quot;</td><td>&quot;ONDO_price&quot;</td><td>0.793049</td><td>-5.084821</td><td>0.000115</td></tr><tr><td>&quot;GTC_price&quot;</td><td>&quot;OP_price&quot;</td><td>0.785636</td><td>-5.010067</td><td>0.000158</td></tr><tr><td>&quot;CELO_price&quot;</td><td>&quot;STG_price&quot;</td><td>0.768769</td><td>-4.999131</td><td>0.000165</td></tr><tr><td>&quot;MANA_price&quot;</td><td>&quot;ONDO_price&quot;</td><td>0.789312</td><td>-4.678131</td><td>0.000615</td></tr><tr><td>&quot;ARB_price&quot;</td><td>&quot;ONDO_price&quot;</td><td>0.769994</td><td>-4.656378</td><td>0.00067</td></tr><tr><td>&quot;GRT_price&quot;</td><td>&quot;VET_price&quot;</td><td>0.92622</td><td>-4.596883</td><td>0.000845</td></tr><tr><td>&quot;ARKM_price&quot;</td><td>&quot;ONDO_price&quot;</td><td>0.794769</td><td>-4.48767</td><td>0.001283</td></tr><tr><td>&quot;APT_price&quot;</td><td>&quot;ONDO_price&quot;</td><td>0.764191</td><td>-4.478912</td><td>0.001326</td></tr><tr><td>&quot;CELO_price&quot;</td><td>&quot;ONDO_price&quot;</td><td>0.784902</td><td>-4.410593</td><td>0.001711</td></tr></tbody></table></div>"
      ],
      "text/plain": [
       "shape: (10, 5)\n",
       "┌────────────┬────────────┬─────────────┬───────────┬──────────┐\n",
       "│ stock1     ┆ stock2     ┆ correlation ┆ adf_stat  ┆ p_value  │\n",
       "│ ---        ┆ ---        ┆ ---         ┆ ---       ┆ ---      │\n",
       "│ str        ┆ str        ┆ f64         ┆ f64       ┆ f64      │\n",
       "╞════════════╪════════════╪═════════════╪═══════════╪══════════╡\n",
       "│ APT_price  ┆ FIL_price  ┆ 0.8678      ┆ -5.134268 ┆ 0.000093 │\n",
       "│ FIL_price  ┆ ONDO_price ┆ 0.793049    ┆ -5.084821 ┆ 0.000115 │\n",
       "│ GTC_price  ┆ OP_price   ┆ 0.785636    ┆ -5.010067 ┆ 0.000158 │\n",
       "│ CELO_price ┆ STG_price  ┆ 0.768769    ┆ -4.999131 ┆ 0.000165 │\n",
       "│ MANA_price ┆ ONDO_price ┆ 0.789312    ┆ -4.678131 ┆ 0.000615 │\n",
       "│ ARB_price  ┆ ONDO_price ┆ 0.769994    ┆ -4.656378 ┆ 0.00067  │\n",
       "│ GRT_price  ┆ VET_price  ┆ 0.92622     ┆ -4.596883 ┆ 0.000845 │\n",
       "│ ARKM_price ┆ ONDO_price ┆ 0.794769    ┆ -4.48767  ┆ 0.001283 │\n",
       "│ APT_price  ┆ ONDO_price ┆ 0.764191    ┆ -4.478912 ┆ 0.001326 │\n",
       "│ CELO_price ┆ ONDO_price ┆ 0.784902    ┆ -4.410593 ┆ 0.001711 │\n",
       "└────────────┴────────────┴─────────────┴───────────┴──────────┘"
      ]
     },
     "execution_count": 19,
     "metadata": {},
     "output_type": "execute_result"
    }
   ],
   "source": [
    "filter_df[:10]"
   ]
  },
  {
   "cell_type": "code",
   "execution_count": 20,
   "id": "cbd5937f-94d4-491d-9396-5f6d8f1fb65f",
   "metadata": {},
   "outputs": [
    {
     "name": "stdout",
     "output_type": "stream",
     "text": [
      "[('APT', 'FIL'), ('FIL', 'ONDO'), ('GTC', 'OP'), ('CELO', 'STG'), ('MANA', 'ONDO'), ('ARB', 'ONDO'), ('GRT', 'VET'), ('ARKM', 'ONDO'), ('APT', 'ONDO'), ('CELO', 'ONDO'), ('FIL', 'SNX'), ('GMT', 'VET'), ('GRT', 'SAND'), ('GALA', 'GMT'), ('CELO', 'GRT'), ('FLOW', 'SNX'), ('FLOW', 'STG'), ('FLOW', 'GTC'), ('FLOW', 'ONDO'), ('GMT', 'STG'), ('CELO', 'SAND'), ('SAND', 'SNX'), ('OGN', 'SAND'), ('OP', 'SNX'), ('OGN', 'VET')]\n"
     ]
    }
   ],
   "source": [
    "token_list = []\n",
    "\n",
    "for row in filter_df.iter_rows(named=True):\n",
    "    t1 = row[\"stock1\"][:-6]\n",
    "    t2 = row[\"stock2\"][:-6]\n",
    "    \n",
    "    token_list.append((t1, t2))\n",
    "print(token_list)"
   ]
  },
  {
   "cell_type": "code",
   "execution_count": null,
   "id": "562acc8c-d6ab-40d4-9854-c57b4de004a9",
   "metadata": {},
   "outputs": [],
   "source": []
  },
  {
   "cell_type": "code",
   "execution_count": null,
   "id": "7f3c5a4a-3a47-47a4-be04-4e5c0e91ecc9",
   "metadata": {},
   "outputs": [],
   "source": []
  },
  {
   "cell_type": "code",
   "execution_count": null,
   "id": "c753b3db-e822-4975-8910-a977b4db0108",
   "metadata": {},
   "outputs": [],
   "source": []
  },
  {
   "cell_type": "code",
   "execution_count": null,
   "id": "1903777f-8e22-4c77-9452-f4a207d71f4e",
   "metadata": {},
   "outputs": [],
   "source": [
    "cointegrated_df = result_df[result_df['p_value'] < 0.05].sort_values(by='adf_stat').reset_index(drop=True)"
   ]
  },
  {
   "cell_type": "code",
   "execution_count": null,
   "id": "3716de6d-f2d1-4953-abcb-1db21f9cb94f",
   "metadata": {},
   "outputs": [],
   "source": [
    "coint_df = cointegrated_df[~((cointegrated_df['stock1'].isin(tok_names)) & (cointegrated_df['stock2'].isin(tok_names)))]"
   ]
  },
  {
   "cell_type": "code",
   "execution_count": null,
   "id": "a61c9497-4b0b-403f-9143-c56f48cc5ec8",
   "metadata": {},
   "outputs": [],
   "source": [
    "coint_df[0:10]"
   ]
  },
  {
   "cell_type": "code",
   "execution_count": null,
   "id": "6d97426e-b637-4899-a52c-f42537acfd04",
   "metadata": {},
   "outputs": [],
   "source": []
  },
  {
   "cell_type": "code",
   "execution_count": null,
   "id": "e8f2fb2e-d2d7-49ce-825d-8598da73ee62",
   "metadata": {},
   "outputs": [],
   "source": []
  },
  {
   "cell_type": "code",
   "execution_count": null,
   "id": "16e1687b-7147-4ffc-8bf6-84dee2413f59",
   "metadata": {},
   "outputs": [],
   "source": []
  },
  {
   "cell_type": "code",
   "execution_count": null,
   "id": "3ce2b5fe-1d6f-4e93-8019-b83611a689f7",
   "metadata": {},
   "outputs": [],
   "source": []
  },
  {
   "cell_type": "code",
   "execution_count": null,
   "id": "42e630c8-18cd-4d4d-9a15-6a66a08e1d6d",
   "metadata": {},
   "outputs": [],
   "source": []
  },
  {
   "cell_type": "code",
   "execution_count": null,
   "id": "20118d25-98b4-498f-a316-28c9743690dd",
   "metadata": {},
   "outputs": [],
   "source": []
  },
  {
   "cell_type": "code",
   "execution_count": null,
   "id": "edb33077-470a-407e-8334-ee198e7723d9",
   "metadata": {},
   "outputs": [],
   "source": []
  },
  {
   "cell_type": "code",
   "execution_count": null,
   "id": "e9fffded-d2fa-44ed-9a60-ed70b8e44549",
   "metadata": {},
   "outputs": [],
   "source": []
  },
  {
   "cell_type": "markdown",
   "id": "64c21eaf-78ac-4cb6-89a2-a1ac50c127c9",
   "metadata": {
    "jp-MarkdownHeadingCollapsed": true
   },
   "source": [
    "#### Загружаем данные с диска"
   ]
  },
  {
   "cell_type": "code",
   "execution_count": null,
   "id": "497537a4-287c-44d3-aa35-7d4f26b91383",
   "metadata": {},
   "outputs": [],
   "source": [
    "period = '4h'\n",
    "\n",
    "downloaded_tokens = get_saved_coins()\n",
    "\n",
    "df = pl.DataFrame()\n",
    "for token in downloaded_tokens:\n",
    "    temp_df = pl.read_parquet(f'./data/{token}_agg_trades.parquet')\n",
    "    temp_df = temp_df.group_by(pl.col(\"datetime\").dt.truncate(period)\n",
    "        ).agg(pl.col(\"close\").median().alias('price')\n",
    "        ).sort(by='datetime')\n",
    "    temp_df = temp_df.with_columns(token = pl.lit(token))\n",
    "    df = df.vstack(temp_df)\n",
    "\n",
    "df = df.pivot(\n",
    "        values=\"price\",\n",
    "        index=\"datetime\",\n",
    "        columns=\"token\",\n",
    "    ).sort(by='datetime'\n",
    "    ).filter(\n",
    "        (pl.col('datetime') >= datetime(2024, 4, 4)) & (pl.col('datetime') <= datetime(2025, 4, 1))\n",
    "    ).drop('datetime'\n",
    ")"
   ]
  },
  {
   "cell_type": "code",
   "execution_count": null,
   "id": "9fd71c80-00d4-4a6b-9be8-c2487f386afa",
   "metadata": {
    "scrolled": true
   },
   "outputs": [],
   "source": [
    "%%time\n",
    "start_date = datetime(2024, 4, 1)\n",
    "end_date = datetime(2025, 2, 1)\n",
    "\n",
    "trading_pairs = []\n",
    "\n",
    "for sym_1, sym_2 in combinations(downloaded_tokens, 2):\n",
    "    corr = df.select(f'{sym_1}', f'{sym_2}').corr()[0, 1]\n",
    "    adf_stat, p_value, marks = coint(df[f\"{sym_1}\"], df[f\"{sym_2}\"], trend='ct')\n",
    "\n",
    "    price_1 = df[f\"{sym_1}\"].tail(1).item()\n",
    "    price_2 = df[f\"{sym_2}\"].tail(1).item()\n",
    "    diff = price_2 / price_1\n",
    "    \n",
    "    if p_value < 0.05 and corr > 0.9 and diff > 0.2 and diff < 5:\n",
    "        print(f'Pair: \"{sym_1}\" - \"{sym_2}\"')\n",
    "        print(f'ADF stat: {adf_stat:.2f}, p_value: {p_value:.3f}; corr: {corr:.2f}')\n",
    "        print(f'{sym_1}. mean: {df[f'{sym_1}'].mean():.4f}; std: {df[f'{sym_1}'].std():.4f}')\n",
    "        print(f'{sym_2}. mean: {df[f'{sym_2}'].mean():.4f}; std: {df[f'{sym_2}'].std():.4f}')\n",
    "        print()\n",
    "        trading_pairs.append((sym_1, sym_2))\n",
    "    else:\n",
    "        continue"
   ]
  },
  {
   "cell_type": "code",
   "execution_count": null,
   "id": "43382778-d7a5-4eb9-b795-57adce293de5",
   "metadata": {},
   "outputs": [],
   "source": []
  },
  {
   "cell_type": "code",
   "execution_count": null,
   "id": "28d5039a-2abe-45f3-8a93-29b198f2d38c",
   "metadata": {},
   "outputs": [],
   "source": [
    "print(len(trading_pairs))\n",
    "print(trading_pairs)"
   ]
  },
  {
   "cell_type": "code",
   "execution_count": null,
   "id": "521f6a78-40c5-478c-bb88-0c8e2f7b9581",
   "metadata": {},
   "outputs": [],
   "source": []
  },
  {
   "cell_type": "code",
   "execution_count": null,
   "id": "79ce121a-e6cb-405d-baf5-650b541ff149",
   "metadata": {
    "scrolled": true
   },
   "outputs": [],
   "source": [
    "df_results = pl.DataFrame()\n",
    "\n",
    "start_date = datetime(2024, 3, 1)\n",
    "end_date = datetime(2025, 2, 1)\n",
    "\n",
    "for sym_1, sym_2 in tqdm(trading_pairs):\n",
    "    results = []\n",
    "    for period, roll_wind, dev_in, dev_out in params:\n",
    "        df, balance_hist = run_simulation(sym_1, sym_2, period, roll_wind, start_date, end_date, dev_in, dev_out, long_sl_dev=5,\n",
    "                        short_sl_dev=5, balance=1_000, max_order_size=1000, fee_perc=0.00075, verbose=False)\n",
    "        print(f'{sym_1} - {sym_2}: {period=}, {roll_wind=}, {dev_in=}, {dev_out=}', end=' ')\n",
    "        metrics = analyze_strategy(balance_hist, start_date, end_date)\n",
    "        record = {\n",
    "            'period': period,\n",
    "            'roll_wind': roll_wind,\n",
    "            'dev_in': dev_in,\n",
    "            'dev_out': dev_out\n",
    "        }\n",
    "        record.update(metrics)\n",
    "        results.append(record)\n",
    "    res_df = pl.DataFrame(results)\n",
    "    res_df = res_df.with_columns(\n",
    "        pl.lit(f'{sym_1}').alias('sym_1'),\n",
    "        pl.lit(f'{sym_2}').alias('sym_2'),\n",
    "        (pl.col('annual_return') / pl.col('std_return')).alias('norm_return')\n",
    "    )\n",
    "    df_results = df_results.vstack(res_df.sort(by='norm_return', descending=True).head(3))\n"
   ]
  },
  {
   "cell_type": "code",
   "execution_count": null,
   "id": "7ed3f068-0561-44d2-b077-16582183743b",
   "metadata": {},
   "outputs": [],
   "source": []
  },
  {
   "cell_type": "code",
   "execution_count": null,
   "id": "68c0db33-4792-4cd3-9c69-7d0f5c4fb738",
   "metadata": {},
   "outputs": [],
   "source": [
    "df_results.drop('start_date', 'end_date', 'total_days', 'n_deals', 'initial_balance', 'total_return', 'avg_return',\n",
    "               'calmar_ratio', 'norm_return', 'profit_factor', 'expected_return', 'avg_usdt_per_deal', 'max_profit',\n",
    "               'avg_profit', 'avg_loss', 'max_loss', 'winning_trades', 'losing_trades'\n",
    "               ).group_by(['sym_1', 'sym_2']\n",
    "                         ).agg(pl.col('annual_return').mean().alias('best_res')\n",
    "                ).sort(by='best_res', descending=True).head(10)"
   ]
  },
  {
   "cell_type": "code",
   "execution_count": null,
   "id": "1bbe6077-3438-44d8-b35d-c02b0399d3ef",
   "metadata": {},
   "outputs": [],
   "source": [
    "# \"AUDIO\" - \"LRC\"   : 31.866667\n",
    "# \"AUDIO\" - \"MINA\"  : 24.266667\n",
    "# \"MANTA\" - \"WLD\"   : 22.066667\n",
    "# \"SSV\" - \"TIA\"     : 21.933333\n",
    "# \"AUDIO\" - \"ICX\"   : 20.1\n",
    "# \"LRC\" - \"ONT\"     : 16.8\n",
    "# \"MANTA\" - \"OP\"    : 16.2\n",
    "# \"RVN\" - \"T\"       : 15.7\n",
    "# \"TIA\" - \"WLD\"     : 15.5\n",
    "# \"ICX\" - \"ONT\"     : 13.366667\n",
    "# \"T\" - \"WAXP\"      : 13.1\n",
    "# \"FLOW\"\t\"ONT\"\t12.9\n",
    "# \"MINA\"\t\"OP\"\t12.2\n",
    "# \"NEAR\"\t\"OP\"\t11.7\n",
    "# \"RVN\"\t\"WAXP\"\t11.066667\n",
    "# \"SAND\"\t\"XTZ\"\t10.433333\n",
    "# \"DYM\"\t\"MINA\"\t9.266667\n",
    "# \"FLOW\"\t\"ICX\"\t5.933333"
   ]
  },
  {
   "cell_type": "code",
   "execution_count": null,
   "id": "5b8b2486-eb38-466b-bcc3-41a2464a5920",
   "metadata": {},
   "outputs": [],
   "source": []
  },
  {
   "cell_type": "code",
   "execution_count": null,
   "id": "195ded07-6c4d-4594-a28f-0e728020c14e",
   "metadata": {},
   "outputs": [],
   "source": []
  },
  {
   "cell_type": "code",
   "execution_count": null,
   "id": "340e9aaf-dd0c-479c-ad57-04732d17f7b6",
   "metadata": {},
   "outputs": [],
   "source": []
  },
  {
   "cell_type": "code",
   "execution_count": null,
   "id": "b6479c87-ca4d-4bf2-b8fb-c2d98f549b4a",
   "metadata": {},
   "outputs": [],
   "source": []
  },
  {
   "cell_type": "markdown",
   "id": "2db0cccf-6d53-4dba-af4e-47f481dc6c8f",
   "metadata": {},
   "source": [
    "#### Рассчёты"
   ]
  },
  {
   "cell_type": "code",
   "execution_count": null,
   "id": "66ff45c3-74a8-4e09-b89b-fa889f7562ee",
   "metadata": {},
   "outputs": [],
   "source": []
  },
  {
   "cell_type": "code",
   "execution_count": null,
   "id": "070462f4-2c73-4ee2-b47f-4edfa445941e",
   "metadata": {},
   "outputs": [],
   "source": [
    "coins = get_saved_coins()"
   ]
  },
  {
   "cell_type": "code",
   "execution_count": null,
   "id": "6a82c7de-8586-4b5b-a486-749fea9fcea7",
   "metadata": {},
   "outputs": [],
   "source": [
    "start_date = datetime(2024, 4, 1)\n",
    "end_date = datetime(2025, 2, 1)\n",
    "period = '1h'\n",
    "\n",
    "schema = {\n",
    "    'datetime': pl.Datetime('ms'),\n",
    "}\n",
    "\n",
    "df = pl.DataFrame(schema=schema)\n",
    "for coin in coins:\n",
    "    tdf = read_and_scale_parquet(coin, period=period, start_date=start_date, end_date=end_date)\n",
    "    tdf = prepare_normed_df(tdf).select('datetime', 'normed_price').rename({'normed_price': coin})\n",
    "    df = df.join(tdf, on='datetime', how='outer', coalesce=True)"
   ]
  },
  {
   "cell_type": "code",
   "execution_count": null,
   "id": "777e4b64-a4b9-4fdd-b95e-5a5a6502784a",
   "metadata": {},
   "outputs": [],
   "source": [
    "from scipy.spatial.distance import pdist, squareform\n",
    "dist_condensed = pdist(df.drop('datetime').to_pandas().T, metric=\"euclidean\")\n",
    "dist_matrix_sqaure = squareform(dist_condensed, checks = True)"
   ]
  },
  {
   "cell_type": "code",
   "execution_count": null,
   "id": "5c99d383-09e1-4931-b4fd-c2bb99710879",
   "metadata": {},
   "outputs": [],
   "source": [
    "fig, ax = plt.subplots(1, 1,figsize = (10, 10), dpi=400)\n",
    "cmap = sns.cubehelix_palette(light=0.9, as_cmap=True)\n",
    "\n",
    "sns.heatmap(dist_matrix_sqaure, annot=True, fmt=\".1f\", ax=ax, linewidths=.5, cmap=cmap)\n",
    "# ax.set_xticklabels(df.columns[1:], rotation = 90, fontsize = 10)\n",
    "# img = ax.set_yticklabels(df.columns[1:], rotation = 0, fontsize = 10)\n",
    "ax.set_title(r'$SS_{i,j} Matrix$')\n",
    "fig.tight_layout()"
   ]
  },
  {
   "cell_type": "code",
   "execution_count": null,
   "id": "b3b8ae37-fef3-475a-9015-a04ad72ea0eb",
   "metadata": {},
   "outputs": [],
   "source": [
    "from scipy.cluster.hierarchy import dendrogram, linkage\n",
    "fig, ax = plt.subplots(1,1,figsize = (14, 4), dpi = 100)\n",
    "Z = linkage(dist_condensed)\n",
    "dn = dendrogram(Z, ax = ax, labels = df.columns[1:])\n",
    "ax.set_ylabel(r'$SS_{i,j}$')"
   ]
  },
  {
   "cell_type": "code",
   "execution_count": null,
   "id": "589332b4-15f9-40e4-8539-ff6b71b15c83",
   "metadata": {},
   "outputs": [],
   "source": []
  },
  {
   "cell_type": "code",
   "execution_count": null,
   "id": "83000352-008b-4841-88b2-ce8f5fb087e2",
   "metadata": {},
   "outputs": [],
   "source": []
  },
  {
   "cell_type": "markdown",
   "id": "661fc69b-c940-42d1-8cc8-e0688ff567a2",
   "metadata": {
    "jp-MarkdownHeadingCollapsed": true
   },
   "source": [
    "#### Графики"
   ]
  },
  {
   "cell_type": "code",
   "execution_count": null,
   "id": "b47be680-9c03-4403-a7bd-c4d8c1099bc2",
   "metadata": {},
   "outputs": [],
   "source": []
  },
  {
   "cell_type": "code",
   "execution_count": null,
   "id": "adb503aa-b721-43d2-9330-37a6ab3673be",
   "metadata": {},
   "outputs": [],
   "source": [
    "def read_parquet_and_make_pair_df(sym_1, sym_2, period, roll_wind, start_date, end_date):\n",
    "    df_1 = read_and_scale_parquet(sym_1, period, start_date=start_date, end_date=end_date)\n",
    "    df_2 = read_and_scale_parquet(sym_2, period, start_date=start_date, end_date=end_date)\n",
    "\n",
    "    df = df_1.join(df_2, on='datetime', suffix=f'_{sym_2}', how='full'\n",
    "    ).rename({'price': f'price_{sym_1}', 'qty': f'qty_{sym_1}'}\n",
    "    ).drop(f'datetime_{sym_2}'\n",
    "    ).with_columns(\n",
    "    pl.col(f\"price_{sym_2}\")\n",
    "      .least_squares.rolling_ols(\n",
    "          f\"price_{sym_1}\",\n",
    "          window_size=roll_wind,\n",
    "          mode=\"coefficients\",\n",
    "          add_intercept=True\n",
    "    ).alias(\"regression_coef\").shift(1)\n",
    "    ).with_columns([\n",
    "    pl.col(\"regression_coef\").struct.field(f\"price_{sym_1}\").alias(\"beta\"),\n",
    "    pl.col(\"regression_coef\").struct.field(\"const\").alias(\"alpha\")\n",
    "    ]).drop('regression_coef'\n",
    "    ).with_columns(\n",
    "        (pl.col(f'price_{sym_2}') - (pl.col('alpha') + pl.col('beta') * pl.col(f'price_{sym_1}'))\n",
    "        ).alias('spread')\n",
    "    ).with_columns(\n",
    "        pl.col('spread').rolling_mean(window_size=roll_wind).alias('mean'),\n",
    "        pl.col('spread').rolling_std(window_size=roll_wind).alias('std')\n",
    "    )\n",
    "    \n",
    "    return df.filter((pl.col('datetime') >= start_date) & (pl.col('datetime') < end_date))"
   ]
  },
  {
   "cell_type": "code",
   "execution_count": null,
   "id": "bfa9b0e6-6afc-4044-b5c2-88c4e3573d59",
   "metadata": {},
   "outputs": [],
   "source": [
    "start_date = datetime(2025, 2, 5)\n",
    "end_date = datetime(2025, 7, 25)\n",
    "\n",
    "sym_1 = 'STRK'\n",
    "sym_2 = 'XAI'"
   ]
  },
  {
   "cell_type": "code",
   "execution_count": null,
   "id": "b63619aa-cdec-4632-ac31-c8e716995a30",
   "metadata": {},
   "outputs": [],
   "source": [
    "df = read_parquet_and_make_pair_df(sym_1, sym_2, period='1d', roll_wind=10, start_date=start_date, end_date=end_date)\n",
    "print(f'{sym_1}. mean: {df[f\"price_{sym_1}\"].mean():.4f}; std: {df[f\"price_{sym_1}\"].std():.4f}')\n",
    "print(f'{sym_2}. mean: {df[f\"price_{sym_2}\"].mean():.4f}; std: {df[f\"price_{sym_2}\"].std():.4f}')"
   ]
  },
  {
   "cell_type": "code",
   "execution_count": null,
   "id": "1c9b178a-caca-4cdc-8321-6640500ff705",
   "metadata": {},
   "outputs": [],
   "source": [
    "df.tail(3)"
   ]
  },
  {
   "cell_type": "code",
   "execution_count": null,
   "id": "e964f2be-3ed6-4e89-a890-104a641bb9ec",
   "metadata": {},
   "outputs": [],
   "source": []
  },
  {
   "cell_type": "code",
   "execution_count": null,
   "id": "e63d3667-1e8b-4a2d-9a15-5e73c5b2c049",
   "metadata": {},
   "outputs": [],
   "source": [
    "df.drop_nulls()[[f'price_{sym_1}', f'price_{sym_2}']].corr()"
   ]
  },
  {
   "cell_type": "code",
   "execution_count": null,
   "id": "76be5e8a-dcde-4508-ab2d-9acf02766fe9",
   "metadata": {},
   "outputs": [],
   "source": [
    "import altair as alt"
   ]
  },
  {
   "cell_type": "code",
   "execution_count": null,
   "id": "006469b3-e3eb-4117-a062-e9b56e0deeae",
   "metadata": {},
   "outputs": [],
   "source": [
    "def print_pair(df, sym_1, sym_2):\n",
    "    df_melt = df.melt(\n",
    "        id_vars=['datetime'], \n",
    "        value_vars=[f'{sym_1}', f'{sym_2}'], \n",
    "        variable_name='price_type', \n",
    "        value_name='price_value'\n",
    "    )\n",
    "    \n",
    "    prices_graph = alt.Chart(df_melt).mark_line().encode(\n",
    "        x=alt.X('datetime:T', title=''),\n",
    "        y=alt.Y('price_value:Q', title='Цена'),\n",
    "        color=alt.Color('price_type:N', legend=alt.Legend(\n",
    "            title=\"Token\",\n",
    "            orient='none',  # Убирает автоматическое позиционирование\n",
    "            legendX=400,    # X-координата от левого края графика\n",
    "            legendY=0,    # Y-координата от верхнего края графика\n",
    "            direction='vertical',\n",
    "            symbolStrokeWidth=3\n",
    "        ))\n",
    "    ).properties(\n",
    "        title='Prices',\n",
    "        width=480,\n",
    "        height=150\n",
    "    )\n",
    "    \n",
    "    spread_graph = alt.Chart(df).mark_line().encode(\n",
    "        x=alt.X('datetime:T', title=''),\n",
    "        y=alt.Y('spread:Q', title='Цена')\n",
    "    ).properties(\n",
    "        title='Spread',\n",
    "        width=480,\n",
    "        height=150\n",
    "    )\n",
    "\n",
    "    mean_line = alt.Chart(df).mark_line(color='black').encode(\n",
    "        x=alt.X('datetime:T', title=''),\n",
    "        y=alt.Y('mean:Q')\n",
    "    )\n",
    "    \n",
    "    graph = alt.vconcat(prices_graph | (spread_graph + mean_line)).configure_view(\n",
    "        strokeWidth=0\n",
    "    )\n",
    "        \n",
    "    return graph"
   ]
  },
  {
   "cell_type": "code",
   "execution_count": null,
   "id": "9855ea82-3889-4113-8ffd-442e6ffd2cb6",
   "metadata": {},
   "outputs": [],
   "source": []
  },
  {
   "cell_type": "code",
   "execution_count": null,
   "id": "97a446a4-cf9a-490c-9c47-4168477e23c1",
   "metadata": {},
   "outputs": [],
   "source": [
    "from statsmodels.regression.linear_model import OLS\n",
    "import statsmodels.api as sm"
   ]
  },
  {
   "cell_type": "code",
   "execution_count": null,
   "id": "cf1c87a9-a30f-469d-9eb2-cb8bd5202f9c",
   "metadata": {},
   "outputs": [],
   "source": [
    "sym_1 = 'STRK'\n",
    "sym_2 = 'XAI'\n",
    "\n",
    "start_date = datetime(2025, 2, 5)\n",
    "end_date = datetime(2025, 7, 15)\n",
    "period = '1h'\n",
    "\n",
    "schema = {\n",
    "    'datetime': pl.Datetime('ms'),\n",
    "}\n",
    "\n",
    "df = pl.DataFrame(schema=schema)\n",
    "for coin in [sym_1, sym_2]:\n",
    "    tdf = read_and_scale_parquet(coin, period=period, start_date=start_date, end_date=end_date\n",
    "                                ).select('datetime', 'price').rename({'price': coin})\n",
    "    # tdf = prepare_normed_df(tdf).select('datetime', 'log_price').rename({'log_price': coin})\n",
    "    df = df.join(tdf, on='datetime', how='outer', coalesce=True)"
   ]
  },
  {
   "cell_type": "code",
   "execution_count": null,
   "id": "c169cb2c-16fe-4bd4-8066-a003fdc419f3",
   "metadata": {},
   "outputs": [],
   "source": [
    "# print_pair(df, sym_1, sym_2)"
   ]
  },
  {
   "cell_type": "code",
   "execution_count": null,
   "id": "2c4e00c1-e18e-47b7-b602-a2c0b2f89253",
   "metadata": {},
   "outputs": [],
   "source": [
    "df.tail(2)"
   ]
  },
  {
   "cell_type": "code",
   "execution_count": null,
   "id": "eaaa3bcc-967f-4fa8-87d6-947b99dd2f77",
   "metadata": {},
   "outputs": [],
   "source": []
  },
  {
   "cell_type": "code",
   "execution_count": null,
   "id": "62cb7b6a-69ff-4e87-80e0-7ea89af0b132",
   "metadata": {},
   "outputs": [],
   "source": []
  },
  {
   "cell_type": "code",
   "execution_count": null,
   "id": "8fecfe83-439e-42e9-8612-0fe1248aaa96",
   "metadata": {},
   "outputs": [],
   "source": []
  },
  {
   "cell_type": "code",
   "execution_count": null,
   "id": "99a22eae-0d49-438d-b72b-ea951132f070",
   "metadata": {},
   "outputs": [],
   "source": []
  },
  {
   "cell_type": "code",
   "execution_count": null,
   "id": "a40d1dc8-a581-44d3-85e8-03080041ca2f",
   "metadata": {},
   "outputs": [],
   "source": []
  },
  {
   "cell_type": "code",
   "execution_count": null,
   "id": "ef210e86-6e28-4bed-a6f3-6363ff977791",
   "metadata": {},
   "outputs": [],
   "source": []
  },
  {
   "cell_type": "code",
   "execution_count": null,
   "id": "c010e807-40db-4912-b892-3142f99223ed",
   "metadata": {},
   "outputs": [],
   "source": []
  },
  {
   "cell_type": "code",
   "execution_count": null,
   "id": "580a5cad-cb21-42fe-85dd-3dc783b5d35a",
   "metadata": {},
   "outputs": [],
   "source": []
  },
  {
   "cell_type": "code",
   "execution_count": null,
   "id": "3ce6dcbe-e89c-4ccc-9d9d-479e59e3a1f5",
   "metadata": {},
   "outputs": [],
   "source": []
  }
 ],
 "metadata": {
  "kernelspec": {
   "display_name": "Python 3 (ipykernel)",
   "language": "python",
   "name": "python3"
  },
  "language_info": {
   "codemirror_mode": {
    "name": "ipython",
    "version": 3
   },
   "file_extension": ".py",
   "mimetype": "text/x-python",
   "name": "python",
   "nbconvert_exporter": "python",
   "pygments_lexer": "ipython3",
   "version": "3.13.5"
  }
 },
 "nbformat": 4,
 "nbformat_minor": 5
}
