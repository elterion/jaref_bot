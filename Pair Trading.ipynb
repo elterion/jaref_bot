{
 "cells": [
  {
   "cell_type": "code",
   "execution_count": 2,
   "id": "46fbacd0-ece2-4909-bedb-7c5a124c3781",
   "metadata": {},
   "outputs": [],
   "source": [
    "from jaref_bot.data.http_api import ExchangeManager, BybitRestAPI, GateIORestAPI\n",
    "import matplotlib.pyplot as plt\n",
    "\n",
    "import statsmodels.api as sm\n",
    "from statsmodels.tsa.stattools import adfuller, coint\n",
    "from lightweight_charts import Chart, JupyterChart\n",
    "\n",
    "import pandas as pd\n",
    "import polars as pl\n",
    "import polars_ols as pls\n",
    "from sklearn.preprocessing import StandardScaler, MinMaxScaler\n",
    "\n",
    "import numpy as np\n",
    "from datetime import datetime, timezone, timedelta\n",
    "from zoneinfo import ZoneInfo\n",
    "\n",
    "from tqdm.notebook import tqdm\n",
    "\n",
    "from jaref_bot.db.postgres_manager import DBManager\n",
    "from jaref_bot.config.credentials import host, user, password, db_name\n",
    "db_params = {'host': host, 'user': user, 'password': password, 'dbname': db_name}\n",
    "db_manager = DBManager(db_params)\n",
    "\n",
    "exc_manager = ExchangeManager()\n",
    "exc_manager.add_market(\"bybit_linear\", BybitRestAPI('linear'))"
   ]
  },
  {
   "cell_type": "code",
   "execution_count": 3,
   "id": "43ed81d3-e278-486d-a547-2c12ac520e79",
   "metadata": {},
   "outputs": [],
   "source": [
    "# df_1 = df_1.with_columns(\n",
    "#             pl.col(\"close\").pct_change().alias('returns'),\n",
    "#             pl.col(\"close\").log().diff().alias('log_returns')\n",
    "#         )"
   ]
  },
  {
   "cell_type": "code",
   "execution_count": 4,
   "id": "9c08f307-8a65-480f-a1dc-1ea7ff4e779d",
   "metadata": {},
   "outputs": [],
   "source": [
    "def calculate_profit(open_price, close_price, n_coins=None, usdt_amount=None, side='long', fee_rate=0.0002):\n",
    "    if n_coins is None:\n",
    "        n_coins = round(usdt_amount / open_price)\n",
    "    \n",
    "    usdt_open = n_coins * open_price\n",
    "    open_fee = usdt_open * fee_rate\n",
    "\n",
    "    usdt_close = n_coins * close_price\n",
    "    close_fee = usdt_close * fee_rate\n",
    "    # print(f'{open_fee=}; {close_fee=}')\n",
    "\n",
    "    if side == 'long':\n",
    "        profit = usdt_close - usdt_open - open_fee - close_fee\n",
    "    elif side == 'short':\n",
    "        profit = usdt_open - usdt_close - open_fee - close_fee\n",
    "    return profit"
   ]
  },
  {
   "cell_type": "code",
   "execution_count": null,
   "id": "4445b451-1ea2-4db2-af0d-61830de77d50",
   "metadata": {},
   "outputs": [],
   "source": []
  },
  {
   "cell_type": "markdown",
   "id": "31465282-21c9-46b5-9b9a-d7bd8e5811ed",
   "metadata": {
    "jp-MarkdownHeadingCollapsed": true
   },
   "source": [
    "#### Загрузка данных с ByBit"
   ]
  },
  {
   "cell_type": "code",
   "execution_count": null,
   "id": "de4e4750-019c-4f42-817c-ffbee0a18c32",
   "metadata": {},
   "outputs": [],
   "source": [
    "# Гиперпараметры модели: roll_wind, std_coef (при каком отклонении от среднего входим в сделку)\n",
    "download_period = '1h'\n",
    "grouping_period = '24h'\n",
    "roll_wind = 60\n",
    "n_iters = 10\n",
    "sym_1 = 'STRK_USDT'\n",
    "sym_2 = 'XAI_USDT'\n",
    "\n",
    "df_1 = await exc_manager.get_candles(symbol=sym_1, interval=download_period, n_iters=n_iters)\n",
    "df_1 = df_1[0].sort_index()\n",
    "df_2 = await exc_manager.get_candles(symbol=sym_2, interval=download_period, n_iters=n_iters)\n",
    "df_2 = df_2[0].sort_index()\n",
    "\n",
    "cols = ['Close']\n",
    "df = df_1[cols].merge(df_2[cols], how='inner', on='Date', suffixes=(f'_{sym_1}', f'_{sym_2}'))\n",
    "df = df.rename(columns={f'Close_{sym_1}': sym_1, f'Close_{sym_2}': sym_2})\n",
    "\n",
    "stat_df = make_stat_df(df, sym_1, sym_2, grouping_period, roll_wind)"
   ]
  },
  {
   "cell_type": "code",
   "execution_count": null,
   "id": "9359df35-b176-49af-a73e-fcf8c93d3cd7",
   "metadata": {},
   "outputs": [],
   "source": [
    "stat_df.head(2)"
   ]
  },
  {
   "cell_type": "code",
   "execution_count": null,
   "id": "b2553d3c-43c6-4eeb-8b63-521b25012de4",
   "metadata": {},
   "outputs": [],
   "source": [
    "print_pair(stat_df, sym_1, sym_2)"
   ]
  },
  {
   "cell_type": "markdown",
   "id": "38add039-f461-44cf-8099-cac63548f54e",
   "metadata": {},
   "source": [
    "#### Создание датафрейма с оконными функциями"
   ]
  },
  {
   "cell_type": "code",
   "execution_count": 1,
   "id": "df971b99-d382-43a8-a466-8e6c915df5fc",
   "metadata": {},
   "outputs": [],
   "source": [
    "from jaref_bot.analysis.backtest.pair_trading import make_df_from_orderbooks, make_spread_df_bulk, make_trunc_df, make_spread_df"
   ]
  },
  {
   "cell_type": "code",
   "execution_count": null,
   "id": "e82d029f-d089-4133-9148-20ca176de943",
   "metadata": {},
   "outputs": [],
   "source": [
    "token_1 = 'CELO'\n",
    "token_2 = 'GRT'\n",
    "\n",
    "start_time = datetime(2025, 8, 23, 18, 0, tzinfo=ZoneInfo(\"Europe/Moscow\"))\n",
    "valid_time = datetime(2025, 8, 26, 12, 0, tzinfo=ZoneInfo(\"Europe/Moscow\"))\n",
    "end_time = datetime(2025, 10, 30, 23, 50, tzinfo=ZoneInfo(\"Europe/Moscow\"))"
   ]
  },
  {
   "cell_type": "code",
   "execution_count": null,
   "id": "b8a6a248-deb9-4382-8ee6-b6f8b579f45e",
   "metadata": {},
   "outputs": [],
   "source": [
    "df_1 = db_manager.get_raw_orderbooks(exchange='bybit',\n",
    "                                     market_type='linear',\n",
    "                                     token=token_1 + '_USDT')\n",
    "df_2 = db_manager.get_raw_orderbooks(exchange='bybit',\n",
    "                                     market_type='linear',\n",
    "                                     token=token_2 + '_USDT')\n",
    "\n",
    "print(f'{token_1}: {df_1['time'].head(1).item()} - {df_1['time'].tail(1).item()}')\n",
    "print(f'{token_2}: {df_2['time'].head(1).item()} - {df_2['time'].tail(1).item()}')"
   ]
  },
  {
   "cell_type": "code",
   "execution_count": null,
   "id": "fb3e1643-a9e7-464b-bc78-94871ba6e0e4",
   "metadata": {},
   "outputs": [],
   "source": [
    "df = make_df_from_orderbooks(df_1, df_2, token_1, token_2, start_time=start_time, log_=True)"
   ]
  },
  {
   "cell_type": "code",
   "execution_count": null,
   "id": "60adb5de-dcca-44ab-8749-d4a55141f574",
   "metadata": {
    "scrolled": true
   },
   "outputs": [],
   "source": [
    "df_hour = make_trunc_df(df, timeframe='1h', token_1=token_1, token_2=token_2, method='last')\n",
    "df_4hour = make_trunc_df(df, timeframe='4h', token_1=token_1, token_2=token_2, method='last')\n",
    "df_5min = make_trunc_df(df, timeframe='5m', token_1=token_1, token_2=token_2, method='last')\n",
    "df_sec = make_trunc_df(df, timeframe='1s', token_1=token_1, token_2=token_2, start_date=valid_time, method='last')"
   ]
  },
  {
   "cell_type": "code",
   "execution_count": null,
   "id": "0bc243b4-7615-477d-9921-13bdf00de522",
   "metadata": {},
   "outputs": [],
   "source": [
    "df_sec.head(2)"
   ]
  },
  {
   "cell_type": "code",
   "execution_count": null,
   "id": "789211dc-c5f7-473c-ac3c-4005ba955846",
   "metadata": {},
   "outputs": [],
   "source": []
  },
  {
   "cell_type": "code",
   "execution_count": null,
   "id": "2c52a516-ce76-4c91-b359-3750032451f4",
   "metadata": {},
   "outputs": [],
   "source": [
    "%%time\n",
    "hour4_suffix = '4h'\n",
    "hour1_suffix = '1h'\n",
    "minute5_suffix = '5m'\n",
    "\n",
    "rows_buffer = []\n",
    "\n",
    "hour4_winds = (8, 10, 12, 16, 20)\n",
    "hour1_winds = (12, 18, 24, 36, 48, 60)\n",
    "minute5_winds = (60, 90, 120, 240, 360, 480)\n",
    "\n",
    "max_hour1_wind = max(hour1_winds)\n",
    "max_hour4_wind = max(hour4_winds)\n",
    "max_minute5_wind = max(minute5_winds)\n",
    "\n",
    "# --- Предварительно вычислим названия столбцов для переименования в теле цикла и столбцов для удаления ---\n",
    "mean_hour1_cols = ['mean_' + str(c) for c in hour1_winds]\n",
    "std_hour1_cols = ['std_' + str(c) for c in hour1_winds]\n",
    "h1_cols_to_drop = mean_hour1_cols + std_hour1_cols\n",
    "\n",
    "mean_hour4_cols = ['mean_' + str(c) for c in hour4_winds]\n",
    "std_hour4_cols = ['std_' + str(c) for c in hour4_winds]\n",
    "h4_cols_to_drop = mean_hour4_cols + std_hour4_cols\n",
    "\n",
    "mean_minute5_cols = ['mean_' + str(c) for c in minute5_winds]\n",
    "std_minute5_cols = ['std_' + str(c) for c in minute5_winds]\n",
    "m5_cols_to_drop = mean_minute5_cols + std_minute5_cols\n",
    "\n",
    "hour1_rename_cols = {f'z_score_{col}': f'z_score_{col}_{hour1_suffix}' for col in hour1_winds}\n",
    "hour4_rename_cols = {f'z_score_{col}': f'z_score_{col}_{hour4_suffix}' for col in hour4_winds}\n",
    "minute5_rename_cols = {f'z_score_{col}': f'z_score_{col}_{minute5_suffix}' for col in minute5_winds}\n",
    "\n",
    "# --- Основной цикл --- \n",
    "try:\n",
    "    for row in tqdm(df_sec[:].iter_slices(1), total=df_sec.height):\n",
    "        # --- 4-ЧАСОВОЕ ОКНО ---\n",
    "        hour4_stat = df_4hour.filter(pl.col('ts') < row['ts']).tail(max_hour4_wind)\n",
    "        hour4_stat = hour4_stat.vstack(row)\n",
    "        th4 = make_spread_df_bulk(hour4_stat, token_1, token_2, winds=hour4_winds).tail(1)\n",
    "        th4 = th4.drop(h4_cols_to_drop)\n",
    "        th4 = th4.rename(hour4_rename_cols) \n",
    "        \n",
    "        # --- ЧАСОВОЕ ОКНО ---\n",
    "        hour1_stat = df_hour.filter(pl.col('ts') < row['ts']).tail(max_hour1_wind)\n",
    "        hour1_stat = hour1_stat.vstack(row)\n",
    "        th1 = make_spread_df_bulk(hour1_stat, token_1, token_2, winds=hour1_winds).tail(1)\n",
    "        th1 = th1.drop(h1_cols_to_drop + ['time', 'ts', token_1, token_2, 'spread'])\n",
    "        th1 = th1.rename(hour1_rename_cols)        \n",
    "                \n",
    "        # --- 5-МИНУТНОЕ ОКНО ---\n",
    "        minute5_stat = df_5min.filter(pl.col('ts') < row['ts']).tail(max_minute5_wind)\n",
    "        minute5_stat = minute5_stat.vstack(row)\n",
    "        tm5 = make_spread_df_bulk(minute5_stat, token_1, token_2, winds=minute5_winds).tail(1)\n",
    "        tm5 = tm5.drop(m5_cols_to_drop + ['time', 'ts', token_1, token_2, 'spread'])\n",
    "        tm5 = tm5.rename(minute5_rename_cols)\n",
    "                \n",
    "        # --- финальная сборка строки результата ---\n",
    "        curr_row = th4.hstack(th1).hstack(tm5)\n",
    "        rows_buffer.extend(curr_row.to_dicts())\n",
    "        \n",
    "    result_df = pl.DataFrame(rows_buffer, infer_schema_length=None)\n",
    "    rows_buffer = []\n",
    "\n",
    "except KeyboardInterrupt:\n",
    "    result_df = pl.DataFrame(rows_buffer, infer_schema_length=None)\n",
    "    rows_buffer = []"
   ]
  },
  {
   "cell_type": "code",
   "execution_count": null,
   "id": "138a822c-a6da-4afc-bc04-fd5832f2bb9c",
   "metadata": {},
   "outputs": [],
   "source": [
    "result_df.tail(2)"
   ]
  },
  {
   "cell_type": "code",
   "execution_count": null,
   "id": "8adf3d27-b939-42eb-b556-12bb13b796a8",
   "metadata": {},
   "outputs": [],
   "source": [
    "# 5_000, Wall time: 12.2 s"
   ]
  },
  {
   "cell_type": "code",
   "execution_count": null,
   "id": "76b52b5f-c6a5-42f2-ab80-67d0897e6e1f",
   "metadata": {},
   "outputs": [],
   "source": []
  },
  {
   "cell_type": "code",
   "execution_count": null,
   "id": "ee735a70-bbfb-48f4-99b9-4f998cce00fe",
   "metadata": {},
   "outputs": [],
   "source": [
    "method = 'dist'\n",
    "\n",
    "result_df.write_parquet(f'./data/{token_1}_{token_2}_{method}.parquet')"
   ]
  },
  {
   "cell_type": "code",
   "execution_count": null,
   "id": "9d24679e-595a-4aaa-88b7-ea110ad94952",
   "metadata": {},
   "outputs": [],
   "source": []
  },
  {
   "cell_type": "markdown",
   "id": "40244e60-4049-4852-af16-aac56909ecee",
   "metadata": {
    "jp-MarkdownHeadingCollapsed": true
   },
   "source": [
    "#### Исследование монет"
   ]
  },
  {
   "cell_type": "code",
   "execution_count": null,
   "id": "ce37ef43-4f4b-43c4-8e25-7ad54b087841",
   "metadata": {},
   "outputs": [],
   "source": [
    "from jaref_bot.utils.data import make_price_df_from_orderbooks_bulk, normalize\n",
    "from jaref_bot.analysis.utils import make_spread_df, make_df_from_orderbooks"
   ]
  },
  {
   "cell_type": "code",
   "execution_count": null,
   "id": "62d5a8f3-f701-4de5-845e-9c79a2eaac61",
   "metadata": {
    "editable": true,
    "slideshow": {
     "slide_type": ""
    },
    "tags": []
   },
   "outputs": [],
   "source": [
    "# Если будет нужно отфильтровать датафрейм по времени\n",
    "\n",
    "start_date = datetime(2025, 8, 23, 18, 0, tzinfo=ZoneInfo(\"Europe/Moscow\"))\n",
    "# end_date = datetime(2025, 8, 12, 8, 30, tzinfo=ZoneInfo(\"Europe/Moscow\"))\n",
    "# tdf = spread_df.filter((pl.col('time') > start_date) & (pl.col('time') < end_date))"
   ]
  },
  {
   "cell_type": "code",
   "execution_count": null,
   "id": "34326b18-0ab6-4587-9656-9c8174b525fa",
   "metadata": {},
   "outputs": [],
   "source": [
    "# raw_df = db_manager.get_table('raw_orderbook_data', df_type='polars')"
   ]
  },
  {
   "cell_type": "code",
   "execution_count": null,
   "id": "2fa86a3e-b14e-41ab-b946-9f4f27a4c365",
   "metadata": {},
   "outputs": [],
   "source": [
    "# Задаём названия токенов для анализа\n",
    "tokens = ['AKT', 'APT', 'ARB', 'ARKM', 'C98',  'CELO', 'CHR', 'ENJ', 'FIL', 'FLOW', 'GALA', 'GMT', 'GRT', 'GTC',\n",
    "        'MANA', 'OGN', 'ONDO', 'ONG', 'OP', 'PHA', 'ROSE', 'SAND', 'STG', 'SNX', 'VET']\n",
    "# token_pairs = [f'{t}_USDT' for t in tokens]\n",
    "\n",
    "exc_manager = ExchangeManager()\n",
    "exc_manager.add_market(\"bybit_linear\", BybitRestAPI('linear'))\n",
    "exc_manager.add_market(\"gate_linear\", GateIORestAPI('linear'))\n",
    "coin_information = exc_manager.get_instrument_data()"
   ]
  },
  {
   "cell_type": "code",
   "execution_count": null,
   "id": "b4d27381-d523-4a27-9926-cfa7c47dc532",
   "metadata": {},
   "outputs": [],
   "source": [
    "# Создадим список из датафреймов для удобства пакетной обработки, а также получим кол-во знаков после запятой для округления \n",
    "dfs = []\n",
    "token_dp = {}\n",
    "\n",
    "for token in tokens:\n",
    "    df_token = db_manager.get_orderbooks(exchange='bybit', market_type='linear', symbol=token + '_USDT', interval='1min', start_date=start_date)\n",
    "    try:\n",
    "        dp = len(\n",
    "            coin_information['bybit_linear'][token + '_USDT']['qty_step']\n",
    "            .to_eng_string()\n",
    "            .split('.')[1]\n",
    "        )\n",
    "    except IndexError:\n",
    "        dp = 0\n",
    "\n",
    "    token_dp[token] = dp\n",
    "    dfs.append(df_token)"
   ]
  },
  {
   "cell_type": "code",
   "execution_count": null,
   "id": "0dfeeb8f-ac75-41e9-8913-b8fe0b308017",
   "metadata": {},
   "outputs": [],
   "source": [
    "# Создадим датафрейм, содержащий только цены, для анализа взаимосвязи монет\n",
    "price_df = make_price_df_from_orderbooks_bulk(dfs=dfs, tokens=tokens, trunc='5m')\n",
    "price_df.tail(2)"
   ]
  },
  {
   "cell_type": "code",
   "execution_count": null,
   "id": "256649d4-1fa0-4015-858b-084db58c8bd9",
   "metadata": {},
   "outputs": [],
   "source": [
    "# Нормируем значения\n",
    "normed_df = normalize(df=price_df, method='minimax', shift_to_zero=False)\n",
    "normed_df.tail(3)"
   ]
  },
  {
   "cell_type": "code",
   "execution_count": null,
   "id": "4490032b-195c-48ff-918c-d83f0810d02e",
   "metadata": {},
   "outputs": [],
   "source": [
    "# Нарисуем график с нормализованными ценами\n",
    "date_col = 'bucket' if 'bucket' in normed_df.columns else 'time'\n",
    "price_cols = [c for c in normed_df.columns if c != date_col]\n",
    "\n",
    "plt.figure(figsize=(14, 4))\n",
    "for col in price_cols:\n",
    "    plt.plot(normed_df[date_col].to_list(), normed_df[col].to_list(), label=col)\n",
    "\n",
    "plt.xlabel(\"Время\")\n",
    "plt.ylabel(\"Нормализованная цена\")\n",
    "plt.title(\"Нормализованные цены монет\")\n",
    "# plt.legend()\n",
    "plt.grid(True)\n",
    "plt.tight_layout()"
   ]
  },
  {
   "cell_type": "code",
   "execution_count": null,
   "id": "c28410c9-55d8-4f71-af58-8976846073b1",
   "metadata": {},
   "outputs": [],
   "source": []
  },
  {
   "cell_type": "code",
   "execution_count": null,
   "id": "fcd40455-e84c-4672-981e-04873d0af019",
   "metadata": {},
   "outputs": [],
   "source": [
    "# Посчитаем евклидово расстояние между парами криптовалют\n",
    "import itertools\n",
    "import math\n",
    "\n",
    "results = []\n",
    "    \n",
    "# Перебираем все уникальные пары колонок\n",
    "for col1, col2 in itertools.combinations(price_cols, 2):\n",
    "    diff_sq = (normed_df[col1] - normed_df[col2]) ** 2\n",
    "    distance = math.sqrt(diff_sq.sum())\n",
    "    results.append((col1, col2, distance))"
   ]
  },
  {
   "cell_type": "code",
   "execution_count": null,
   "id": "3816f41c-7e31-4a51-8b8d-1475b6a31e8c",
   "metadata": {},
   "outputs": [],
   "source": [
    "pl.DataFrame(results, schema=[\"coin1\", \"coin2\", \"dist\"], orient=\"row\").sort('dist')[10:20]"
   ]
  },
  {
   "cell_type": "code",
   "execution_count": null,
   "id": "c41d19fc-48b8-43cd-8175-2c44ccf0f578",
   "metadata": {},
   "outputs": [],
   "source": []
  },
  {
   "cell_type": "code",
   "execution_count": null,
   "id": "56d0d4f6-7e20-45f4-bf2e-2358d82b57a2",
   "metadata": {},
   "outputs": [],
   "source": [
    "token_1 = 'CELO'\n",
    "token_2 = 'GRT'\n",
    "\n",
    "df_1 = db_manager.get_orderbooks(exchange='bybit', market_type='linear', symbol=token_1 + '_USDT', interval='1min')\n",
    "df_2 = db_manager.get_orderbooks(exchange='bybit', market_type='linear', symbol=token_2 + '_USDT', interval='1min')"
   ]
  },
  {
   "cell_type": "code",
   "execution_count": null,
   "id": "e2c0589e-556e-49be-9092-fb1622f9386e",
   "metadata": {},
   "outputs": [],
   "source": [
    "start_time = datetime(2025, 8, 23, 12, 0, tzinfo=ZoneInfo(\"Europe/Moscow\"))\n",
    "end_time = datetime(2025, 8, 29, 21, 0, tzinfo=ZoneInfo(\"Europe/Moscow\"))\n",
    "\n",
    "df = make_df_from_orderbooks(df_1, df_2, token_1, token_2, start_time=start_time, end_time=end_time)\n",
    "cols = [col for col in df.columns if 'ask' in col or 'bid' in col]\n",
    "df = df.drop(cols)\n",
    "df = make_spread_df(df, token_1, token_2, wind=480).drop_nulls()\n",
    "coef = df[0][token_1].item() / df[0][token_2].item()"
   ]
  },
  {
   "cell_type": "code",
   "execution_count": null,
   "id": "92f59917-a4a8-40bb-9bf6-aa16a90e13ad",
   "metadata": {},
   "outputs": [],
   "source": [
    "# Нарисуем график с нормализованными ценами\n",
    "date_col = 'bucket' if 'bucket' in df.columns else 'time'\n",
    "price_cols = [c for c in df.columns if c != date_col]\n",
    "\n",
    "plt.figure(figsize=(14, 4))\n",
    "plt.plot(df[date_col], df[token_1], label=token_1);\n",
    "plt.plot(df[date_col], coef * df[token_2], label=token_2);\n",
    "plt.xlabel(\"Время\")\n",
    "plt.ylabel(\"Цена\")\n",
    "plt.title(f\"Приведённые к одному масштабу цены монет. Coef: {coef:.2f}\")\n",
    "plt.legend()\n",
    "plt.grid(True)\n",
    "plt.tight_layout()"
   ]
  },
  {
   "cell_type": "code",
   "execution_count": null,
   "id": "751abcc9-bdd2-4a85-a530-bc87476cc253",
   "metadata": {},
   "outputs": [],
   "source": [
    "std = 2\n",
    "upper_bound = df['mean'] + std * df['std']\n",
    "lower_bound = df['mean'] - std * df['std']\n",
    "\n",
    "plt.figure(figsize=(14, 2))\n",
    "plt.plot(df[date_col], df['spread']);\n",
    "plt.plot(df[date_col], upper_bound)\n",
    "plt.plot(df[date_col], lower_bound)\n",
    "plt.grid()"
   ]
  },
  {
   "cell_type": "code",
   "execution_count": null,
   "id": "eaa6ae72-d43c-4b44-b523-055c4f622393",
   "metadata": {},
   "outputs": [],
   "source": []
  },
  {
   "cell_type": "code",
   "execution_count": null,
   "id": "4d744938-c26b-4bd5-a511-6f5781be05af",
   "metadata": {},
   "outputs": [],
   "source": [
    "train_time = datetime(2025, 8, 15, 3, 0, tzinfo=ZoneInfo(\"Europe/Moscow\")) # За какое время рассчитываем mean & std для StandartScaler\n",
    "\n",
    "spr_train = df.filter(pl.col(date_col) <= train_time)['spread'].to_numpy().reshape(-1, 1)\n",
    "spr_test = df.filter(pl.col(date_col) > train_time)['spread'].to_numpy().reshape(-1, 1)"
   ]
  },
  {
   "cell_type": "code",
   "execution_count": null,
   "id": "7eaeeb30-5769-46a2-a80e-53152b2e18b4",
   "metadata": {},
   "outputs": [],
   "source": [
    "scaler = StandardScaler()\n",
    "scaler.fit(spr_train)\n",
    "spr_normed = scaler.transform(spr_test).ravel()"
   ]
  },
  {
   "cell_type": "code",
   "execution_count": null,
   "id": "35aaf98d-ed49-4ec4-979c-3621d9fbe61d",
   "metadata": {},
   "outputs": [],
   "source": [
    "plt.figure(figsize=(14, 2))\n",
    "plt.plot(spr_normed);\n",
    "plt.title(\"Стандартизованный спред\")\n",
    "plt.grid()"
   ]
  },
  {
   "cell_type": "code",
   "execution_count": null,
   "id": "1ae19323-86e1-41cf-923d-5e7a5879a455",
   "metadata": {},
   "outputs": [],
   "source": []
  },
  {
   "cell_type": "code",
   "execution_count": null,
   "id": "b3189e86-5e69-4d47-96a4-fa08eb15ae2e",
   "metadata": {},
   "outputs": [],
   "source": []
  },
  {
   "cell_type": "markdown",
   "id": "a4142d5d-58fe-4f53-8560-914de78cfd97",
   "metadata": {},
   "source": [
    "#### Симуляция одной торговой пары"
   ]
  },
  {
   "cell_type": "code",
   "execution_count": null,
   "id": "903b157f-e35d-478e-9f34-35b1807709fa",
   "metadata": {},
   "outputs": [],
   "source": [
    "from jaref_bot.analysis.backtest.pair_trading import make_df_from_orderbooks, backtest\n",
    "from jaref_bot.analysis.strategy_analysis import analyze_strategy\n",
    "\n",
    "from datetime import datetime, timezone, timedelta\n",
    "from zoneinfo import ZoneInfo\n",
    "import polars as pl\n",
    "from jaref_bot.data.http_api import ExchangeManager, BybitRestAPI, GateIORestAPI\n",
    "from tqdm.notebook import tqdm\n",
    "import matplotlib.pyplot as plt\n",
    "\n",
    "from jaref_bot.db.postgres_manager import DBManager\n",
    "from jaref_bot.config.credentials import host, user, password, db_name\n",
    "db_params = {'host': host, 'user': user, 'password': password, 'dbname': db_name}\n",
    "db_manager = DBManager(db_params)"
   ]
  },
  {
   "cell_type": "code",
   "execution_count": null,
   "id": "41b1b750-6f76-4197-8910-3f7f70a87414",
   "metadata": {},
   "outputs": [],
   "source": [
    "token_1 = 'ARKM'\n",
    "token_2 = 'SAND'\n",
    "\n",
    "start_time = datetime(2025, 8, 26, 12, 0, tzinfo=ZoneInfo(\"Europe/Moscow\"))\n",
    "valid_time = datetime(2025, 8, 28, 12, 0, tzinfo=ZoneInfo(\"Europe/Moscow\"))\n",
    "end_time = datetime(2025, 12, 29, 22, 0, tzinfo=ZoneInfo(\"Europe/Moscow\"))\n",
    "\n",
    "spread_df = pl.read_parquet(f'./data/{token_1}_{token_2}_dist.parquet')"
   ]
  },
  {
   "cell_type": "code",
   "execution_count": null,
   "id": "f706a70a-0b62-4595-8192-9f346d0bfa07",
   "metadata": {},
   "outputs": [],
   "source": [
    "spread_df.tail(2)"
   ]
  },
  {
   "cell_type": "code",
   "execution_count": null,
   "id": "0bedb5ac-fffe-4aed-86ca-cdeee9f0a8a8",
   "metadata": {},
   "outputs": [],
   "source": [
    "df_1 = db_manager.get_raw_orderbooks(exchange='bybit',\n",
    "                                     market_type='linear',\n",
    "                                     token=token_1 + '_USDT',\n",
    "                                     start_time=start_time,\n",
    "                                     end_time=end_time)\n",
    "df_1 = df_1.with_columns(pl.col('time').dt.epoch('s').alias('ts'))\n",
    "df_2 = db_manager.get_raw_orderbooks(exchange='bybit',\n",
    "                                     market_type='linear',\n",
    "                                     token=token_2 + '_USDT',\n",
    "                                     start_time=start_time,\n",
    "                                     end_time=end_time)\n",
    "df_2 = df_2.with_columns(pl.col('time').dt.epoch('s').alias('ts'))\n",
    "\n",
    "bid_ask_df = make_df_from_orderbooks(df_1, df_2, token_1, token_2, start_time, end_time)\n",
    "bid_ask_df = bid_ask_df.select('ts', f'{token_1}_bid_price', \n",
    "                               f'{token_1}_ask_price', \n",
    "                               f'{token_2}_bid_price', \n",
    "                               f'{token_2}_ask_price'\n",
    "                              )"
   ]
  },
  {
   "cell_type": "code",
   "execution_count": null,
   "id": "53e748da-43ae-432d-9ccb-c1ad6356a852",
   "metadata": {},
   "outputs": [],
   "source": [
    "bid_ask_df.tail(2)"
   ]
  },
  {
   "cell_type": "code",
   "execution_count": null,
   "id": "a0b6d1ca-d038-40b5-af36-569510c7cd04",
   "metadata": {},
   "outputs": [],
   "source": [
    "# Загружаем с биржи ByBit техническую информацию по монетам (шаг цены, округление цены в usdt etc.)\n",
    "exc_manager = ExchangeManager()\n",
    "exc_manager.add_market(\"bybit_linear\", BybitRestAPI('linear'))\n",
    "coin_information = exc_manager.get_instrument_data()\n",
    "\n",
    "# Сохраним информацию о шаге цены монет в переменных\n",
    "dp_1 = float(coin_information['bybit_linear'][token_1 + '_USDT']['qty_step'])\n",
    "ps_1 = int(coin_information['bybit_linear'][token_1 + '_USDT']['price_scale'])\n",
    "dp_2 = float(coin_information['bybit_linear'][token_2 + '_USDT']['qty_step'])\n",
    "ps_2 = int(coin_information['bybit_linear'][token_2 + '_USDT']['price_scale'])"
   ]
  },
  {
   "cell_type": "code",
   "execution_count": null,
   "id": "ab7bd6fc-738e-4fd7-b75e-461fb79cbfca",
   "metadata": {},
   "outputs": [],
   "source": []
  },
  {
   "cell_type": "code",
   "execution_count": null,
   "id": "a1b8e148-12da-47b8-9160-e549c7b91a5d",
   "metadata": {},
   "outputs": [],
   "source": [
    "search_space = (\n",
    "            ('4h', 4), ('4h', 6), ('4h', 8), ('4h', 10),\n",
    "            ('4h', 12),\n",
    "            ('1h', 6), ('1h', 8), ('1h', 12), ('1h', 24),\n",
    "            ('1h', 36), ('1h', 48),\n",
    "            ('15m', 10), ('15m', 20), ('15m', 30), ('15m', 40), ('15m', 50),\n",
    "            ('15m', 60), ('15m', 80), ('15m', 100), ('15m', 120), ('15m', 160),\n",
    "            ('5m', 20), ('5m', 30), ('5m', 45), ('5m', 60), ('5m', 90),\n",
    "            ('5m', 120), ('5m', 240), ('5m', 360)\n",
    "        )"
   ]
  },
  {
   "cell_type": "code",
   "execution_count": null,
   "id": "30c18877-dcc1-46fe-b7de-df6e455442bc",
   "metadata": {
    "scrolled": true
   },
   "outputs": [],
   "source": [
    "for tf, wind in search_space:\n",
    "    col_name = f'z_score_{wind}_{tf}'\n",
    "    df = spread_df.select('time', 'ts', 'spread', col_name)\n",
    "    df = df.rename({col_name: 'z_score'})\n",
    "    df = df.join(bid_ask_df, on='ts').filter((pl.col('time') > start_time) & (pl.col('time') < valid_time))\n",
    "\n",
    "    plt.figure(figsize=(15, 3))\n",
    "    plt.title(f'{tf}; {wind}')\n",
    "    plt.plot(df['z_score'])\n",
    "    plt.grid()\n",
    "    plt.show()"
   ]
  },
  {
   "cell_type": "code",
   "execution_count": null,
   "id": "3b061448-71c6-424c-90b2-f57642427a14",
   "metadata": {},
   "outputs": [],
   "source": []
  },
  {
   "cell_type": "code",
   "execution_count": null,
   "id": "6dec3d85-2694-4cef-85e7-8d11d93c5c3f",
   "metadata": {},
   "outputs": [],
   "source": [
    "tf = '4h' # таймфрейм для агрегации цен\n",
    "wind = 15 # размер окна для оконных функций\n",
    "\n",
    "col_name = f'z_score_{wind}_{tf}'\n",
    "df = spread_df.select('time', 'ts', 'spread', col_name).filter((pl.col('time') > start_time) & (pl.col('time') < end_time))\n",
    "df = df.rename({col_name: 'z_score'})\n",
    "df = df.join(bid_ask_df, on='ts')"
   ]
  },
  {
   "cell_type": "code",
   "execution_count": null,
   "id": "0322275a-79d1-48a1-98b5-6b523c3fa0d2",
   "metadata": {},
   "outputs": [],
   "source": [
    "plt.figure(figsize=(15, 3))\n",
    "plt.title(f'{tf}; {wind}')\n",
    "plt.plot(df['z_score'])\n",
    "plt.grid()"
   ]
  },
  {
   "cell_type": "code",
   "execution_count": null,
   "id": "aa9d3626-aa8a-4ddf-8329-5575dec926ba",
   "metadata": {},
   "outputs": [],
   "source": []
  },
  {
   "cell_type": "code",
   "execution_count": null,
   "id": "b80cb84e-7dfe-41e1-8148-7068dc0079a3",
   "metadata": {},
   "outputs": [],
   "source": [
    "full_df = spread_df.select('time', 'ts', 'spread', col_name)\n",
    "full_df = full_df.rename({col_name: 'z_score'})\n",
    "full_df = full_df.join(bid_ask_df, on='ts')\n",
    "\n",
    "valid_df = spread_df.select('time', 'ts', 'spread', col_name).filter((pl.col('time') > start_time) & (pl.col('time') < valid_time))\n",
    "valid_df = valid_df.rename({col_name: 'z_score'})\n",
    "valid_df = valid_df.join(bid_ask_df, on='ts')\n",
    "\n",
    "test_df = spread_df.select('time', 'ts', 'spread', col_name).filter((pl.col('time') > valid_time) & (pl.col('time') < end_time))\n",
    "test_df = test_df.rename({col_name: 'z_score'})\n",
    "test_df = test_df.join(bid_ask_df, on='ts')"
   ]
  },
  {
   "cell_type": "code",
   "execution_count": null,
   "id": "9738e01e-d889-43f4-842b-a958882280e7",
   "metadata": {},
   "outputs": [],
   "source": []
  },
  {
   "cell_type": "code",
   "execution_count": null,
   "id": "5a37f73e-a999-436f-bd8f-4ca047956eda",
   "metadata": {
    "scrolled": true
   },
   "outputs": [],
   "source": [
    "# %%timeit\n",
    "mode = 'full' # test / valid / full\n",
    "leverage = 1\n",
    "\n",
    "if mode == 'valid':\n",
    "    df = valid_df\n",
    "    time_1 = start_time\n",
    "    time_2 = valid_time\n",
    "elif mode == 'test':\n",
    "    df = test_df\n",
    "    time_1 = valid_time\n",
    "    time_2 = end_time\n",
    "elif mode == 'full':\n",
    "    df = full_df\n",
    "    time_1 = start_time\n",
    "    time_2 = end_time\n",
    "\n",
    "params = {'low_in': -1.0, 'high_in': 2.6, 'low_out': -2.4, 'high_out': 1.0}\n",
    "\n",
    "trades_df = backtest(df, token_1, token_2, dp_1, dp_2, ps_1, ps_2, \n",
    "            thresh_low_in=params['low_in'], thresh_high_in=params['high_in'], \n",
    "            thresh_low_out=params['low_out'], thresh_high_out=params['high_out'], \n",
    "            long_possible=True, short_possible=True,\n",
    "            method_in='direct', method_out='direct',\n",
    "            balance=200, order_size=100, fee_rate=0.00055, stop_loss_std=5.0, sl_method='leave',\n",
    "            sl_seconds = 60,\n",
    "            leverage=leverage,\n",
    "            verbose=2)"
   ]
  },
  {
   "cell_type": "code",
   "execution_count": null,
   "id": "30445464-c742-451d-8e4b-bfb0108cd7cb",
   "metadata": {},
   "outputs": [],
   "source": [
    "trades_df.tail()"
   ]
  },
  {
   "cell_type": "code",
   "execution_count": null,
   "id": "3297a14b-84cf-4f20-bfd7-a07f9adf7624",
   "metadata": {},
   "outputs": [],
   "source": []
  },
  {
   "cell_type": "code",
   "execution_count": null,
   "id": "83f3eb90-2c71-4759-ad17-a994599ea198",
   "metadata": {},
   "outputs": [],
   "source": [
    "metrics = analyze_strategy(trades_df, start_date=time_1, end_date=time_2, initial_balance=200.0)"
   ]
  },
  {
   "cell_type": "code",
   "execution_count": null,
   "id": "b714102b-aef8-4394-818f-2d9cf831b3d5",
   "metadata": {},
   "outputs": [],
   "source": [
    "metrics"
   ]
  },
  {
   "cell_type": "code",
   "execution_count": null,
   "id": "a904b707-b5ff-4937-985c-d5c4d5a32d64",
   "metadata": {},
   "outputs": [],
   "source": []
  },
  {
   "cell_type": "code",
   "execution_count": null,
   "id": "46ade612-96ca-431c-acd8-b17813fa5056",
   "metadata": {},
   "outputs": [],
   "source": []
  },
  {
   "cell_type": "code",
   "execution_count": null,
   "id": "a375ed54-b6cf-4709-9fed-6b07c848f651",
   "metadata": {},
   "outputs": [],
   "source": [
    "# 0. Сделать проверку доступного объёма.\n",
    "# 1. Проверить для разных способов вычисления скользящих значений (по цене закрытия или другими способами)\n",
    "# 2. Проверить разные способы распределения денег между плечами ордера\n",
    "# 3. Проверить, как изменится доходность, если размер ставки увеличивать с ростом банкролла"
   ]
  },
  {
   "cell_type": "code",
   "execution_count": null,
   "id": "821959e3-8284-48d9-ade9-41d5061af669",
   "metadata": {},
   "outputs": [],
   "source": []
  },
  {
   "cell_type": "code",
   "execution_count": null,
   "id": "e6e6c07e-8d6d-416c-bdba-e077b990c325",
   "metadata": {
    "scrolled": true
   },
   "outputs": [],
   "source": [
    "time_1 = datetime(2025, 8, 26, 12, 00, 42, tzinfo=ZoneInfo(\"Europe/Moscow\"))\n",
    "time_2 = datetime(2025, 8, 27, 21, 12, 56, tzinfo=ZoneInfo(\"Europe/Moscow\"))\n",
    "df.filter((pl.col('time') > time_1) & (pl.col('time') < time_2)).drop('ts')"
   ]
  },
  {
   "cell_type": "code",
   "execution_count": null,
   "id": "e8a04f04-14d5-44bb-a6c9-065862ddccf5",
   "metadata": {
    "editable": true,
    "slideshow": {
     "slide_type": ""
    },
    "tags": []
   },
   "outputs": [],
   "source": []
  },
  {
   "cell_type": "code",
   "execution_count": null,
   "id": "12fa776e-ea99-405d-88b7-581ff77ea485",
   "metadata": {},
   "outputs": [],
   "source": []
  },
  {
   "cell_type": "code",
   "execution_count": null,
   "id": "f4a2188f-b2e7-49e3-9c20-ce691926494c",
   "metadata": {},
   "outputs": [],
   "source": []
  },
  {
   "cell_type": "code",
   "execution_count": null,
   "id": "548e1b6c-e4a7-4966-9a91-5102a2caeaea",
   "metadata": {},
   "outputs": [],
   "source": [
    "y = df['close_1']\n",
    "X = df['close_2']\n",
    "X = sm.add_constant(X)  # добавляем константу (alpha)\n",
    "\n",
    "model = sm.OLS(y, X).fit()\n",
    "alpha, beta = model.params\n",
    "print(f\"alpha = {alpha:.4f}, beta = {beta:.4f}\")\n",
    "\n",
    "residuals = y - (alpha + beta * df['close_2'])\n",
    "adf_result = adfuller(residuals)\n",
    "p_value = adf_result[1]\n",
    "print(f'{p_value=:.2f}')"
   ]
  },
  {
   "cell_type": "code",
   "execution_count": null,
   "id": "1ff6becc-c3ab-4960-9438-d37e0e167867",
   "metadata": {},
   "outputs": [],
   "source": [
    "(df['close_1'] - (alpha + beta * df['close_2'])).plot(figsize=(14, 2));"
   ]
  },
  {
   "cell_type": "code",
   "execution_count": null,
   "id": "a9efecf0-275b-43de-be93-58042ea9ce44",
   "metadata": {},
   "outputs": [],
   "source": []
  },
  {
   "cell_type": "code",
   "execution_count": null,
   "id": "b432dc80-f5d0-4554-b5ba-ef371afa0a04",
   "metadata": {},
   "outputs": [],
   "source": []
  },
  {
   "cell_type": "code",
   "execution_count": null,
   "id": "5e57e32b-89bb-492b-be60-a17f30305fe2",
   "metadata": {},
   "outputs": [],
   "source": []
  },
  {
   "cell_type": "markdown",
   "id": "14d710be-bfb8-4f9a-a4d7-c2b2b9083911",
   "metadata": {
    "jp-MarkdownHeadingCollapsed": true
   },
   "source": [
    "#### Trading"
   ]
  },
  {
   "cell_type": "code",
   "execution_count": null,
   "id": "db5caef9-88e8-4590-9649-3e0522308d22",
   "metadata": {},
   "outputs": [],
   "source": [
    "from jaref_bot.data.http_api import ExchangeManager, BybitRestAPI, GateIORestAPI\n",
    "\n",
    "import matplotlib.pyplot as plt\n",
    "import matplotlib.dates as mdates\n",
    "\n",
    "import pandas as pd\n",
    "import polars as pl\n",
    "import numpy as np\n",
    "from datetime import datetime\n",
    "\n",
    "from jaref_bot.db.postgres_manager import DBManager\n",
    "from jaref_bot.db.redis_manager import RedisManager\n",
    "from jaref_bot.config.credentials import host, user, password, db_name\n",
    "\n",
    "db_params = {'host': host, 'user': user, 'password': password, 'dbname': db_name}\n",
    "postgre_manager = DBManager(db_params)\n",
    "\n",
    "redis_price_manager = RedisManager(db_name = 'orderbooks')\n",
    "redis_order_manager = RedisManager(db_name = 'orders')\n",
    "\n",
    "exc_manager = ExchangeManager()\n",
    "exc_manager.add_market(\"bybit_linear\", BybitRestAPI('linear'))\n",
    "# exc_manager.add_market(\"okx_linear\", OKXRestAPI('linear'))\n",
    "# exc_manager.add_market(\"gate_linear\", GateIORestAPI('linear'))"
   ]
  },
  {
   "cell_type": "code",
   "execution_count": null,
   "id": "29f8eb4f-1b4d-4030-872a-c0e997812d7f",
   "metadata": {},
   "outputs": [],
   "source": [
    "exc = 'bybit_linear'\n",
    "interval = '1h'\n",
    "n_iters = 1\n",
    "token_1 = 'STRK'\n",
    "token_2 = 'XAI'\n",
    "\n",
    "res_1 = await exc_manager.get_candles(symbol=f'{token_1}_USDT', interval=interval, n_iters=n_iters)\n",
    "res_2 = await exc_manager.get_candles(symbol=f'{token_2}_USDT', interval=interval, n_iters=n_iters)\n",
    "res_1 = res_1[exc]\n",
    "res_2 = res_2[exc]"
   ]
  },
  {
   "cell_type": "code",
   "execution_count": null,
   "id": "d6acb035-3081-4df4-ae6d-f5e8cb95ad28",
   "metadata": {},
   "outputs": [],
   "source": [
    "hist_df = res_1[['Close']].merge(res_2[['Close']], how='inner', on='Date', suffixes=(f'_{token_1}', f'_{token_2}')\n",
    "                      ).rename(columns={f'Close_{token_1}': token_1, f'Close_{token_2}': token_2}).reset_index()\n",
    "hist_df = pl.DataFrame(hist_df)\n",
    "curr_time_bar = hist_df[-1, 'Date'].hour"
   ]
  },
  {
   "cell_type": "code",
   "execution_count": null,
   "id": "8fd8f590-ddcf-40d7-b6f4-885d0cf9d368",
   "metadata": {},
   "outputs": [],
   "source": [
    "hist_df.tail(2)"
   ]
  },
  {
   "cell_type": "code",
   "execution_count": null,
   "id": "44994d0e-67a9-49e2-aa34-1a2b7b53c728",
   "metadata": {},
   "outputs": [],
   "source": []
  },
  {
   "cell_type": "code",
   "execution_count": null,
   "id": "6866512b-70ed-4469-99b7-74d121494732",
   "metadata": {},
   "outputs": [],
   "source": [
    "current_data = redis_price_manager.get_orderbooks(1)\n",
    "t_1 = current_data.filter(pl.col('symbol') == f'{token_1}_USDT').select('bidprice_0', 'askprice_0').mean_horizontal().item()\n",
    "t_2 = current_data.filter(pl.col('symbol') == f'{token_2}_USDT').select('bidprice_0', 'askprice_0').mean_horizontal().item()\n",
    "\n",
    "Moscow_TZ = timezone(timedelta(hours=3))\n",
    "ct = datetime.now(Moscow_TZ).replace(microsecond=0)\n",
    "\n",
    "new_row = pl.DataFrame({\n",
    "    \"Date\": [ct]\n",
    "}).with_columns(\n",
    "    pl.col(\"Date\").cast(pl.Datetime(\"ns\", \"Europe/Moscow\"))\n",
    ").with_columns([\n",
    "    pl.lit(t_1).alias(token_1),\n",
    "    pl.lit(t_2).alias(token_2)\n",
    "])\n",
    "\n",
    "df = hist_df.vstack(new_row)\n",
    "\n",
    "wind = 4\n",
    "\n",
    "df = df.with_columns(\n",
    "    (pl.col(f'{token_1}') / pl.col(f'{token_2}')).alias('spread')\n",
    ").with_columns(\n",
    "    pl.col('spread').rolling_mean(wind).alias('mean'),\n",
    "    pl.col('spread').rolling_std(wind).alias('std')\n",
    ").with_columns(\n",
    "    ((pl.col('mean') - pl.col('spread')) / pl.col('std')).alias('z_score')\n",
    ")"
   ]
  },
  {
   "cell_type": "code",
   "execution_count": null,
   "id": "60650f4b-5570-4674-849f-1b15f8b733bd",
   "metadata": {},
   "outputs": [],
   "source": [
    "df.tail(5)"
   ]
  },
  {
   "cell_type": "code",
   "execution_count": null,
   "id": "0599f262-4dfe-402b-b146-66bb1d073ed5",
   "metadata": {},
   "outputs": [],
   "source": [
    "ct.replace(minute=0, second=0, microsecond=0) "
   ]
  },
  {
   "cell_type": "code",
   "execution_count": null,
   "id": "9341d052-5d28-469a-a4c6-688df6529980",
   "metadata": {},
   "outputs": [],
   "source": [
    "ct.hour"
   ]
  },
  {
   "cell_type": "code",
   "execution_count": null,
   "id": "a03d55fb-4ed3-4842-a7ee-6f59582d5942",
   "metadata": {},
   "outputs": [],
   "source": [
    "curr_time_bar"
   ]
  },
  {
   "cell_type": "code",
   "execution_count": null,
   "id": "4e25a447-1950-411f-92bf-b93adaee8cd4",
   "metadata": {},
   "outputs": [],
   "source": []
  },
  {
   "cell_type": "code",
   "execution_count": null,
   "id": "03db4ea6-1919-4285-a836-183418056822",
   "metadata": {},
   "outputs": [],
   "source": []
  }
 ],
 "metadata": {
  "kernelspec": {
   "display_name": "Python 3 (ipykernel)",
   "language": "python",
   "name": "python3"
  },
  "language_info": {
   "codemirror_mode": {
    "name": "ipython",
    "version": 3
   },
   "file_extension": ".py",
   "mimetype": "text/x-python",
   "name": "python",
   "nbconvert_exporter": "python",
   "pygments_lexer": "ipython3",
   "version": "3.13.5"
  }
 },
 "nbformat": 4,
 "nbformat_minor": 5
}
