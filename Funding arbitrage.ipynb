{
 "cells": [
  {
   "cell_type": "code",
   "execution_count": null,
   "id": "69e62abb-bfb9-4381-930f-0abaac4303a5",
   "metadata": {},
   "outputs": [],
   "source": [
    "%load_ext autoreload\n",
    "%autoreload 2\n",
    "\n",
    "from jaref_bot.data.http_api import ExchangeManager, BybitRestAPI, OKXRestAPI, GateIORestAPI\n",
    "from jaref_bot.utils.files import get_saved_coins\n",
    "\n",
    "import polars as pl\n",
    "from datetime import datetime, timedelta\n",
    "from tqdm.notebook import tqdm\n",
    "import requests\n",
    "import json\n",
    "\n",
    "from jaref_bot.strategies.funding import get_arbitrage_fund\n",
    "from jaref_bot.db.postgres_manager import DBManager\n",
    "from jaref_bot.config.credentials import host, user, password, db_name\n",
    "\n",
    "db_params = {'host': host, 'user': user, 'password': password, 'dbname': db_name}\n",
    "db_manager = DBManager(db_params)\n",
    "\n",
    "import warnings\n",
    "warnings.filterwarnings(\"ignore\")"
   ]
  },
  {
   "cell_type": "code",
   "execution_count": null,
   "id": "9240f743-496d-406a-ab93-42cabb62171f",
   "metadata": {},
   "outputs": [],
   "source": [
    "from jaref_bot.utils.coinmarketcap import get_top_tokens\n",
    "# top_1000 = get_top_tokens(limit=1000, output_file='./data/top_1000_tokens.txt')"
   ]
  },
  {
   "cell_type": "code",
   "execution_count": null,
   "id": "0d1f4375-06f4-4726-b6d8-ccceb5daf58e",
   "metadata": {},
   "outputs": [],
   "source": [
    "saved_coins = get_saved_coins(data_folder='./data/agg_trades')"
   ]
  },
  {
   "cell_type": "markdown",
   "id": "b0f24685-0849-481f-94e9-e44bd238854b",
   "metadata": {
    "execution": {
     "iopub.execute_input": "2025-07-31T08:49:59.786318Z",
     "iopub.status.busy": "2025-07-31T08:49:59.785545Z",
     "iopub.status.idle": "2025-07-31T08:49:59.790123Z",
     "shell.execute_reply": "2025-07-31T08:49:59.789215Z",
     "shell.execute_reply.started": "2025-07-31T08:49:59.786263Z"
    }
   },
   "source": [
    "#### Исследование истории фандинга"
   ]
  },
  {
   "cell_type": "code",
   "execution_count": null,
   "id": "f5882de4-0a3c-42dc-8b99-5bc9f6c46db3",
   "metadata": {
    "scrolled": true
   },
   "outputs": [],
   "source": [
    "symbol = 'LPT'\n",
    "exchange = 'bybit'\n",
    "\n",
    "syms = set(['FIL', 'ONDO', 'GALA', 'ROSE', 'SNX', 'GTC', 'OP', 'CELO', 'APT', 'AKT', 'ARKM', 'STG', 'FLOW', 'C98',\n",
    "       'ONG', 'PHA', 'SAND', 'ENJ', 'VET', 'CHR', 'OGN', 'MANA', 'ARB', 'GRT', 'VET', 'GMT', 'MANTA'])\n",
    "\n",
    "exc_manager = ExchangeManager()\n",
    "if exchange == 'bybit':\n",
    "    exc_manager.add_market(\"bybit_linear\", BybitRestAPI('linear'))\n",
    "elif exchange == 'gate':\n",
    "    exc_manager.add_market(\"gate_linear\", GateIORestAPI('linear'))\n",
    "\n",
    "for symbol in syms:\n",
    "    start_date = datetime.now().replace(microsecond=0) - timedelta(days=180)\n",
    "    fund_hist = await exc_manager.get_funding_history(symbol=f'{symbol}_USDT', start_date=start_date, limit=500)\n",
    "    fund_hist = fund_hist[0]\n",
    "    fund_sum = float(fund_hist['funding'].sum()) * 100\n",
    "    fmin = fund_hist['funding'].min() * 100\n",
    "    fmax = fund_hist['funding'].max() * 100\n",
    "    count = fund_hist['funding'].shape[0]\n",
    "    \n",
    "    print(f'Монета: {symbol}, Биржа: {exchange}')\n",
    "    print(f'Первая запись: {fund_hist.index[0]}; Последняя запись: {fund_hist.index[-1]}')\n",
    "    print(f'Суммарный фандинг: {fund_sum:.2f}%; Количество расчётов по фандингу: {count}')\n",
    "    print(f'min: {fmin:.4f}%; max: {fmax:.4f}%')\n",
    "    print()"
   ]
  },
  {
   "cell_type": "code",
   "execution_count": null,
   "id": "f93411f8-8238-4645-aa64-061aa3503ea2",
   "metadata": {},
   "outputs": [],
   "source": []
  },
  {
   "cell_type": "code",
   "execution_count": null,
   "id": "e5c95536-9f32-41e7-90a1-8aae251771be",
   "metadata": {},
   "outputs": [],
   "source": [
    "# Сохранение\n",
    "# with open('./data/fund_coins.json', 'w') as f:\n",
    "#     json.dump(coins, f, indent=4)  # indent для красоты (опционально)"
   ]
  },
  {
   "cell_type": "code",
   "execution_count": null,
   "id": "1773395b-a407-423e-86d2-38ae51aa0d79",
   "metadata": {},
   "outputs": [],
   "source": [
    "# Загрузка\n",
    "with open('coins.json', 'r') as f:\n",
    "    coins = json.load(f)"
   ]
  },
  {
   "cell_type": "code",
   "execution_count": null,
   "id": "403cb11d-c691-49bf-b927-0e1071bec924",
   "metadata": {},
   "outputs": [],
   "source": []
  },
  {
   "cell_type": "markdown",
   "id": "ed82646a-eabe-40b1-acfa-1a6fa7ebb2ab",
   "metadata": {},
   "source": [
    "#### Текущий фандинг"
   ]
  },
  {
   "cell_type": "code",
   "execution_count": null,
   "id": "1492d755-e484-4531-8b99-28133de3bde8",
   "metadata": {},
   "outputs": [],
   "source": []
  },
  {
   "cell_type": "code",
   "execution_count": null,
   "id": "387935cc-fe80-405b-aa3e-5870454e89b7",
   "metadata": {},
   "outputs": [],
   "source": [
    "df = db_manager.get_table('funding_data')\n",
    "df = pl.from_pandas(df)"
   ]
  },
  {
   "cell_type": "code",
   "execution_count": null,
   "id": "bc4d8632-87d8-4d0f-b3c7-6ecd68cba878",
   "metadata": {},
   "outputs": [],
   "source": [
    "get_arbitrage_fund(df, 0.5)"
   ]
  },
  {
   "cell_type": "code",
   "execution_count": null,
   "id": "f0baea7f-cdc2-4429-9233-44a591b40d7d",
   "metadata": {},
   "outputs": [],
   "source": [
    "# Сильно отрицательный фандинг\n",
    "df.filter(pl.col('funding_rate') < -1).sort(by='funding_rate')"
   ]
  },
  {
   "cell_type": "code",
   "execution_count": null,
   "id": "e9723016-0697-46aa-b418-b5519df3a72e",
   "metadata": {},
   "outputs": [],
   "source": [
    "# Положительный фандинг (возможность для спот-фьючерс арбитража)\n",
    "# df.filter(pl.col('funding_rate') > 0.1).sort(by='funding_rate', descending=True)"
   ]
  },
  {
   "cell_type": "code",
   "execution_count": null,
   "id": "9e76b49f-dc09-4b6f-b499-9248ac2f19d9",
   "metadata": {},
   "outputs": [],
   "source": [
    "# Частые выплаты (1 раз в 1-2 часа)\n",
    "df.filter((pl.col('fund_interval').is_in([1, 2])) & (pl.col('funding_rate') < -0.15)).sort(by='funding_rate')"
   ]
  },
  {
   "cell_type": "code",
   "execution_count": null,
   "id": "8c9feafa-37ab-4099-b1c3-515bcad2dfac",
   "metadata": {},
   "outputs": [],
   "source": []
  },
  {
   "cell_type": "code",
   "execution_count": null,
   "id": "5144215e-162f-4fd5-a951-39dd1665046a",
   "metadata": {},
   "outputs": [],
   "source": []
  },
  {
   "cell_type": "markdown",
   "id": "20845e37-04b9-40bd-830a-ce0aaaf87776",
   "metadata": {
    "jp-MarkdownHeadingCollapsed": true
   },
   "source": [
    "#### Расчёт одиночной сделки"
   ]
  },
  {
   "cell_type": "code",
   "execution_count": null,
   "id": "300c6f35-a813-4ebd-b342-65b3c42644b5",
   "metadata": {},
   "outputs": [],
   "source": [
    "from jaref_bot.data.http_api import ExchangeManager, BybitRestAPI, GateIORestAPI, OKXRestAPI\n",
    "import matplotlib.pyplot as plt\n",
    "import seaborn as sns\n",
    "sns.set()\n",
    "\n",
    "import pandas as pd\n",
    "import polars as pl\n",
    "import numpy as np\n",
    "from datetime import datetime\n",
    "\n",
    "exc_manager = ExchangeManager()\n",
    "exc_manager.add_market(\"bybit_linear\", BybitRestAPI('linear'))\n",
    "exc_manager.add_market(\"gate_spot\", GateIORestAPI('spot'))\n"
   ]
  },
  {
   "cell_type": "code",
   "execution_count": null,
   "id": "d2ebf3a4-29df-4c6e-b497-109885db52e6",
   "metadata": {},
   "outputs": [],
   "source": [
    "interval = '1m'\n",
    "n_iters = 1\n",
    "sym = 'SKATE_USDT'"
   ]
  },
  {
   "cell_type": "code",
   "execution_count": null,
   "id": "daee244a-5402-45bf-9fb4-cdd94fa9a3d8",
   "metadata": {
    "scrolled": true
   },
   "outputs": [],
   "source": [
    "res = await exc_manager.get_candles(symbol=sym, interval=interval, n_iters=n_iters)"
   ]
  },
  {
   "cell_type": "code",
   "execution_count": null,
   "id": "3866cdfb-ca96-4cd6-a36d-de4a26c0dda8",
   "metadata": {},
   "outputs": [],
   "source": [
    "bb_linear = res['bybit_linear']\n",
    "gt_spot = res['gate_spot']\n"
   ]
  },
  {
   "cell_type": "code",
   "execution_count": null,
   "id": "53b74f54-d025-454b-9d57-942ff56c0f26",
   "metadata": {},
   "outputs": [],
   "source": [
    "bb_linear"
   ]
  },
  {
   "cell_type": "code",
   "execution_count": null,
   "id": "6752dc78-02b7-4a7a-b7cb-9c981f05e38e",
   "metadata": {},
   "outputs": [],
   "source": []
  },
  {
   "cell_type": "code",
   "execution_count": null,
   "id": "c6db0c1c-aab5-4ca9-afec-3eb7b17f87b7",
   "metadata": {},
   "outputs": [],
   "source": [
    "df = linear_df[['Close']].merge(spot_df[['Close']], how='inner', on='Date', suffixes=(f'_linear', f'_spot'))\n",
    "df['perc_diff'] = (df[f'Close_spot'] / df[f'Close_linear'] - 1) * 100\n",
    "df['perc_diff'].iloc[:].plot(figsize=(14, 2));"
   ]
  },
  {
   "cell_type": "code",
   "execution_count": null,
   "id": "9e695601-bdd8-4ad8-b64c-fa286dea3d23",
   "metadata": {},
   "outputs": [],
   "source": []
  },
  {
   "cell_type": "code",
   "execution_count": null,
   "id": "ef0405f1-592b-4ef0-9b9f-b6e1441ba9cf",
   "metadata": {},
   "outputs": [],
   "source": [
    "info = await exc_manager.get_prices()\n",
    "index_price = info['bybit_linear'][sym]['index_price']\n",
    "ask_price = info['bybit_linear'][sym]['ask_price']\n",
    "\n",
    "print(f'Разница между индексной ценой и ценой фьючерса: {(index_price / ask_price - 1) * 100:.2f}%')"
   ]
  },
  {
   "cell_type": "code",
   "execution_count": null,
   "id": "e207cb19-e09f-4e47-84e4-68a9e8e9dab3",
   "metadata": {},
   "outputs": [],
   "source": [
    "# Сколько монет покупать\n",
    "usdt_amount = 50\n",
    "price = 0.1335\n",
    "\n",
    "usdt_amount / price"
   ]
  },
  {
   "cell_type": "code",
   "execution_count": null,
   "id": "97407b3f-1c7d-4fc8-bd12-77e4219161c1",
   "metadata": {},
   "outputs": [],
   "source": []
  },
  {
   "cell_type": "markdown",
   "id": "b19990c1-d48a-4aef-873f-41408a8cc658",
   "metadata": {},
   "source": [
    "#### Межбиржевой арбитраж"
   ]
  },
  {
   "cell_type": "code",
   "execution_count": null,
   "id": "61d34792-1281-44c4-949b-734a1da28649",
   "metadata": {},
   "outputs": [],
   "source": [
    "from jaref_bot.data.http_api import ExchangeManager, BybitRestAPI, GateIORestAPI\n",
    "\n",
    "import matplotlib.pyplot as plt\n",
    "import matplotlib.dates as mdates\n",
    "\n",
    "import pandas as pd\n",
    "import polars as pl\n",
    "import numpy as np\n",
    "from datetime import datetime\n",
    "\n",
    "exc_manager = ExchangeManager()\n",
    "exc_manager.add_market(\"bybit_linear\", BybitRestAPI('linear'))\n",
    "# exc_manager.add_market(\"okx_linear\", OKXRestAPI('linear'))\n",
    "# exc_manager.add_market(\"gate_linear\", GateIORestAPI('linear'))"
   ]
  },
  {
   "cell_type": "code",
   "execution_count": null,
   "id": "2dc301dd-474d-408a-8851-c4e65ed394ae",
   "metadata": {
    "scrolled": true
   },
   "outputs": [],
   "source": [
    "interval = '1m'\n",
    "n_iters = 1\n",
    "sym = 'MAGIC_USDT'\n",
    "\n",
    "res = await exc_manager.get_candles(symbol=sym, interval=interval, n_iters=n_iters)"
   ]
  },
  {
   "cell_type": "code",
   "execution_count": null,
   "id": "f19ff42f-73c1-4f58-8d0a-aee44948135f",
   "metadata": {},
   "outputs": [],
   "source": [
    "# exc_long = 'okx_linear'\n",
    "exc_short = 'bybit_linear'\n",
    "\n",
    "# long_df = res[exc_long]\n",
    "short_df = res[exc_short]"
   ]
  },
  {
   "cell_type": "code",
   "execution_count": null,
   "id": "fcd640c2-a386-418f-aca1-5e59d5896ae7",
   "metadata": {},
   "outputs": [],
   "source": [
    "df = long_df[['Close']].merge(short_df[['Close']], how='inner', on='Date', suffixes=(f'_long', f'_short'))\n",
    "df['perc_diff'] = (df[f'Close_short'] / df[f'Close_long'] - 1) * 100\n",
    "\n",
    "fig, ax = plt.subplots(figsize=(14, 3))\n",
    "df.index = df.index.tz_convert('Europe/Moscow')\n",
    "\n",
    "ax.plot(df.index, df['perc_diff'])\n",
    "\n",
    "ax.xaxis.set_major_locator(mdates.HourLocator(interval=1))\n",
    "ax.xaxis.set_major_formatter(mdates.DateFormatter('%H:%M'))\n",
    "\n",
    "plt.xticks(rotation=45)\n",
    "plt.grid()\n",
    "plt.tight_layout()"
   ]
  },
  {
   "cell_type": "code",
   "execution_count": null,
   "id": "b5356afc-f7a9-449a-8fba-8b56de0cf04f",
   "metadata": {},
   "outputs": [],
   "source": []
  },
  {
   "cell_type": "code",
   "execution_count": null,
   "id": "c293b147-4ccb-4383-a0d8-e40bb5453668",
   "metadata": {},
   "outputs": [],
   "source": [
    "from jaref_bot.db.postgres_manager import DBManager\n",
    "from jaref_bot.config.credentials import host, user, password, db_name\n",
    "\n",
    "db_params = {'host': host, 'user': user, 'password': password, 'dbname': db_name}\n",
    "db_manager = DBManager(db_params)\n"
   ]
  },
  {
   "cell_type": "code",
   "execution_count": null,
   "id": "706a9020-1ffb-4b40-9fe6-5baf70b0154b",
   "metadata": {},
   "outputs": [],
   "source": [
    "db_manager.update_data"
   ]
  },
  {
   "cell_type": "code",
   "execution_count": null,
   "id": "d7d71dde-c3fc-4d8c-9d99-7b0cfeed3342",
   "metadata": {},
   "outputs": [],
   "source": [
    "short_df"
   ]
  },
  {
   "cell_type": "code",
   "execution_count": null,
   "id": "55dba233-6b93-47b5-b5ce-a63ff9698ed8",
   "metadata": {},
   "outputs": [],
   "source": []
  },
  {
   "cell_type": "code",
   "execution_count": null,
   "id": "07785ac1-9bd6-45b8-acb4-f27a8c7e79f3",
   "metadata": {},
   "outputs": [],
   "source": [
    "edge_time = '2025-08-02 13:00'\n",
    "orig_df = df[df.index < edge_time]\n",
    "curr_df = df[df.index > edge_time]\n",
    "\n",
    "minv, maxv, meanv, stdv = orig_df['perc_diff'].agg(['min', 'max', 'mean', 'std'])\n",
    "cminv, cmaxv, cmeanv, cstdv = curr_df['perc_diff'].agg(['min', 'max', 'mean', 'std'])\n",
    "\n",
    "curr_diff = curr_df['perc_diff'].iloc[-1]\n",
    "# curr_dev = (curr_diff - meanv) / stdv\n",
    "\n",
    "fig, (ax1, ax2) = plt.subplots(ncols=2, figsize=(18, 3), gridspec_kw={'width_ratios': [1, 1]})\n",
    "ax1.set_title(f'Usual diff. mean: {meanv:.3f}, std: {stdv:.1f}')\n",
    "ax1.plot(orig_df.index, orig_df['perc_diff'])\n",
    "ax1.axhline(y=meanv, color='black', linestyle='-') # mean\n",
    "ax1.axhline(y=meanv + 2 * stdv, color='b', linestyle='-'); # high bound\n",
    "ax1.axhline(y=meanv - 2 * stdv, color='b', linestyle='-'); # low bound\n",
    "\n",
    "ax2.set_title(f'Current diff. mean: {cmeanv:.3f}, std: {cstdv:.1f}, {curr_diff=:.3f}')\n",
    "ax2.plot(curr_df.index, curr_df['perc_diff']);\n",
    "ax2.axhline(y=cmeanv, color='black', linestyle='-') # mean\n",
    "ax2.axhline(y=cmeanv + 2 * cstdv, color='b', linestyle='-'); # high bound\n",
    "ax2.axhline(y=cmeanv - 2 * cstdv, color='b', linestyle='-'); # low bound\n",
    "\n",
    "plt.tight_layout()\n",
    "plt.show()"
   ]
  },
  {
   "cell_type": "code",
   "execution_count": null,
   "id": "d31d8326-a213-4e48-ac64-a1600848706e",
   "metadata": {},
   "outputs": [],
   "source": []
  },
  {
   "cell_type": "code",
   "execution_count": null,
   "id": "b8d94d42-92eb-4735-b15c-73c16c785472",
   "metadata": {},
   "outputs": [],
   "source": [
    "def calculate_profit(qty: float, \n",
    "                     lm_open_price: float, \n",
    "                     lm_open_fee_perc: float, \n",
    "                     sm_open_price: float, \n",
    "                     sm_open_fee_perc: float,\n",
    "                     lm_close_price: float,\n",
    "                     lm_close_fee_perc: float, \n",
    "                     sm_close_price: float,\n",
    "                     sm_close_fee_perc: float,\n",
    "                    ):\n",
    "    \"\"\"\n",
    "    Рассчитывает прибыль арбитражной сделки на основании цен открытия и закрытия, размера комиссии и фандинга.\n",
    "    Diff всегда указывается как разница в процентах между курсом продажи и курсом покупки: \n",
    "        diff = (bid_price / ask_price - 1) * 100\n",
    "    Args:\n",
    "        qty - Количество купленных монет.\n",
    "        lm_open_price - Ask price на лонг-рынке при открытии сделки.\n",
    "        lm_open_fee_perc - Размер комиссии, указанный в процентах, при открытии сделки на лонг-рынке.\n",
    "        sm_open_price - Bid price на шорт-рынке при открытии сделки.\n",
    "        sm_open_fee_perc - Размер комиссии, указанный в процентах, при открытии сделки на шорт-рынке.\n",
    "        lm_close_price - Bid price на лонг-рынке при закрытии сделки.\n",
    "        lm_close_fee_perc - Размер комиссии, указанный в процентах, при закрытии сделки на лонг-рынке.\n",
    "        sm_close_price - Ask price на шорт-рынке при закрытии сделки.\n",
    "        sm_close_fee_perc - Размер комиссии, указанный в процентах, при закрытии сделки на шорт-рынке.\n",
    "\n",
    "        \n",
    "    \"\"\"\n",
    "\n",
    "    long_open_fee_perc = lm_open_fee_perc / 100\n",
    "    short_open_fee_perc = sm_open_fee_perc / 100\n",
    "    long_close_fee_perc = lm_close_fee_perc / 100\n",
    "    short_close_fee_perc = sm_close_fee_perc / 100\n",
    "    \n",
    "    long_open_fee = qty * lm_open_price * long_open_fee_perc\n",
    "    short_open_fee = qty * sm_open_price * short_open_fee_perc\n",
    "    long_close_fee = qty * lm_close_price * long_close_fee_perc\n",
    "    short_close_fee = qty * sm_close_price * short_close_fee_perc\n",
    "\n",
    "    \n",
    "    open_diff = (sm_open_price / lm_open_price - 1) * 100\n",
    "    close_diff = (lm_close_price / sm_close_price - 1) * 100\n",
    "    "
   ]
  },
  {
   "cell_type": "code",
   "execution_count": null,
   "id": "c41fdc8e-5b85-421b-8b51-f6ad032260db",
   "metadata": {},
   "outputs": [],
   "source": [
    "qty = 200\n",
    "long_open_price = 0.4941\n",
    "long_open_fee = qty * long_open_price * long_open_fee_perc\n",
    "short_open_price = 0.4903\n",
    "short_open_fee_perc = 0.1 / 100 # 0.012114 usdt, limit order\n",
    "short_open_fee = qty * short_open_price * short_open_fee_perc\n",
    "open_diff = (short_open_price / long_open_price - 1) * 100"
   ]
  },
  {
   "cell_type": "code",
   "execution_count": null,
   "id": "59d178fb-0030-40fa-a23e-f745c9eeff10",
   "metadata": {},
   "outputs": [],
   "source": [
    "long_open_fee, short_open_fee"
   ]
  },
  {
   "cell_type": "code",
   "execution_count": null,
   "id": "a04f71f3-102b-4b1d-b3a8-fb75c4f51f6a",
   "metadata": {},
   "outputs": [],
   "source": [
    "long_close_price = 0.4760\n",
    "long_close_fee_perc = 0.02 / 100\n",
    "long_close_fee = qty * long_close_price * long_close_fee_perc\n",
    "short_close_price = 0.4752\n",
    "short_close_fee_perc = 0.036 / 100 # market order\n",
    "short_close_fee = qty * short_close_price * short_close_fee_perc\n",
    "close_diff = (long_close_price / short_close_price - 1) * 100\n"
   ]
  },
  {
   "cell_type": "code",
   "execution_count": null,
   "id": "dfa1a7f7-cdeb-44af-abe1-fd4858d6f655",
   "metadata": {},
   "outputs": [],
   "source": [
    "close_diff"
   ]
  },
  {
   "cell_type": "code",
   "execution_count": null,
   "id": "3cdb73df-11e6-4939-ad6c-87bbf108377a",
   "metadata": {},
   "outputs": [],
   "source": [
    "long_close_fee, short_close_fee"
   ]
  },
  {
   "cell_type": "code",
   "execution_count": null,
   "id": "e707674c-838a-4c61-b68c-8cd26c087664",
   "metadata": {},
   "outputs": [],
   "source": [
    "long_profit = qty * (long_close_price - long_open_price) - long_open_fee - long_close_fee\n",
    "short_profit = qty * (short_open_price - short_close_price) - short_open_fee - short_close_fee\n",
    "long_profit, short_profit"
   ]
  },
  {
   "cell_type": "code",
   "execution_count": null,
   "id": "83309e13-5569-4267-9adf-f242703a913b",
   "metadata": {},
   "outputs": [],
   "source": [
    "long_close_fee * long_close_price, short_close_price * short_close_fee"
   ]
  },
  {
   "cell_type": "code",
   "execution_count": null,
   "id": "367994ec-9254-425a-a801-cb7981732e4c",
   "metadata": {},
   "outputs": [],
   "source": [
    "long_fund_perc = -1.246 / 100\n",
    "long_funding = -qty * long_fund_perc * long_open_price\n",
    "\n",
    "short_fund_perc = -0.202 / 100\n",
    "short_funding = qty * short_fund_perc * short_open_price\n",
    "funding_profit = long_funding + short_funding"
   ]
  },
  {
   "cell_type": "code",
   "execution_count": null,
   "id": "c6617d41-ea29-4e64-b881-b273afc3cd0a",
   "metadata": {},
   "outputs": [],
   "source": [
    "long_funding, short_funding"
   ]
  },
  {
   "cell_type": "code",
   "execution_count": null,
   "id": "b1cee6c7-4b68-4fdd-b6ea-dacc2ea23f96",
   "metadata": {},
   "outputs": [],
   "source": [
    "print(f'Доход по лонг-рынку: {long_profit:.3f} {long_funding:.3f} (фандинг)')\n",
    "print(f'Доход по шорт-рынку: {short_profit:.3f} {short_funding:.3f} (фандинг)')\n",
    "print(f'Доход только по фандингу: {funding_profit:.3f}')\n",
    "print(f'Итого: {long_profit + short_profit + funding_profit:.3f}')"
   ]
  },
  {
   "cell_type": "code",
   "execution_count": null,
   "id": "b166dd2a-73fb-4ec4-95d0-4340cf7806f1",
   "metadata": {},
   "outputs": [],
   "source": []
  },
  {
   "cell_type": "code",
   "execution_count": null,
   "id": "d07f379f-7ed8-4967-afc4-947d75157591",
   "metadata": {},
   "outputs": [],
   "source": []
  },
  {
   "cell_type": "markdown",
   "id": "9f2ce9f7-7de8-40ac-ac78-7395dc2f8b41",
   "metadata": {
    "jp-MarkdownHeadingCollapsed": true
   },
   "source": [
    "#### Spot-futures arbitrage"
   ]
  },
  {
   "cell_type": "code",
   "execution_count": null,
   "id": "4fdf92f6-3b6b-4e8c-b392-221494f4b69b",
   "metadata": {},
   "outputs": [],
   "source": [
    "from jaref_bot.data.http_api import ExchangeManager, BybitRestAPI, GateIORestAPI, OKXRestAPI\n",
    "\n",
    "import matplotlib.pyplot as plt\n",
    "\n",
    "import pandas as pd\n",
    "import polars as pl\n",
    "import numpy as np\n",
    "from datetime import datetime\n",
    "\n",
    "exc_manager = ExchangeManager()\n",
    "exc_manager.add_market(\"bybit_linear\", BybitRestAPI('linear'))\n",
    "exc_manager.add_market(\"okx_spot\", OKXRestAPI('linear'))"
   ]
  },
  {
   "cell_type": "code",
   "execution_count": null,
   "id": "e20679b5-ed74-4957-ae78-c8876403cfbf",
   "metadata": {},
   "outputs": [],
   "source": [
    "interval = '1m'\n",
    "n_iters = 1\n",
    "sym1 = 'AIDOGE_USDT'\n",
    "sym2 = '10000000AIDOGE_USDT'\n",
    "\n",
    "bb_lin = await exc_manager.get_candles(symbol=sym2, interval=interval, n_iters=n_iters)\n",
    "okx_lin = await exc_manager.get_candles(symbol=sym1, interval=interval, n_iters=n_iters)"
   ]
  },
  {
   "cell_type": "code",
   "execution_count": null,
   "id": "8c2f0699-22ef-4c6a-8162-0c30b161bb37",
   "metadata": {},
   "outputs": [],
   "source": [
    "bb_lin = bb_lin[0]\n",
    "okx_lin = okx_lin[1]"
   ]
  },
  {
   "cell_type": "code",
   "execution_count": null,
   "id": "cfad8596-f33d-4d0d-b441-bd42fd8197f1",
   "metadata": {},
   "outputs": [],
   "source": [
    "okx_lin[['High', 'Low', 'Close']] = okx_lin[['High', 'Low', 'Close']] * 10_000_000"
   ]
  },
  {
   "cell_type": "code",
   "execution_count": null,
   "id": "b2ab58da-283d-4beb-8497-fcb15d529514",
   "metadata": {},
   "outputs": [],
   "source": [
    "cols = ['High', 'Low', 'Close']\n",
    "df = okx_lin[cols].merge(bb_lin[cols], on='Date', suffixes=('_okx', '_bb'))\n",
    "df['close_diff'] = (df['Close_bb'] / df['Close_okx'] - 1) * 100\n",
    "# df['max_diff'] = (df['High_spot'] / df['Low_fut'] - 1) * 100\n",
    "# df['min_diff'] = (df['Low_spot'] / df['High_fut'] - 1) * 100"
   ]
  },
  {
   "cell_type": "code",
   "execution_count": null,
   "id": "de5adbfd-23b8-4f76-beed-4bc11f1c98a0",
   "metadata": {},
   "outputs": [],
   "source": [
    "df[['close_diff']].plot(figsize=(14, 4));\n",
    "plt.axhline(y=df['close_diff'].median(), color='black', linestyle='-') # mean\n",
    "plt.axhline(y=0, color='red', linestyle='-'); # mean"
   ]
  },
  {
   "cell_type": "code",
   "execution_count": null,
   "id": "fa666aca-492e-4e26-9b95-5b7a3f8c7e8f",
   "metadata": {},
   "outputs": [],
   "source": [
    "df.iloc[-1]"
   ]
  },
  {
   "cell_type": "code",
   "execution_count": null,
   "id": "b856fbe2-ad62-498b-b48f-fa3da480b69e",
   "metadata": {},
   "outputs": [],
   "source": [
    "# Цена входа в сделку\n",
    "short_price = 0.0028212\n",
    "long_price = 0.002804\n",
    "long_price, short_price"
   ]
  },
  {
   "cell_type": "code",
   "execution_count": null,
   "id": "b4c5dea6-daf7-4dcc-a32a-2415aa43c875",
   "metadata": {},
   "outputs": [],
   "source": [
    "(short_price / long_price - 1) * 100"
   ]
  },
  {
   "cell_type": "code",
   "execution_count": null,
   "id": "5ecf4967-8732-428b-80d4-30a78d99454b",
   "metadata": {},
   "outputs": [],
   "source": []
  },
  {
   "cell_type": "code",
   "execution_count": null,
   "id": "d7da6099-34e3-4cba-90f0-6a0be22bd13a",
   "metadata": {},
   "outputs": [],
   "source": [
    "# Выход из сделки\n",
    "short_close_price = df.iloc[-1]['Close_bb']\n",
    "long_close_price = df.iloc[-1]['Close_okx']\n",
    "(short_close_price / long_close_price - 1) * 100"
   ]
  },
  {
   "cell_type": "code",
   "execution_count": null,
   "id": "9912d09f-f445-4470-898b-452e24b1281a",
   "metadata": {},
   "outputs": [],
   "source": []
  }
 ],
 "metadata": {
  "kernelspec": {
   "display_name": "Python 3 (ipykernel)",
   "language": "python",
   "name": "python3"
  },
  "language_info": {
   "codemirror_mode": {
    "name": "ipython",
    "version": 3
   },
   "file_extension": ".py",
   "mimetype": "text/x-python",
   "name": "python",
   "nbconvert_exporter": "python",
   "pygments_lexer": "ipython3",
   "version": "3.13.5"
  }
 },
 "nbformat": 4,
 "nbformat_minor": 5
}
