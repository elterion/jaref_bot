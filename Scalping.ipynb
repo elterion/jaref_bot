{
 "cells": [
  {
   "cell_type": "code",
   "execution_count": 1,
   "id": "b77ebe92-3d06-4963-b143-9fe721d05ab6",
   "metadata": {
    "execution": {
     "iopub.execute_input": "2025-07-24T13:57:27.504361Z",
     "iopub.status.busy": "2025-07-24T13:57:27.504207Z",
     "iopub.status.idle": "2025-07-24T13:57:27.934515Z",
     "shell.execute_reply": "2025-07-24T13:57:27.934094Z",
     "shell.execute_reply.started": "2025-07-24T13:57:27.504350Z"
    }
   },
   "outputs": [],
   "source": [
    "%load_ext autoreload\n",
    "%autoreload 2\n",
    "\n",
    "import polars as pl\n",
    "import pandas as pd\n",
    "from datetime import datetime\n",
    "from lightweight_charts import Chart, JupyterChart\n",
    "from IPython.display import display\n",
    "from time import sleep\n",
    "import ta\n",
    "\n",
    "from jaref_bot.analysis.utils import create_ohlcv_from_trades\n",
    "\n",
    "from jaref_bot.db.postgres_manager import DBManager\n",
    "from jaref_bot.config.credentials import host, user, password, db_name\n",
    "db_params = {'host': host, 'user': user, 'password': password, 'dbname': db_name}\n",
    "db_manager = DBManager(db_params)"
   ]
  },
  {
   "cell_type": "code",
   "execution_count": 1,
   "id": "086a0dd0-3221-48a3-9e9f-3780f9e99a75",
   "metadata": {
    "execution": {
     "iopub.execute_input": "2025-07-31T10:22:32.441442Z",
     "iopub.status.busy": "2025-07-31T10:22:32.441173Z",
     "iopub.status.idle": "2025-07-31T10:22:32.445412Z",
     "shell.execute_reply": "2025-07-31T10:22:32.444618Z",
     "shell.execute_reply.started": "2025-07-31T10:22:32.441423Z"
    }
   },
   "outputs": [],
   "source": []
  },
  {
   "cell_type": "code",
   "execution_count": null,
   "id": "07de54cc-1669-458f-b407-7306a79f042a",
   "metadata": {},
   "outputs": [],
   "source": []
  },
  {
   "cell_type": "code",
   "execution_count": 19,
   "id": "97730c51-93cc-4d80-ab9b-8923cd21e2c4",
   "metadata": {
    "execution": {
     "iopub.execute_input": "2025-07-24T14:02:03.657513Z",
     "iopub.status.busy": "2025-07-24T14:02:03.657233Z",
     "iopub.status.idle": "2025-07-24T14:02:04.674460Z",
     "shell.execute_reply": "2025-07-24T14:02:04.673830Z",
     "shell.execute_reply.started": "2025-07-24T14:02:03.657495Z"
    }
   },
   "outputs": [],
   "source": [
    "symbol = 'BTC'\n",
    "timeframe = '1h'\n",
    "\n",
    "trades_df  = pl.read_parquet(f'./data/{symbol}_agg_trades.parquet')\n",
    "ohlcv_df = create_ohlcv_from_trades(trades_df, timeframe=timeframe, calculate_cvd=True)"
   ]
  },
  {
   "cell_type": "code",
   "execution_count": 20,
   "id": "9aa37a7f-5d40-46c7-8735-2ec931778a38",
   "metadata": {
    "execution": {
     "iopub.execute_input": "2025-07-24T14:02:04.675338Z",
     "iopub.status.busy": "2025-07-24T14:02:04.675131Z",
     "iopub.status.idle": "2025-07-24T14:02:04.703085Z",
     "shell.execute_reply": "2025-07-24T14:02:04.702732Z",
     "shell.execute_reply.started": "2025-07-24T14:02:04.675327Z"
    }
   },
   "outputs": [
    {
     "data": {
      "text/html": [
       "<div><style>\n",
       ".dataframe > thead > tr,\n",
       ".dataframe > tbody > tr {\n",
       "  text-align: right;\n",
       "  white-space: pre-wrap;\n",
       "}\n",
       "</style>\n",
       "<small>shape: (3, 11)</small><table border=\"1\" class=\"dataframe\"><thead><tr><th>time</th><th>open</th><th>high</th><th>low</th><th>close</th><th>volume</th><th>n_trades</th><th>cvd_open</th><th>cvd_high</th><th>cvd_low</th><th>cvd_close</th></tr><tr><td>datetime[ms]</td><td>f64</td><td>f64</td><td>f64</td><td>f64</td><td>f64</td><td>u32</td><td>f64</td><td>f64</td><td>f64</td><td>f64</td></tr></thead><tbody><tr><td>2025-06-01 01:00:00</td><td>104446.49</td><td>104505.58</td><td>103991.37</td><td>104126.07</td><td>460.48201</td><td>27757</td><td>-220.77576</td><td>-212.94211</td><td>-386.38563</td><td>-382.79052</td></tr><tr><td>2025-06-01 02:00:00</td><td>104126.08</td><td>104324.21</td><td>103924.52</td><td>104195.12</td><td>310.1251</td><td>24116</td><td>-382.79047</td><td>-364.74156</td><td>-415.09758</td><td>-374.58178</td></tr><tr><td>2025-06-01 03:00:00</td><td>104195.13</td><td>104235.77</td><td>103971.7</td><td>104120.72</td><td>128.57099</td><td>10584</td><td>-374.48376</td><td>-367.71599</td><td>-393.9841</td><td>-383.22219</td></tr></tbody></table></div>"
      ],
      "text/plain": [
       "shape: (3, 11)\n",
       "┌─────────────────────┬───────────┬───────────┬───────────┬───┬────────────┬────────────┬────────────┬────────────┐\n",
       "│ time                ┆ open      ┆ high      ┆ low       ┆ … ┆ cvd_open   ┆ cvd_high   ┆ cvd_low    ┆ cvd_close  │\n",
       "│ ---                 ┆ ---       ┆ ---       ┆ ---       ┆   ┆ ---        ┆ ---        ┆ ---        ┆ ---        │\n",
       "│ datetime[ms]        ┆ f64       ┆ f64       ┆ f64       ┆   ┆ f64        ┆ f64        ┆ f64        ┆ f64        │\n",
       "╞═════════════════════╪═══════════╪═══════════╪═══════════╪═══╪════════════╪════════════╪════════════╪════════════╡\n",
       "│ 2025-06-01 01:00:00 ┆ 104446.49 ┆ 104505.58 ┆ 103991.37 ┆ … ┆ -220.77576 ┆ -212.94211 ┆ -386.38563 ┆ -382.79052 │\n",
       "│ 2025-06-01 02:00:00 ┆ 104126.08 ┆ 104324.21 ┆ 103924.52 ┆ … ┆ -382.79047 ┆ -364.74156 ┆ -415.09758 ┆ -374.58178 │\n",
       "│ 2025-06-01 03:00:00 ┆ 104195.13 ┆ 104235.77 ┆ 103971.7  ┆ … ┆ -374.48376 ┆ -367.71599 ┆ -393.9841  ┆ -383.22219 │\n",
       "└─────────────────────┴───────────┴───────────┴───────────┴───┴────────────┴────────────┴────────────┴────────────┘"
      ]
     },
     "execution_count": 20,
     "metadata": {},
     "output_type": "execute_result"
    }
   ],
   "source": [
    "ohlcv_df.tail(3)"
   ]
  },
  {
   "cell_type": "code",
   "execution_count": null,
   "id": "3f5dabc5-70fb-4cb5-9869-1dc142416b89",
   "metadata": {},
   "outputs": [],
   "source": []
  },
  {
   "cell_type": "code",
   "execution_count": null,
   "id": "f26123cd-2d1b-4ec2-bb51-e6c09746e380",
   "metadata": {},
   "outputs": [],
   "source": []
  },
  {
   "cell_type": "code",
   "execution_count": null,
   "id": "fe784ac3-f2c7-4987-b49a-a6e4d70f55a2",
   "metadata": {},
   "outputs": [],
   "source": [
    "# df_5min.rename(columns={'bucket': 'time'}, inplace=True)\n",
    "# df_5min['time'] = df_5min['time'].astype(str)\n",
    "# df_5min.drop(['exchange', 'symbol'], axis=1, inplace=True)\n",
    "\n",
    "pdf = ohlcv_df.to_pandas()\n",
    "pdf['time'] = pdf['time'].astype(str)\n",
    "\n",
    "candles_df  = pdf[['time', 'open', 'high', 'low', 'close', 'volume']]\n",
    "cvd_df = pdf[[\"time\", \"cvd_open\", \"cvd_high\", \"cvd_low\", \"cvd_close\"]]\n",
    "cvd_df = cvd_df.rename(columns={'cvd_open': 'open', 'cvd_high': 'high', 'cvd_low': 'low', 'cvd_close': 'close'})\n",
    "\n",
    "chart = JupyterChart(width=1000, height=300)\n",
    "chart.legend(visible=True)\n",
    "chart.set(cvd_df)\n",
    "\n",
    "chart.load()"
   ]
  },
  {
   "cell_type": "code",
   "execution_count": null,
   "id": "296e4cb6-417f-4f0a-9bb3-50837c8363f4",
   "metadata": {},
   "outputs": [],
   "source": [
    "candles_df"
   ]
  },
  {
   "cell_type": "code",
   "execution_count": null,
   "id": "158d8286-4eaa-4995-b95a-6c38cdc2a25b",
   "metadata": {},
   "outputs": [],
   "source": []
  },
  {
   "cell_type": "code",
   "execution_count": null,
   "id": "52570dd5-3dc7-44d5-a823-3ecda1a43db7",
   "metadata": {},
   "outputs": [],
   "source": []
  }
 ],
 "metadata": {
  "kernelspec": {
   "display_name": "Python 3 (ipykernel)",
   "language": "python",
   "name": "python3"
  },
  "language_info": {
   "codemirror_mode": {
    "name": "ipython",
    "version": 3
   },
   "file_extension": ".py",
   "mimetype": "text/x-python",
   "name": "python",
   "nbconvert_exporter": "python",
   "pygments_lexer": "ipython3",
   "version": "3.13.5"
  }
 },
 "nbformat": 4,
 "nbformat_minor": 5
}
