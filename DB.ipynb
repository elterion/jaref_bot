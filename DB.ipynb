{
 "cells": [
  {
   "cell_type": "markdown",
   "id": "c727d295-ba71-41b0-b79a-5d7124464cb6",
   "metadata": {
    "jp-MarkdownHeadingCollapsed": true
   },
   "source": [
    "#### SQL запросы для создания и редактирования таблиц в БД"
   ]
  },
  {
   "cell_type": "code",
   "execution_count": null,
   "id": "d898b6cb-e3bc-4070-b5e3-20cc3cb9b875",
   "metadata": {},
   "outputs": [],
   "source": [
    "CREATE TABLE current_orders (\n",
    "    token TEXT NOT NULL,\n",
    "    exchange TEXT NOT NULL,\n",
    "    market_type TEXT NOT NULL,\n",
    "    order_type TEXT NOT NULL,\n",
    "    order_side TEXT NOT NULL,\n",
    "\tqty NUMERIC(18,8) NOT NULL,\n",
    "    price NUMERIC(18,8) NOT NULL,\n",
    "    usdt_amount NUMERIC(18,10),\n",
    "    usdt_fee NUMERIC(18,8) NOT NULL,\n",
    "\tleverage NUMERIC(4,1) NOT NULL,\n",
    "    created_at TIMESTAMPTZ DEFAULT now(),\n",
    "    PRIMARY KEY (token, exchange, market_type)\n",
    ");\n",
    "\n",
    "CREATE TABLE trading_history (\n",
    "    id SERIAL PRIMARY KEY,\n",
    "    token TEXT NOT NULL,\n",
    "    exchange TEXT NOT NULL,\n",
    "    market_type TEXT NOT NULL,\n",
    "    order_type TEXT NOT NULL,\n",
    "    order_side TEXT NOT NULL,\n",
    "    open_price NUMERIC(18,8) NOT NULL,\n",
    "    close_price NUMERIC(18,8) NOT NULL,\n",
    "    open_usdt_amount NUMERIC(18,10),\n",
    "    close_usdt_amount NUMERIC(18,10),\n",
    "    qty NUMERIC(18,8) NOT NULL,\n",
    "    open_fee NUMERIC(18,8) NOT NULL,\n",
    "    close_fee NUMERIC(18,8) NOT NULL,\n",
    "    leverage NUMERIC(4,1) NOT NULL,\n",
    "    created_at TIMESTAMPTZ,\n",
    "    closed_at TIMESTAMPTZ DEFAULT now(),\n",
    "    profit NUMERIC(18,8)\n",
    ");"
   ]
  },
  {
   "cell_type": "code",
   "execution_count": null,
   "id": "bbaa06d5-74b0-49e0-b231-d7b3860d5edc",
   "metadata": {},
   "outputs": [],
   "source": [
    "# \n",
    "# SELECT * FROM market_data_5s\n",
    "# WHERE \n",
    "#     exchange = 'bybit' \n",
    "#     AND market_type = 'linear' \n",
    "#     AND token = 'ADA_USDT'\n",
    "# ORDER BY bucket DESC;"
   ]
  },
  {
   "cell_type": "code",
   "execution_count": null,
   "id": "5d1e78ec-24e4-4213-a4ed-ba7aaab7d572",
   "metadata": {},
   "outputs": [],
   "source": [
    "# SELECT remove_retention_policy('market_data');\n",
    "\n",
    "SELECT add_retention_policy(\n",
    "    'market_data', \n",
    "    drop_after => INTERVAL '5 minutes',\n",
    "    schedule_interval => INTERVAL '5 minutes'\n",
    ");"
   ]
  },
  {
   "cell_type": "code",
   "execution_count": null,
   "id": "0bde848d-3d7e-4a73-b033-097338ecd5a6",
   "metadata": {},
   "outputs": [],
   "source": [
    "-- Список всех таблиц с их размерами\n",
    "SELECT \n",
    "    relname AS \"Таблица\",\n",
    "    pg_size_pretty(pg_total_relation_size(relid)) AS \"Полный размер\"\n",
    "FROM pg_catalog.pg_statio_user_tables\n",
    "ORDER BY pg_total_relation_size(relid) DESC;"
   ]
  },
  {
   "cell_type": "code",
   "execution_count": null,
   "id": "047d4b3a-88d3-4d14-aaea-cb1da05f9f46",
   "metadata": {},
   "outputs": [],
   "source": [
    "CREATE MATERIALIZED VIEW market_data_5s\n",
    "WITH (timescaledb.continuous) AS\n",
    "SELECT \n",
    "    time_bucket('5 seconds', timestamp) AS bucket,\n",
    "    exchange,\n",
    "    market_type,\n",
    "    token,\n",
    "    AVG(bid_price) AS avg_bid,\n",
    "    AVG(ask_price) AS avg_ask\n",
    "FROM market_data\n",
    "GROUP BY bucket, exchange, market_type, token;"
   ]
  },
  {
   "cell_type": "code",
   "execution_count": null,
   "id": "78cfe667-d394-4715-96a5-32e1ab4c3f65",
   "metadata": {},
   "outputs": [],
   "source": [
    "SELECT add_continuous_aggregate_policy(\n",
    "  'market_data_5s',\n",
    "  start_offset => INTERVAL '1 hour',\n",
    "  end_offset => INTERVAL '5 seconds',\n",
    "  schedule_interval => INTERVAL '10 seconds'\n",
    ");"
   ]
  },
  {
   "cell_type": "markdown",
   "id": "b0e3f010-e5cb-4e93-995d-ba9b5dd269a5",
   "metadata": {},
   "source": [
    "#### PostgreSQL"
   ]
  },
  {
   "cell_type": "code",
   "execution_count": null,
   "id": "6c8025e4-ada3-4ebd-b6dc-4f4986800625",
   "metadata": {},
   "outputs": [],
   "source": [
    "%load_ext autoreload\n",
    "%autoreload 2\n",
    "\n",
    "from datetime import datetime, timedelta\n",
    "from jaref_bot.db.postgres_manager import DBManager\n",
    "from jaref_bot.db.redis_manager import RedisManager\n",
    "\n",
    "import pandas as pd\n",
    "import polars as pl\n",
    "from jaref_bot.config.credentials import host, user, password, db_name\n",
    "\n",
    "db_params = {'host': host, 'user': user, 'password': password, 'dbname': db_name}\n",
    "db_manager = DBManager(db_params)\n",
    "redis_order_manager = RedisManager(db_name = 'orders')\n",
    "\n",
    "db_manager.get_auto_copy_trigger_state()"
   ]
  },
  {
   "cell_type": "code",
   "execution_count": null,
   "id": "7e0e5de2-f528-4cc1-bd6d-5512055fda2f",
   "metadata": {},
   "outputs": [],
   "source": [
    "# db_manager.set_auto_copy_trigger_state('enable')"
   ]
  },
  {
   "cell_type": "code",
   "execution_count": null,
   "id": "1c7e488e-9c63-4952-b95b-8d857215b951",
   "metadata": {},
   "outputs": [],
   "source": [
    "# db_manager.clear_table('market_data_5s')"
   ]
  },
  {
   "cell_type": "code",
   "execution_count": null,
   "id": "1162260d-7232-4181-8bb9-91e6bfd4a069",
   "metadata": {},
   "outputs": [],
   "source": []
  },
  {
   "cell_type": "code",
   "execution_count": null,
   "id": "c23c9c28-ae93-4495-b8e8-e29433e575ab",
   "metadata": {
    "scrolled": true
   },
   "outputs": [],
   "source": [
    "db_manager.get_candlestick(exchange='bybit', token='ETH_USDT', return_type='polars')"
   ]
  },
  {
   "cell_type": "code",
   "execution_count": null,
   "id": "67882a99-e175-42bf-b016-fe7672a2bd6b",
   "metadata": {},
   "outputs": [],
   "source": []
  },
  {
   "cell_type": "code",
   "execution_count": null,
   "id": "55b6a9d3-e181-434a-b184-f47d18b05721",
   "metadata": {},
   "outputs": [],
   "source": [
    "datetime.now() - datetime(2025, 8, 23, 18, 0)"
   ]
  },
  {
   "cell_type": "code",
   "execution_count": null,
   "id": "b3c3cb13-3754-415e-ac93-05cb7a6e4bb6",
   "metadata": {},
   "outputs": [],
   "source": [
    "# db_manager.clear_old_data('orderbook_1h', column='bucket', expiration_time=240, units='hours')"
   ]
  },
  {
   "cell_type": "code",
   "execution_count": null,
   "id": "d3efd1a8-a4ea-419f-bbf6-c34bdd41cb75",
   "metadata": {},
   "outputs": [],
   "source": []
  },
  {
   "cell_type": "code",
   "execution_count": null,
   "id": "c76250a2-8bc7-4854-bb6a-349b2bfd94e9",
   "metadata": {},
   "outputs": [],
   "source": [
    "# db_manager.get_public_trades(exchange='bybit', token='ETH_USDT', return_type='polars')"
   ]
  },
  {
   "cell_type": "code",
   "execution_count": null,
   "id": "4e627aa1-ba20-4715-a905-819dc647112a",
   "metadata": {},
   "outputs": [],
   "source": []
  },
  {
   "cell_type": "markdown",
   "id": "c322b319-586a-4cdd-9a51-e08c3162308a",
   "metadata": {},
   "source": [
    "#### Orderbooks"
   ]
  },
  {
   "cell_type": "code",
   "execution_count": null,
   "id": "40f8b23f-05a1-47e5-add2-178f6677ea69",
   "metadata": {},
   "outputs": [],
   "source": [
    "ob = db_manager.get_orderbooks(exchange='bybit', market_type='linear', symbol='AKT_USDT', interval='1min')"
   ]
  },
  {
   "cell_type": "code",
   "execution_count": null,
   "id": "2a8fa723-c00c-45f4-9d62-de5636d98ded",
   "metadata": {},
   "outputs": [],
   "source": [
    "ob"
   ]
  },
  {
   "cell_type": "code",
   "execution_count": null,
   "id": "d678b5f5-a749-4098-b8ba-a4f0ac092309",
   "metadata": {},
   "outputs": [],
   "source": []
  },
  {
   "cell_type": "code",
   "execution_count": null,
   "id": "f2df5fba-4b3c-4f14-9bba-493bb8efe93a",
   "metadata": {
    "scrolled": true
   },
   "outputs": [],
   "source": [
    "db_manager.get_table('orderbook_1min')"
   ]
  },
  {
   "cell_type": "code",
   "execution_count": null,
   "id": "d9605685-0f2e-4039-bbf3-0c4b2b64c5cc",
   "metadata": {},
   "outputs": [],
   "source": []
  },
  {
   "cell_type": "code",
   "execution_count": null,
   "id": "79adbf7e-4dca-4e78-bd73-f6db5ee1e593",
   "metadata": {},
   "outputs": [],
   "source": [
    "db_manager.get_table('raw_orderbook_data').tail(10)"
   ]
  },
  {
   "cell_type": "code",
   "execution_count": null,
   "id": "14a160e4-06ba-4756-b998-b6bb0f695804",
   "metadata": {},
   "outputs": [],
   "source": [
    "# db_manager.clear_table('orderbook_1min')"
   ]
  },
  {
   "cell_type": "code",
   "execution_count": null,
   "id": "8ea33794-6ae1-4d64-8859-306385e2e2a1",
   "metadata": {},
   "outputs": [],
   "source": []
  },
  {
   "cell_type": "code",
   "execution_count": null,
   "id": "1920eff7-4f2e-426a-bb0d-0c6f0322ace2",
   "metadata": {},
   "outputs": [],
   "source": []
  },
  {
   "cell_type": "code",
   "execution_count": null,
   "id": "ef91eec7-c011-4b74-8836-c96a3d2c825e",
   "metadata": {},
   "outputs": [],
   "source": []
  },
  {
   "cell_type": "markdown",
   "id": "17956e7c-3998-4b3c-bce1-35daf0ef71e5",
   "metadata": {
    "jp-MarkdownHeadingCollapsed": true
   },
   "source": [
    "#### Orders & trading_history"
   ]
  },
  {
   "cell_type": "code",
   "execution_count": null,
   "id": "893b0280-9963-4b02-953a-e5505222d0a9",
   "metadata": {},
   "outputs": [],
   "source": [
    "db_manager.clear_table('trading_history')\n",
    "db_manager.clear_table('current_orders')\n",
    "redis_order_manager.clear_orders_table()"
   ]
  },
  {
   "cell_type": "code",
   "execution_count": null,
   "id": "3fdc8783-4e1c-4650-befd-a09d5c5d5b7e",
   "metadata": {},
   "outputs": [],
   "source": [
    "db_manager.delete_order('ADA_USDT', 'okx', 'linear')"
   ]
  },
  {
   "cell_type": "code",
   "execution_count": null,
   "id": "173f7b9a-b4fd-4d80-9b1b-5b4df291b496",
   "metadata": {},
   "outputs": [],
   "source": []
  },
  {
   "cell_type": "code",
   "execution_count": null,
   "id": "9c8ebc25-3e7d-4ae3-87a0-6253aeeb3908",
   "metadata": {},
   "outputs": [],
   "source": []
  },
  {
   "cell_type": "code",
   "execution_count": null,
   "id": "94c8acbe-03ec-4f05-90ae-7351e526ea01",
   "metadata": {},
   "outputs": [],
   "source": [
    "db_manager.place_order(token='ADA_USDT', exchange='okx', market_type='linear', order_type='market', order_side='buy',\n",
    "                  qty=160, price=0.5927, usdt_amount=94.672, realized_pnl=-0.0025, leverage=1)"
   ]
  },
  {
   "cell_type": "code",
   "execution_count": null,
   "id": "592b8cb3-a3b0-4427-9c00-a64e092742c9",
   "metadata": {},
   "outputs": [],
   "source": [
    "# db_manager.close_order(token='SUI_USDT', exchange='bybit', market_type='linear', qty=30.0,\n",
    "#                        close_price=2.98, close_usdt_amount=59.6, close_fee=0.021456)"
   ]
  },
  {
   "cell_type": "code",
   "execution_count": null,
   "id": "2c6aea6f-2e16-4cec-84e9-23dca9a7187c",
   "metadata": {},
   "outputs": [],
   "source": []
  },
  {
   "cell_type": "code",
   "execution_count": null,
   "id": "b9238dd7-2112-45a9-81c6-5e426da7144a",
   "metadata": {},
   "outputs": [],
   "source": [
    "current_orders = db_manager.get_table('current_orders')\n",
    "current_orders"
   ]
  },
  {
   "cell_type": "code",
   "execution_count": null,
   "id": "c740dd97-a5ee-4576-8a24-eacd949e55ec",
   "metadata": {},
   "outputs": [],
   "source": [
    "trading_history = db_manager.get_table('trading_history')\n",
    "trading_history"
   ]
  },
  {
   "cell_type": "code",
   "execution_count": null,
   "id": "f469c7f0-670c-4544-a1a1-9d5d61c02fb4",
   "metadata": {},
   "outputs": [],
   "source": [
    "trading_history['profit'].sum()"
   ]
  },
  {
   "cell_type": "code",
   "execution_count": null,
   "id": "ffca8e80-857d-4db5-9b04-be7689d4f185",
   "metadata": {},
   "outputs": [],
   "source": []
  },
  {
   "cell_type": "code",
   "execution_count": null,
   "id": "2e3aa83c-f137-4a0e-ad82-bc90bf63c645",
   "metadata": {},
   "outputs": [],
   "source": []
  },
  {
   "cell_type": "markdown",
   "id": "3132234a-c2b6-445a-ad93-ecd2e17563ac",
   "metadata": {},
   "source": [
    "#### Redis"
   ]
  },
  {
   "cell_type": "code",
   "execution_count": null,
   "id": "f5579903-0e9a-46f0-aad0-13adf05b3e9a",
   "metadata": {},
   "outputs": [],
   "source": [
    "%load_ext autoreload\n",
    "%autoreload 2\n",
    "\n",
    "import redis\n",
    "from redis.exceptions import ConnectionError\n",
    "import polars as pl\n",
    "import pandas as pd\n",
    "from datetime import datetime\n",
    "from decimal import Decimal\n",
    "import orjson\n",
    "import json\n",
    "\n",
    "redis_client = redis.Redis(db=0, decode_responses=True)\n",
    "\n",
    "from jaref_bot.db.redis_manager import RedisManager\n",
    "\n",
    "redis_manager = RedisManager(db_name='orderbooks')\n",
    "\n",
    "try: \n",
    "    redis_client.ping()\n",
    "    print('Сервер Redis запущен')\n",
    "except ConnectionError:\n",
    "    print('Сервер Redis не отвечает')"
   ]
  },
  {
   "cell_type": "code",
   "execution_count": null,
   "id": "58726ae7-3629-432d-89ed-7bfcb0c073ad",
   "metadata": {},
   "outputs": [],
   "source": []
  },
  {
   "cell_type": "code",
   "execution_count": null,
   "id": "e20abdef-12e3-492e-a683-ece5ee5f5fcd",
   "metadata": {},
   "outputs": [],
   "source": [
    "redis_client.flushdb()"
   ]
  },
  {
   "cell_type": "code",
   "execution_count": null,
   "id": "0b7a5cbb-b3e6-458b-8e4d-248c5f57e3a1",
   "metadata": {},
   "outputs": [],
   "source": [
    "redis_client.keys()"
   ]
  },
  {
   "cell_type": "code",
   "execution_count": null,
   "id": "74877451-3295-4d7c-83d2-765dfeb0acd2",
   "metadata": {},
   "outputs": [],
   "source": [
    "ts = redis_client.hget(\"orderbook:bybit:linear:ZBCN_USDT:update_time\", 'cts')\n",
    "datetime.fromtimestamp(ts)"
   ]
  },
  {
   "cell_type": "code",
   "execution_count": null,
   "id": "da91ee33-125f-4144-aba1-f721f2199a2f",
   "metadata": {},
   "outputs": [],
   "source": [
    "redis_client.hgetall(\"orderbook:bybit:linear:ZBCN_USDT\")"
   ]
  },
  {
   "cell_type": "code",
   "execution_count": null,
   "id": "f5d601fd-3bb1-40b4-84af-04eb2c6a80c0",
   "metadata": {},
   "outputs": [],
   "source": []
  },
  {
   "cell_type": "code",
   "execution_count": null,
   "id": "ce1e2419-d4f9-43fe-9602-011642566334",
   "metadata": {},
   "outputs": [],
   "source": [
    "dd = redis_manager.get_orderbooks(1)\n",
    "dd"
   ]
  },
  {
   "cell_type": "code",
   "execution_count": null,
   "id": "5e78e6bd-2ee0-43bd-8635-e89d2e37d6a2",
   "metadata": {},
   "outputs": [],
   "source": []
  },
  {
   "cell_type": "code",
   "execution_count": null,
   "id": "aa2688c4-03c0-48a6-841b-3d31a55978b1",
   "metadata": {},
   "outputs": [],
   "source": []
  }
 ],
 "metadata": {
  "kernelspec": {
   "display_name": "Python 3 (ipykernel)",
   "language": "python",
   "name": "python3"
  },
  "language_info": {
   "codemirror_mode": {
    "name": "ipython",
    "version": 3
   },
   "file_extension": ".py",
   "mimetype": "text/x-python",
   "name": "python",
   "nbconvert_exporter": "python",
   "pygments_lexer": "ipython3",
   "version": "3.13.5"
  }
 },
 "nbformat": 4,
 "nbformat_minor": 5
}
